{
 "cells": [
  {
   "attachments": {},
   "cell_type": "markdown",
   "metadata": {},
   "source": [
    "# Customize output format in prompt"
   ]
  },
  {
   "attachments": {},
   "cell_type": "markdown",
   "metadata": {},
   "source": [
    "## Load model"
   ]
  },
  {
   "cell_type": "code",
   "execution_count": 1,
   "metadata": {},
   "outputs": [
    {
     "data": {
      "text/plain": [
       "ChatOpenAI(client=<openai.resources.chat.completions.completions.Completions object at 0xffff4358a0f0>, async_client=<openai.resources.chat.completions.completions.AsyncCompletions object at 0xffff435a8590>, root_client=<openai.OpenAI object at 0xffff43b77c20>, root_async_client=<openai.AsyncOpenAI object at 0xffff4358a150>, model_name='gpt-4o-search-preview', model_kwargs={}, openai_api_key=SecretStr('**********'))"
      ]
     },
     "execution_count": 1,
     "metadata": {},
     "output_type": "execute_result"
    }
   ],
   "source": [
    "from langchain_openai import ChatOpenAI\n",
    "model = ChatOpenAI(model=\"gpt-4o-search-preview\")\n",
    "\n",
    "model"
   ]
  },
  {
   "attachments": {},
   "cell_type": "markdown",
   "metadata": {},
   "source": [
    "## Load prompt"
   ]
  },
  {
   "cell_type": "code",
   "execution_count": 2,
   "metadata": {},
   "outputs": [
    {
     "data": {
      "text/plain": [
       "PromptTemplate(input_variables=['FREQUENCY', 'TABLE', 'TICKER'], input_types={}, partial_variables={}, template='La siguiente tabla muestra los retornos del activo financiero con ticker {TICKER}, calculados como la variación porcentual entre el precio de cierre de cada fecha y el de la fecha inmediatamente anterior registrada en la tabla. La frecuencia aplicada al cálculo ha sido definida como {FREQUENCY} (por ejemplo: diaria D, mensual M, trimestral Q o anual Y).\\n\\nTABLA:\\n\\n{TABLE}\\n\\nExplica los motivos detrás de los valores más extremos (tanto positivos como negativos), utilizando noticias relevantes que puedan justificar dichos movimientos. Para cada valor, proporciona una explicación fundamentada, la fecha de publicación de la noticia y un enlace a la fuente.')"
      ]
     },
     "execution_count": 2,
     "metadata": {},
     "output_type": "execute_result"
    }
   ],
   "source": [
    "from langchain_core.prompts import load_prompt\n",
    "prompt = load_prompt(path='../prompts/ES.json')\n",
    "\n",
    "prompt"
   ]
  },
  {
   "attachments": {},
   "cell_type": "markdown",
   "metadata": {},
   "source": [
    "## Custom Output Parser"
   ]
  },
  {
   "attachments": {},
   "cell_type": "markdown",
   "metadata": {},
   "source": [
    "### Create Pydantic model"
   ]
  },
  {
   "cell_type": "code",
   "execution_count": 3,
   "metadata": {},
   "outputs": [],
   "source": [
    "from pydantic import BaseModel, Field\n",
    "\n",
    "class News(BaseModel):\n",
    "    stock: str = Field(description=\"stock symbol\")\n",
    "    date: str = Field(description=\"date of the news\")\n",
    "    value: float = Field(description=\"significant acumulated return value of the stock\")\n",
    "    title: str = Field(description=\"title of the news\")\n",
    "    url: str = Field(description=\"url of the news\")\n",
    "    source: str = Field(description=\"source of the news\")\n",
    "    explanation: str = Field(description=\"explanation of the news relevance to the stock\")\n",
    "    \n",
    "class NewsList(BaseModel):\n",
    "    news: list[News] = Field(description=\"list of news\")"
   ]
  },
  {
   "attachments": {},
   "cell_type": "markdown",
   "metadata": {},
   "source": [
    "### Associate Pydantic model with parser"
   ]
  },
  {
   "cell_type": "code",
   "execution_count": 4,
   "metadata": {},
   "outputs": [
    {
     "data": {
      "text/plain": [
       "PydanticOutputParser(pydantic_object=<class '__main__.NewsList'>)"
      ]
     },
     "execution_count": 4,
     "metadata": {},
     "output_type": "execute_result"
    }
   ],
   "source": [
    "from langchain_core.output_parsers import PydanticOutputParser\n",
    "parser = PydanticOutputParser(pydantic_object=NewsList)\n",
    "\n",
    "parser"
   ]
  },
  {
   "attachments": {},
   "cell_type": "markdown",
   "metadata": {},
   "source": [
    "### Add parser to prompt"
   ]
  },
  {
   "cell_type": "code",
   "execution_count": 5,
   "metadata": {},
   "outputs": [
    {
     "data": {
      "text/plain": [
       "'La siguiente tabla muestra los retornos del activo financiero con ticker {TICKER}, calculados como la variación porcentual entre el precio de cierre de cada fecha y el de la fecha inmediatamente anterior registrada en la tabla. La frecuencia aplicada al cálculo ha sido definida como {FREQUENCY} (por ejemplo: diaria D, mensual M, trimestral Q o anual Y).\\n\\nTABLA:\\n\\n{TABLE}\\n\\nExplica los motivos detrás de los valores más extremos (tanto positivos como negativos), utilizando noticias relevantes que puedan justificar dichos movimientos. Para cada valor, proporciona una explicación fundamentada, la fecha de publicación de la noticia y un enlace a la fuente.\\n\\n{format_instructions}\\n'"
      ]
     },
     "execution_count": 5,
     "metadata": {},
     "output_type": "execute_result"
    }
   ],
   "source": [
    "prompt.template = prompt.template + '\\n\\n{format_instructions}\\n'\n",
    "prompt.template "
   ]
  },
  {
   "cell_type": "code",
   "execution_count": 6,
   "metadata": {},
   "outputs": [
    {
     "data": {
      "text/plain": [
       "PromptTemplate(input_variables=['FREQUENCY', 'TABLE', 'TICKER'], input_types={}, partial_variables={'format_instructions': 'The output should be formatted as a JSON instance that conforms to the JSON schema below.\\n\\nAs an example, for the schema {\"properties\": {\"foo\": {\"title\": \"Foo\", \"description\": \"a list of strings\", \"type\": \"array\", \"items\": {\"type\": \"string\"}}}, \"required\": [\"foo\"]}\\nthe object {\"foo\": [\"bar\", \"baz\"]} is a well-formatted instance of the schema. The object {\"properties\": {\"foo\": [\"bar\", \"baz\"]}} is not well-formatted.\\n\\nHere is the output schema:\\n```\\n{\"$defs\": {\"News\": {\"properties\": {\"stock\": {\"description\": \"stock symbol\", \"title\": \"Stock\", \"type\": \"string\"}, \"date\": {\"description\": \"date of the news\", \"title\": \"Date\", \"type\": \"string\"}, \"value\": {\"description\": \"significant acumulated return value of the stock\", \"title\": \"Value\", \"type\": \"number\"}, \"title\": {\"description\": \"title of the news\", \"title\": \"Title\", \"type\": \"string\"}, \"url\": {\"description\": \"url of the news\", \"title\": \"Url\", \"type\": \"string\"}, \"source\": {\"description\": \"source of the news\", \"title\": \"Source\", \"type\": \"string\"}, \"explanation\": {\"description\": \"explanation of the news relevance to the stock\", \"title\": \"Explanation\", \"type\": \"string\"}}, \"required\": [\"stock\", \"date\", \"value\", \"title\", \"url\", \"source\", \"explanation\"], \"title\": \"News\", \"type\": \"object\"}}, \"properties\": {\"news\": {\"description\": \"list of news\", \"items\": {\"$ref\": \"#/$defs/News\"}, \"title\": \"News\", \"type\": \"array\"}}, \"required\": [\"news\"]}\\n```'}, template='La siguiente tabla muestra los retornos del activo financiero con ticker {TICKER}, calculados como la variación porcentual entre el precio de cierre de cada fecha y el de la fecha inmediatamente anterior registrada en la tabla. La frecuencia aplicada al cálculo ha sido definida como {FREQUENCY} (por ejemplo: diaria D, mensual M, trimestral Q o anual Y).\\n\\nTABLA:\\n\\n{TABLE}\\n\\nExplica los motivos detrás de los valores más extremos (tanto positivos como negativos), utilizando noticias relevantes que puedan justificar dichos movimientos. Para cada valor, proporciona una explicación fundamentada, la fecha de publicación de la noticia y un enlace a la fuente.\\n\\n{format_instructions}\\n')"
      ]
     },
     "execution_count": 6,
     "metadata": {},
     "output_type": "execute_result"
    }
   ],
   "source": [
    "prompt.partial_variables.update({\"format_instructions\": parser.get_format_instructions()})\n",
    "prompt"
   ]
  },
  {
   "attachments": {},
   "cell_type": "markdown",
   "metadata": {},
   "source": [
    "## Chain"
   ]
  },
  {
   "attachments": {},
   "cell_type": "markdown",
   "metadata": {},
   "source": [
    "### Define chain"
   ]
  },
  {
   "cell_type": "code",
   "execution_count": 7,
   "metadata": {},
   "outputs": [
    {
     "data": {
      "text/plain": [
       "PromptTemplate(input_variables=['FREQUENCY', 'TABLE', 'TICKER'], input_types={}, partial_variables={'format_instructions': 'The output should be formatted as a JSON instance that conforms to the JSON schema below.\\n\\nAs an example, for the schema {\"properties\": {\"foo\": {\"title\": \"Foo\", \"description\": \"a list of strings\", \"type\": \"array\", \"items\": {\"type\": \"string\"}}}, \"required\": [\"foo\"]}\\nthe object {\"foo\": [\"bar\", \"baz\"]} is a well-formatted instance of the schema. The object {\"properties\": {\"foo\": [\"bar\", \"baz\"]}} is not well-formatted.\\n\\nHere is the output schema:\\n```\\n{\"$defs\": {\"News\": {\"properties\": {\"stock\": {\"description\": \"stock symbol\", \"title\": \"Stock\", \"type\": \"string\"}, \"date\": {\"description\": \"date of the news\", \"title\": \"Date\", \"type\": \"string\"}, \"value\": {\"description\": \"significant acumulated return value of the stock\", \"title\": \"Value\", \"type\": \"number\"}, \"title\": {\"description\": \"title of the news\", \"title\": \"Title\", \"type\": \"string\"}, \"url\": {\"description\": \"url of the news\", \"title\": \"Url\", \"type\": \"string\"}, \"source\": {\"description\": \"source of the news\", \"title\": \"Source\", \"type\": \"string\"}, \"explanation\": {\"description\": \"explanation of the news relevance to the stock\", \"title\": \"Explanation\", \"type\": \"string\"}}, \"required\": [\"stock\", \"date\", \"value\", \"title\", \"url\", \"source\", \"explanation\"], \"title\": \"News\", \"type\": \"object\"}}, \"properties\": {\"news\": {\"description\": \"list of news\", \"items\": {\"$ref\": \"#/$defs/News\"}, \"title\": \"News\", \"type\": \"array\"}}, \"required\": [\"news\"]}\\n```'}, template='La siguiente tabla muestra los retornos del activo financiero con ticker {TICKER}, calculados como la variación porcentual entre el precio de cierre de cada fecha y el de la fecha inmediatamente anterior registrada en la tabla. La frecuencia aplicada al cálculo ha sido definida como {FREQUENCY} (por ejemplo: diaria D, mensual M, trimestral Q o anual Y).\\n\\nTABLA:\\n\\n{TABLE}\\n\\nExplica los motivos detrás de los valores más extremos (tanto positivos como negativos), utilizando noticias relevantes que puedan justificar dichos movimientos. Para cada valor, proporciona una explicación fundamentada, la fecha de publicación de la noticia y un enlace a la fuente.\\n\\n{format_instructions}\\n')\n",
       "| ChatOpenAI(client=<openai.resources.chat.completions.completions.Completions object at 0xffff4358a0f0>, async_client=<openai.resources.chat.completions.completions.AsyncCompletions object at 0xffff435a8590>, root_client=<openai.OpenAI object at 0xffff43b77c20>, root_async_client=<openai.AsyncOpenAI object at 0xffff4358a150>, model_name='gpt-4o-search-preview', model_kwargs={}, openai_api_key=SecretStr('**********'))\n",
       "| PydanticOutputParser(pydantic_object=<class '__main__.NewsList'>)"
      ]
     },
     "execution_count": 7,
     "metadata": {},
     "output_type": "execute_result"
    }
   ],
   "source": [
    "chain = prompt | model | parser\n",
    "chain"
   ]
  },
  {
   "attachments": {},
   "cell_type": "markdown",
   "metadata": {},
   "source": [
    "### Preprocess input data"
   ]
  },
  {
   "cell_type": "code",
   "execution_count": 8,
   "metadata": {},
   "outputs": [],
   "source": [
    "ticker = 'AAPL'\n",
    "freq = 'D'"
   ]
  },
  {
   "cell_type": "code",
   "execution_count": null,
   "metadata": {},
   "outputs": [
    {
     "name": "stdout",
     "output_type": "stream",
     "text": [
      "YF.download() has changed argument auto_adjust default to True\n"
     ]
    },
    {
     "name": "stderr",
     "output_type": "stream",
     "text": [
      "[*********************100%***********************]  1 of 1 completed\n"
     ]
    },
    {
     "data": {
      "text/html": [
       "<div>\n",
       "<style scoped>\n",
       "    .dataframe tbody tr th:only-of-type {\n",
       "        vertical-align: middle;\n",
       "    }\n",
       "\n",
       "    .dataframe tbody tr th {\n",
       "        vertical-align: top;\n",
       "    }\n",
       "\n",
       "    .dataframe thead th {\n",
       "        text-align: right;\n",
       "    }\n",
       "</style>\n",
       "<table border=\"1\" class=\"dataframe\">\n",
       "  <thead>\n",
       "    <tr style=\"text-align: right;\">\n",
       "      <th></th>\n",
       "      <th>AAPL</th>\n",
       "    </tr>\n",
       "    <tr>\n",
       "      <th>Date</th>\n",
       "      <th></th>\n",
       "    </tr>\n",
       "  </thead>\n",
       "  <tbody>\n",
       "    <tr>\n",
       "      <th>2024-06-11</th>\n",
       "      <td>7.264912</td>\n",
       "    </tr>\n",
       "    <tr>\n",
       "      <th>2024-05-03</th>\n",
       "      <td>5.981623</td>\n",
       "    </tr>\n",
       "    <tr>\n",
       "      <th>2024-08-05</th>\n",
       "      <td>-4.816698</td>\n",
       "    </tr>\n",
       "    <tr>\n",
       "      <th>2024-04-11</th>\n",
       "      <td>4.327092</td>\n",
       "    </tr>\n",
       "    <tr>\n",
       "      <th>2024-03-21</th>\n",
       "      <td>-4.085749</td>\n",
       "    </tr>\n",
       "  </tbody>\n",
       "</table>\n",
       "</div>"
      ],
      "text/plain": [
       "                AAPL\n",
       "Date                \n",
       "2024-06-11  7.264912\n",
       "2024-05-03  5.981623\n",
       "2024-08-05 -4.816698\n",
       "2024-04-11  4.327092\n",
       "2024-03-21 -4.085749"
      ]
     },
     "execution_count": 9,
     "metadata": {},
     "output_type": "execute_result"
    }
   ],
   "source": [
    "import utils\n",
    "\n",
    "df = utils.calculate_significant_returns_simple(\n",
    "    ticker=ticker,\n",
    "    start='2024-01-01',\n",
    "    end='2024-12-31',\n",
    "    freq='D',\n",
    "    n=5\n",
    ")\n",
    "\n",
    "df"
   ]
  },
  {
   "attachments": {},
   "cell_type": "markdown",
   "metadata": {},
   "source": [
    "### Invoke chain"
   ]
  },
  {
   "cell_type": "code",
   "execution_count": 10,
   "metadata": {},
   "outputs": [
    {
     "data": {
      "text/plain": [
       "PromptTemplate(input_variables=['FREQUENCY', 'TABLE', 'TICKER'], input_types={}, partial_variables={'format_instructions': 'The output should be formatted as a JSON instance that conforms to the JSON schema below.\\n\\nAs an example, for the schema {\"properties\": {\"foo\": {\"title\": \"Foo\", \"description\": \"a list of strings\", \"type\": \"array\", \"items\": {\"type\": \"string\"}}}, \"required\": [\"foo\"]}\\nthe object {\"foo\": [\"bar\", \"baz\"]} is a well-formatted instance of the schema. The object {\"properties\": {\"foo\": [\"bar\", \"baz\"]}} is not well-formatted.\\n\\nHere is the output schema:\\n```\\n{\"$defs\": {\"News\": {\"properties\": {\"stock\": {\"description\": \"stock symbol\", \"title\": \"Stock\", \"type\": \"string\"}, \"date\": {\"description\": \"date of the news\", \"title\": \"Date\", \"type\": \"string\"}, \"value\": {\"description\": \"significant acumulated return value of the stock\", \"title\": \"Value\", \"type\": \"number\"}, \"title\": {\"description\": \"title of the news\", \"title\": \"Title\", \"type\": \"string\"}, \"url\": {\"description\": \"url of the news\", \"title\": \"Url\", \"type\": \"string\"}, \"source\": {\"description\": \"source of the news\", \"title\": \"Source\", \"type\": \"string\"}, \"explanation\": {\"description\": \"explanation of the news relevance to the stock\", \"title\": \"Explanation\", \"type\": \"string\"}}, \"required\": [\"stock\", \"date\", \"value\", \"title\", \"url\", \"source\", \"explanation\"], \"title\": \"News\", \"type\": \"object\"}}, \"properties\": {\"news\": {\"description\": \"list of news\", \"items\": {\"$ref\": \"#/$defs/News\"}, \"title\": \"News\", \"type\": \"array\"}}, \"required\": [\"news\"]}\\n```'}, template='La siguiente tabla muestra los retornos del activo financiero con ticker {TICKER}, calculados como la variación porcentual entre el precio de cierre de cada fecha y el de la fecha inmediatamente anterior registrada en la tabla. La frecuencia aplicada al cálculo ha sido definida como {FREQUENCY} (por ejemplo: diaria D, mensual M, trimestral Q o anual Y).\\n\\nTABLA:\\n\\n{TABLE}\\n\\nExplica los motivos detrás de los valores más extremos (tanto positivos como negativos), utilizando noticias relevantes que puedan justificar dichos movimientos. Para cada valor, proporciona una explicación fundamentada, la fecha de publicación de la noticia y un enlace a la fuente.\\n\\n{format_instructions}\\n')\n",
       "| ChatOpenAI(client=<openai.resources.chat.completions.completions.Completions object at 0xffff4358a0f0>, async_client=<openai.resources.chat.completions.completions.AsyncCompletions object at 0xffff435a8590>, root_client=<openai.OpenAI object at 0xffff43b77c20>, root_async_client=<openai.AsyncOpenAI object at 0xffff4358a150>, model_name='gpt-4o-search-preview', model_kwargs={}, openai_api_key=SecretStr('**********'))\n",
       "| PydanticOutputParser(pydantic_object=<class '__main__.NewsList'>)"
      ]
     },
     "execution_count": 10,
     "metadata": {},
     "output_type": "execute_result"
    }
   ],
   "source": [
    "chain"
   ]
  },
  {
   "cell_type": "code",
   "execution_count": 11,
   "metadata": {},
   "outputs": [
    {
     "data": {
      "text/plain": [
       "[PromptTemplate(input_variables=['FREQUENCY', 'TABLE', 'TICKER'], input_types={}, partial_variables={'format_instructions': 'The output should be formatted as a JSON instance that conforms to the JSON schema below.\\n\\nAs an example, for the schema {\"properties\": {\"foo\": {\"title\": \"Foo\", \"description\": \"a list of strings\", \"type\": \"array\", \"items\": {\"type\": \"string\"}}}, \"required\": [\"foo\"]}\\nthe object {\"foo\": [\"bar\", \"baz\"]} is a well-formatted instance of the schema. The object {\"properties\": {\"foo\": [\"bar\", \"baz\"]}} is not well-formatted.\\n\\nHere is the output schema:\\n```\\n{\"$defs\": {\"News\": {\"properties\": {\"stock\": {\"description\": \"stock symbol\", \"title\": \"Stock\", \"type\": \"string\"}, \"date\": {\"description\": \"date of the news\", \"title\": \"Date\", \"type\": \"string\"}, \"value\": {\"description\": \"significant acumulated return value of the stock\", \"title\": \"Value\", \"type\": \"number\"}, \"title\": {\"description\": \"title of the news\", \"title\": \"Title\", \"type\": \"string\"}, \"url\": {\"description\": \"url of the news\", \"title\": \"Url\", \"type\": \"string\"}, \"source\": {\"description\": \"source of the news\", \"title\": \"Source\", \"type\": \"string\"}, \"explanation\": {\"description\": \"explanation of the news relevance to the stock\", \"title\": \"Explanation\", \"type\": \"string\"}}, \"required\": [\"stock\", \"date\", \"value\", \"title\", \"url\", \"source\", \"explanation\"], \"title\": \"News\", \"type\": \"object\"}}, \"properties\": {\"news\": {\"description\": \"list of news\", \"items\": {\"$ref\": \"#/$defs/News\"}, \"title\": \"News\", \"type\": \"array\"}}, \"required\": [\"news\"]}\\n```'}, template='La siguiente tabla muestra los retornos del activo financiero con ticker {TICKER}, calculados como la variación porcentual entre el precio de cierre de cada fecha y el de la fecha inmediatamente anterior registrada en la tabla. La frecuencia aplicada al cálculo ha sido definida como {FREQUENCY} (por ejemplo: diaria D, mensual M, trimestral Q o anual Y).\\n\\nTABLA:\\n\\n{TABLE}\\n\\nExplica los motivos detrás de los valores más extremos (tanto positivos como negativos), utilizando noticias relevantes que puedan justificar dichos movimientos. Para cada valor, proporciona una explicación fundamentada, la fecha de publicación de la noticia y un enlace a la fuente.\\n\\n{format_instructions}\\n')]"
      ]
     },
     "execution_count": 11,
     "metadata": {},
     "output_type": "execute_result"
    }
   ],
   "source": [
    "chain.get_prompts()"
   ]
  },
  {
   "cell_type": "code",
   "execution_count": 12,
   "metadata": {},
   "outputs": [],
   "source": [
    "output = chain.invoke({\"TABLE\": df, \"TICKER\": ticker, \"FREQUENCY\": freq})"
   ]
  },
  {
   "cell_type": "code",
   "execution_count": 13,
   "metadata": {},
   "outputs": [
    {
     "data": {
      "text/plain": [
       "{'news': [{'stock': 'AAPL',\n",
       "   'date': '2024-06-11',\n",
       "   'value': 7.264912,\n",
       "   'title': \"Apple's Stock Price Reaches All-Time High After WWDC Announcements\",\n",
       "   'url': 'https://www.macrumors.com/2024/06/11/aapl-all-time-high-wwdc-2024/',\n",
       "   'source': 'MacRumors',\n",
       "   'explanation': \"El 11 de junio de 2024, las acciones de Apple subieron un 7.26% alcanzando un máximo histórico tras el anuncio de 'Apple Intelligence', una suite de funciones de IA integradas en iOS 18, iPadOS 18 y macOS Sequoia, durante la WWDC. Esta integración de IA generativa y la asociación con OpenAI para mejorar la experiencia del usuario generaron optimismo entre los inversores sobre un nuevo ciclo de actualización de iPhones.\"},\n",
       "  {'stock': 'AAPL',\n",
       "   'date': '2024-08-05',\n",
       "   'value': -4.816698,\n",
       "   'title': 'Apple Stock Declines Amid Concerns Over AI Integration Challenges',\n",
       "   'url': 'https://www.investorplace.com/2024/06/apple-stock-hits-all-time-highs-on-ai-news-time-to-take-profits/',\n",
       "   'source': 'InvestorPlace',\n",
       "   'explanation': 'El 5 de agosto de 2024, las acciones de Apple cayeron un 4.82% debido a preocupaciones sobre los desafíos en la integración de las nuevas funciones de IA y la posibilidad de que los consumidores no adopten rápidamente los iPhones mejorados con IA. Los inversores también estaban reevaluando las expectativas de crecimiento tras el entusiasmo inicial por los anuncios de IA en la WWDC.'}]}"
      ]
     },
     "execution_count": 13,
     "metadata": {},
     "output_type": "execute_result"
    }
   ],
   "source": [
    "data = output.model_dump()\n",
    "data"
   ]
  },
  {
   "cell_type": "code",
   "execution_count": null,
   "metadata": {},
   "outputs": [
    {
     "data": {
      "text/html": [
       "<style type=\"text/css\">\n",
       "</style>\n",
       "<table id=\"T_cf583\">\n",
       "  <thead>\n",
       "    <tr>\n",
       "      <th class=\"blank level0\" >&nbsp;</th>\n",
       "      <th id=\"T_cf583_level0_col0\" class=\"col_heading level0 col0\" >stock</th>\n",
       "      <th id=\"T_cf583_level0_col1\" class=\"col_heading level0 col1\" >date</th>\n",
       "      <th id=\"T_cf583_level0_col2\" class=\"col_heading level0 col2\" >value</th>\n",
       "      <th id=\"T_cf583_level0_col3\" class=\"col_heading level0 col3\" >title</th>\n",
       "      <th id=\"T_cf583_level0_col4\" class=\"col_heading level0 col4\" >url</th>\n",
       "      <th id=\"T_cf583_level0_col5\" class=\"col_heading level0 col5\" >source</th>\n",
       "      <th id=\"T_cf583_level0_col6\" class=\"col_heading level0 col6\" >explanation</th>\n",
       "    </tr>\n",
       "  </thead>\n",
       "  <tbody>\n",
       "    <tr>\n",
       "      <th id=\"T_cf583_level0_row0\" class=\"row_heading level0 row0\" >0</th>\n",
       "      <td id=\"T_cf583_row0_col0\" class=\"data row0 col0\" >AAPL</td>\n",
       "      <td id=\"T_cf583_row0_col1\" class=\"data row0 col1\" >2024-01-03</td>\n",
       "      <td id=\"T_cf583_row0_col2\" class=\"data row0 col2\" >-4.000000</td>\n",
       "      <td id=\"T_cf583_row0_col3\" class=\"data row0 col3\" >Apple pierde 100.000 millones en bolsa en un solo día, más que el valor de Airbnb o Iberdrola</td>\n",
       "      <td id=\"T_cf583_row0_col4\" class=\"data row0 col4\" >https://www.businessinsider.es/economia/apple-empieza-mal-2024-pierde-100000-millones-bolsa-solo-dia-1353976</td>\n",
       "      <td id=\"T_cf583_row0_col5\" class=\"data row0 col5\" >Business Insider España</td>\n",
       "      <td id=\"T_cf583_row0_col6\" class=\"data row0 col6\" >El 3 de enero de 2024, las acciones de Apple cayeron un 4% después de que Barclays rebajara su calificación a 'infraponderar', citando ventas mediocres del iPhone 15 en China y una falta de recuperación en las ventas de Macs, iPads y wearables. Esta caída redujo la capitalización bursátil de Apple en más de 100.000 millones de dólares.</td>\n",
       "    </tr>\n",
       "    <tr>\n",
       "      <th id=\"T_cf583_level0_row1\" class=\"row_heading level0 row1\" >1</th>\n",
       "      <td id=\"T_cf583_row1_col0\" class=\"data row1 col0\" >AAPL</td>\n",
       "      <td id=\"T_cf583_row1_col1\" class=\"data row1 col1\" >2024-03-21</td>\n",
       "      <td id=\"T_cf583_row1_col2\" class=\"data row1 col2\" >-3.700000</td>\n",
       "      <td id=\"T_cf583_row1_col3\" class=\"data row1 col3\" >Las acciones de Apple cayeron un 4% después de la demanda de Estados Unidos a la compañía por monopolio</td>\n",
       "      <td id=\"T_cf583_row1_col4\" class=\"data row1 col4\" >https://www.infobae.com/estados-unidos/2024/03/22/las-acciones-de-apple-cayeron-un-37-despues-de-la-demanda-de-estados-unidos-a-la-compania-por-monopolio/</td>\n",
       "      <td id=\"T_cf583_row1_col5\" class=\"data row1 col5\" >Infobae</td>\n",
       "      <td id=\"T_cf583_row1_col6\" class=\"data row1 col6\" >El 21 de marzo de 2024, el Departamento de Justicia de Estados Unidos presentó una demanda contra Apple, alegando que la compañía había creado un monopolio en el mercado de los teléfonos inteligentes con su modelo iPhone. Tras el anuncio, las acciones de Apple cayeron un 3,7%.</td>\n",
       "    </tr>\n",
       "  </tbody>\n",
       "</table>\n"
      ],
      "text/plain": [
       "<pandas.io.formats.style.Styler at 0xffff378519a0>"
      ]
     },
     "execution_count": 19,
     "metadata": {},
     "output_type": "execute_result"
    }
   ],
   "source": [
    "import pandas as pd\n",
    "pd.DataFrame(data['news']).style"
   ]
  }
 ],
 "metadata": {
  "kernelspec": {
   "display_name": "Python 3",
   "language": "python",
   "name": "python3"
  },
  "language_info": {
   "codemirror_mode": {
    "name": "ipython",
    "version": 3
   },
   "file_extension": ".py",
   "mimetype": "text/x-python",
   "name": "python",
   "nbconvert_exporter": "python",
   "pygments_lexer": "ipython3",
   "version": "3.12.9"
  },
  "orig_nbformat": 4
 },
 "nbformat": 4,
 "nbformat_minor": 2
}
