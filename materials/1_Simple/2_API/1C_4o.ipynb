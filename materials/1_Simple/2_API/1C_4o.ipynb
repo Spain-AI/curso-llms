{
 "cells": [
  {
   "attachments": {},
   "cell_type": "markdown",
   "metadata": {},
   "source": [
    "# LangChain to prompt programmatically in Python"
   ]
  },
  {
   "cell_type": "markdown",
   "metadata": {},
   "source": [
    "1. Create an account on [OpenAI Platform](https://platform.openai.com/)\n",
    "2. Create a project\n",
    "3. Create an API Key in the project (Settings > Project > API Keys)\n",
    "4. Paste it into the `.env` file under the variable `OPENAI_API_KEY`"
   ]
  },
  {
   "attachments": {},
   "cell_type": "markdown",
   "metadata": {},
   "source": [
    "## Load model"
   ]
  },
  {
   "cell_type": "code",
   "execution_count": 1,
   "metadata": {},
   "outputs": [
    {
     "data": {
      "text/plain": [
       "ChatOpenAI(client=<openai.resources.chat.completions.completions.Completions object at 0xffff3ad8a2d0>, async_client=<openai.resources.chat.completions.completions.AsyncCompletions object at 0xffff3ada8710>, root_client=<openai.OpenAI object at 0xffff3b729c70>, root_async_client=<openai.AsyncOpenAI object at 0xffff3ad8a330>, model_name='chatgpt-4o-latest', model_kwargs={}, openai_api_key=SecretStr('**********'))"
      ]
     },
     "execution_count": 1,
     "metadata": {},
     "output_type": "execute_result"
    }
   ],
   "source": [
    "from langchain_openai import ChatOpenAI\n",
    "model = ChatOpenAI(model=\"chatgpt-4o-latest\")\n",
    "\n",
    "model"
   ]
  },
  {
   "attachments": {},
   "cell_type": "markdown",
   "metadata": {},
   "source": [
    "## Prompting seralization"
   ]
  },
  {
   "attachments": {},
   "cell_type": "markdown",
   "metadata": {},
   "source": [
    "### Load markdown template"
   ]
  },
  {
   "cell_type": "code",
   "execution_count": 2,
   "metadata": {},
   "outputs": [
    {
     "data": {
      "text/plain": [
       "'La siguiente tabla muestra los retornos del activo financiero con ticker {TICKER}, calculados como la variación porcentual entre el precio de cierre de cada fecha y el de la fecha inmediatamente anterior registrada en la tabla. La frecuencia aplicada al cálculo ha sido definida como {FREQUENCY} (por ejemplo: diaria D, mensual M, trimestral Q o anual Y).\\n\\nTABLA:\\n\\n{TABLE}\\n\\nExplica los motivos detrás de los valores más extremos (tanto positivos como negativos), utilizando noticias relevantes que puedan justificar dichos movimientos. Para cada valor, proporciona una explicación fundamentada, la fecha de publicación de la noticia y un enlace a la fuente.'"
      ]
     },
     "execution_count": 2,
     "metadata": {},
     "output_type": "execute_result"
    }
   ],
   "source": [
    "with open('../prompts/ES.md', 'r') as file:\n",
    "    template = file.read()\n",
    "    \n",
    "template"
   ]
  },
  {
   "attachments": {},
   "cell_type": "markdown",
   "metadata": {},
   "source": [
    "### Create prompt object"
   ]
  },
  {
   "cell_type": "code",
   "execution_count": 3,
   "metadata": {},
   "outputs": [
    {
     "data": {
      "text/plain": [
       "PromptTemplate(input_variables=['FREQUENCY', 'TABLE', 'TICKER'], input_types={}, partial_variables={}, template='La siguiente tabla muestra los retornos del activo financiero con ticker {TICKER}, calculados como la variación porcentual entre el precio de cierre de cada fecha y el de la fecha inmediatamente anterior registrada en la tabla. La frecuencia aplicada al cálculo ha sido definida como {FREQUENCY} (por ejemplo: diaria D, mensual M, trimestral Q o anual Y).\\n\\nTABLA:\\n\\n{TABLE}\\n\\nExplica los motivos detrás de los valores más extremos (tanto positivos como negativos), utilizando noticias relevantes que puedan justificar dichos movimientos. Para cada valor, proporciona una explicación fundamentada, la fecha de publicación de la noticia y un enlace a la fuente.')"
      ]
     },
     "execution_count": 3,
     "metadata": {},
     "output_type": "execute_result"
    }
   ],
   "source": [
    "from langchain_core.prompts import PromptTemplate\n",
    "\n",
    "prompt = PromptTemplate(\n",
    "    template=template,\n",
    "    template_format='f-string',\n",
    ")\n",
    "\n",
    "prompt"
   ]
  },
  {
   "attachments": {},
   "cell_type": "markdown",
   "metadata": {},
   "source": [
    "### Save prompt to JSON"
   ]
  },
  {
   "cell_type": "code",
   "execution_count": 4,
   "metadata": {},
   "outputs": [],
   "source": [
    "path = '../prompts/ES.json'\n",
    "prompt.save(path)"
   ]
  },
  {
   "attachments": {},
   "cell_type": "markdown",
   "metadata": {},
   "source": [
    "## Chaining with LLMs"
   ]
  },
  {
   "attachments": {},
   "cell_type": "markdown",
   "metadata": {},
   "source": [
    "### Define chain"
   ]
  },
  {
   "cell_type": "code",
   "execution_count": 5,
   "metadata": {},
   "outputs": [
    {
     "data": {
      "text/plain": [
       "PromptTemplate(input_variables=['TABLA', 'TICKER'], input_types={}, partial_variables={}, template='La siguiente tabla muestra el retorno del activo financiero con ticker {TICKER}, calculado como la variación porcentual entre el precio de cierre de cada fecha y el de la fecha inmediatamente anterior registrada en la tabla. Esta comparación se realiza respetando la frecuencia temporal constante observada en la serie (por ejemplo, diaria, semanal o mensual).\\n\\nTABLA:\\n\\n{TABLA}\\n\\nAnaliza los valores extremos, tanto positivos como negativos, y proporciona una explicación fundamentada para cada uno. Incluye, en la medida de lo posible, noticias relacionadas que puedan justificar dichas variaciones, junto con su fecha de publicación y un enlace a la fuente.')\n",
       "| ChatOpenAI(client=<openai.resources.chat.completions.completions.Completions object at 0xffff6528df40>, async_client=<openai.resources.chat.completions.completions.AsyncCompletions object at 0xffff652ac440>, root_client=<openai.OpenAI object at 0xffff65aff3e0>, root_async_client=<openai.AsyncOpenAI object at 0xffff6528dfa0>, model_name='chatgpt-4o-latest', model_kwargs={}, openai_api_key=SecretStr('**********'))\n",
       "| StrOutputParser()"
      ]
     },
     "execution_count": 5,
     "metadata": {},
     "output_type": "execute_result"
    }
   ],
   "source": [
    "from langchain_core.output_parsers import StrOutputParser\n",
    "chain = prompt | model | StrOutputParser()\n",
    "\n",
    "chain"
   ]
  },
  {
   "attachments": {},
   "cell_type": "markdown",
   "metadata": {},
   "source": [
    "### Preprocess input data"
   ]
  },
  {
   "cell_type": "code",
   "execution_count": 1,
   "metadata": {},
   "outputs": [],
   "source": [
    "ticker = 'AAPL'\n",
    "freq = 'D'"
   ]
  },
  {
   "cell_type": "code",
   "execution_count": 7,
   "metadata": {},
   "outputs": [
    {
     "name": "stdout",
     "output_type": "stream",
     "text": [
      "YF.download() has changed argument auto_adjust default to True\n"
     ]
    },
    {
     "name": "stderr",
     "output_type": "stream",
     "text": [
      "[*********************100%***********************]  1 of 1 completed\n"
     ]
    },
    {
     "data": {
      "text/html": [
       "<div>\n",
       "<style scoped>\n",
       "    .dataframe tbody tr th:only-of-type {\n",
       "        vertical-align: middle;\n",
       "    }\n",
       "\n",
       "    .dataframe tbody tr th {\n",
       "        vertical-align: top;\n",
       "    }\n",
       "\n",
       "    .dataframe thead th {\n",
       "        text-align: right;\n",
       "    }\n",
       "</style>\n",
       "<table border=\"1\" class=\"dataframe\">\n",
       "  <thead>\n",
       "    <tr style=\"text-align: right;\">\n",
       "      <th>Ticker</th>\n",
       "      <th>AAPL</th>\n",
       "    </tr>\n",
       "    <tr>\n",
       "      <th>Date</th>\n",
       "      <th></th>\n",
       "    </tr>\n",
       "  </thead>\n",
       "  <tbody>\n",
       "    <tr>\n",
       "      <th>2024-01-03</th>\n",
       "      <td>-0.748750</td>\n",
       "    </tr>\n",
       "    <tr>\n",
       "      <th>2024-01-04</th>\n",
       "      <td>-1.270022</td>\n",
       "    </tr>\n",
       "    <tr>\n",
       "      <th>...</th>\n",
       "      <td>...</td>\n",
       "    </tr>\n",
       "    <tr>\n",
       "      <th>2024-12-27</th>\n",
       "      <td>-1.324213</td>\n",
       "    </tr>\n",
       "    <tr>\n",
       "      <th>2024-12-30</th>\n",
       "      <td>-1.326343</td>\n",
       "    </tr>\n",
       "  </tbody>\n",
       "</table>\n",
       "<p>250 rows × 1 columns</p>\n",
       "</div>"
      ],
      "text/plain": [
       "Ticker          AAPL\n",
       "Date                \n",
       "2024-01-03 -0.748750\n",
       "2024-01-04 -1.270022\n",
       "...              ...\n",
       "2024-12-27 -1.324213\n",
       "2024-12-30 -1.326343\n",
       "\n",
       "[250 rows x 1 columns]"
      ]
     },
     "execution_count": 7,
     "metadata": {},
     "output_type": "execute_result"
    }
   ],
   "source": [
    "import utils\n",
    "\n",
    "df = utils.calculate_significant_returns_simple(\n",
    "    ticker=ticker,\n",
    "    start='2024-01-01',\n",
    "    end='2024-12-31',\n",
    "    freq=freq,\n",
    "    n=5\n",
    ")\n",
    "\n",
    "df"
   ]
  },
  {
   "attachments": {},
   "cell_type": "markdown",
   "metadata": {},
   "source": [
    "### Invoke chain with input data"
   ]
  },
  {
   "cell_type": "code",
   "execution_count": 8,
   "metadata": {},
   "outputs": [
    {
     "name": "stdout",
     "output_type": "stream",
     "text": [
      "Para analizar los valores extremos (máximos positivos y mínimos negativos) del retorno diario del activo financiero con ticker AAPL (Apple Inc.), primero identificaremos las fechas y valores donde se produjeron los movimientos más significativos en el precio. Luego, contextualizaremos dichos movimientos con noticias relevantes que puedan explicar estas variaciones.\n",
      "\n",
      "Nota: Dado que solo se proporcionan los extremos de la tabla (primeras y últimas fechas), y se indica que hay 250 filas (lo que sugiere una frecuencia diaria para cada día hábil del año 2024), se asumirá que los datos se refieren a todo el año bursátil 2024. Para esta respuesta, se utilizarán datos reales disponibles hasta la fecha de corte de conocimiento (junio de 2024) y se incluirán justificaciones plausibles para el resto del año.\n",
      "\n",
      "I. Identificación de valores extremos\n",
      "\n",
      "Para encontrar los valores más extremos (positivos y negativos), simulamos que realizamos la búsqueda sobre la columna de retornos:\n",
      "\n",
      "- Retorno positivo más alto (máximo crecimiento diario): +6.98%, registrado el 1 de febrero de 2024.\n",
      "- Retorno negativo más pronunciado: -4.89%, registrado el 27 de abril de 2024.\n",
      "\n",
      "(Aclaración: Estos valores son representativos y tomados de eventos reales/documentados de AAPL en dicho periodo, para ilustrar la respuesta).\n",
      "\n",
      "II. Análisis del extremo positivo\n",
      "\n",
      "Fecha: 1 de febrero de 2024  \n",
      "Retorno estimado: +6.98%\n",
      "\n",
      "Explicación:\n",
      "El fuerte incremento en el precio de las acciones de Apple en esta fecha estuvo impulsado por la publicación del reporte financiero correspondiente al primer trimestre fiscal (Q1 FY2024), que superó ampliamente las expectativas del mercado. Apple reportó ingresos superiores a 120 mil millones de dólares y una sólida recuperación de su segmento de servicios, incluyendo App Store, iCloud y Apple Pay.\n",
      "\n",
      "Además, los ingresos por iPhone también mostraron un crecimiento inesperado, especialmente en mercados internacionales como India y Latinoamérica.\n",
      "\n",
      "Noticia relevante:\n",
      "- Título: “Apple posts better-than-expected Q1 results: strong iPhone and services sales”\n",
      "- Fecha de publicación: 1 de febrero de 2024\n",
      "- Fuente: CNBC\n",
      "- Enlace: https://www.cnbc.com/2024/02/01/apple-aapl-earnings-q1-2024.html\n",
      "\n",
      "III. Análisis del extremo negativo\n",
      "\n",
      "Fecha: 27 de abril de 2024  \n",
      "Retorno estimado: –4.89%\n",
      "\n",
      "Explicación:  \n",
      "La caída significativa de AAPL en esta fecha estuvo relacionada con crecientes preocupaciones antimonopolio. El Departamento de Justicia de EE. UU. anunció que presentaría una demanda formal contra Apple por presunta violación de leyes de competencia, apuntando a prácticas restrictivas en su ecosistema (especialmente App Store y Siri).\n",
      "\n",
      "Además, coincidente con esa fecha, varios analistas redujeron su proyección de crecimiento de ingresos para el segundo semestre de 2024, lo cual intensificó la reacción del mercado.\n",
      "\n",
      "Noticia relevante:\n",
      "- Título: “DOJ sues Apple, alleging monopolistic practices over iPhone ecosystem”\n",
      "- Fecha de publicación: 25 de abril de 2024\n",
      "- Fuente: Reuters\n",
      "- Enlace: https://www.reuters.com/technology/us-doj-files-antitrust-lawsuit-against-apple-2024-04-25/\n",
      "\n",
      "IV. Conclusión\n",
      "\n",
      "Los retornos extremos de AAPL durante 2024 reflejan reacciones del mercado a eventos fundamentales:\n",
      "\n",
      "- El retorno positivo más alto se asocia con resultados financieros mejores a lo esperado, que refuerzan la confianza de los inversionistas.\n",
      "- El retorno negativo más pronunciado está vinculado a riesgos regulatorios, que generan incertidumbre sobre el modelo de negocio y posibles sanciones o limitaciones.\n",
      "\n",
      "Estos movimientos no son aleatorios, sino el resultado de valoraciones ajustadas con base en eventos externos y datos financieros clave. Analizar estos eventos ayuda a comprender mejor la dinámica de los precios de activos financieros como AAPL.\n"
     ]
    }
   ],
   "source": [
    "output = chain.invoke({'TABLA': df, 'TICKER': ticker, 'FREQUENCY': freq})\n",
    "print(output)"
   ]
  },
  {
   "attachments": {},
   "cell_type": "markdown",
   "metadata": {},
   "source": [
    "## Export output to file"
   ]
  },
  {
   "cell_type": "code",
   "execution_count": 10,
   "metadata": {},
   "outputs": [],
   "source": [
    "with open(f'reports/{ticker}.md', 'w') as file:\n",
    "    file.write(output)"
   ]
  }
 ],
 "metadata": {
  "kernelspec": {
   "display_name": "Python 3",
   "language": "python",
   "name": "python3"
  },
  "language_info": {
   "codemirror_mode": {
    "name": "ipython",
    "version": 3
   },
   "file_extension": ".py",
   "mimetype": "text/x-python",
   "name": "python",
   "nbconvert_exporter": "python",
   "pygments_lexer": "ipython3",
   "version": "3.12.9"
  },
  "orig_nbformat": 4
 },
 "nbformat": 4,
 "nbformat_minor": 2
}
