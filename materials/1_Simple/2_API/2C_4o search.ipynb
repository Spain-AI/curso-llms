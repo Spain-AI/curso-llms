{
 "cells": [
  {
   "attachments": {},
   "cell_type": "markdown",
   "metadata": {},
   "source": [
    "# LangChain to prompt programmatically in Python"
   ]
  },
  {
   "cell_type": "markdown",
   "metadata": {},
   "source": [
    "1. Create an account on [OpenAI Platform](https://platform.openai.com/)\n",
    "2. Create a project\n",
    "3. Create an API Key in the project (Settings > Project > API Keys)\n",
    "4. Paste it into the `.env` file under the variable `OPENAI_API_KEY`"
   ]
  },
  {
   "attachments": {},
   "cell_type": "markdown",
   "metadata": {},
   "source": [
    "## Load model"
   ]
  },
  {
   "cell_type": "code",
   "execution_count": 9,
   "metadata": {},
   "outputs": [
    {
     "data": {
      "text/plain": [
       "ChatOpenAI(client=<openai.resources.chat.completions.completions.Completions object at 0xffff62502150>, async_client=<openai.resources.chat.completions.completions.AsyncCompletions object at 0xffff63651ca0>, root_client=<openai.OpenAI object at 0xffff84bf9220>, root_async_client=<openai.AsyncOpenAI object at 0xffff62501730>, model_name='gpt-4o-search-preview', model_kwargs={}, openai_api_key=SecretStr('**********'))"
      ]
     },
     "execution_count": 9,
     "metadata": {},
     "output_type": "execute_result"
    }
   ],
   "source": [
    "from langchain_openai import ChatOpenAI\n",
    "model = ChatOpenAI(model=\"gpt-4o-search-preview\")\n",
    "\n",
    "model"
   ]
  },
  {
   "attachments": {},
   "cell_type": "markdown",
   "metadata": {},
   "source": [
    "## Prompting seralization"
   ]
  },
  {
   "attachments": {},
   "cell_type": "markdown",
   "metadata": {},
   "source": [
    "### Load markdown template"
   ]
  },
  {
   "cell_type": "code",
   "execution_count": 10,
   "metadata": {},
   "outputs": [
    {
     "data": {
      "text/plain": [
       "'La siguiente tabla muestra el retorno del activo financiero con ticker {TICKER}, calculado como la variación porcentual entre el precio de cierre de cada fecha y el de la fecha inmediatamente anterior registrada en la tabla. Esta comparación se realiza respetando la frecuencia temporal constante observada en la serie (por ejemplo, diaria, semanal o mensual).\\n\\nTABLA:\\n\\n{TABLA}\\n\\nAnaliza los valores extremos, tanto positivos como negativos, y proporciona una explicación fundamentada para cada uno. Incluye, en la medida de lo posible, noticias relacionadas que puedan justificar dichas variaciones, junto con su fecha de publicación y un enlace a la fuente.'"
      ]
     },
     "execution_count": 10,
     "metadata": {},
     "output_type": "execute_result"
    }
   ],
   "source": [
    "with open('../prompts/ES.md', 'r') as file:\n",
    "    template = file.read()\n",
    "    \n",
    "template"
   ]
  },
  {
   "attachments": {},
   "cell_type": "markdown",
   "metadata": {},
   "source": [
    "### Create prompt object"
   ]
  },
  {
   "cell_type": "code",
   "execution_count": 11,
   "metadata": {},
   "outputs": [
    {
     "data": {
      "text/plain": [
       "PromptTemplate(input_variables=['TABLA', 'TICKER'], input_types={}, partial_variables={}, template='La siguiente tabla muestra el retorno del activo financiero con ticker {TICKER}, calculado como la variación porcentual entre el precio de cierre de cada fecha y el de la fecha inmediatamente anterior registrada en la tabla. Esta comparación se realiza respetando la frecuencia temporal constante observada en la serie (por ejemplo, diaria, semanal o mensual).\\n\\nTABLA:\\n\\n{TABLA}\\n\\nAnaliza los valores extremos, tanto positivos como negativos, y proporciona una explicación fundamentada para cada uno. Incluye, en la medida de lo posible, noticias relacionadas que puedan justificar dichas variaciones, junto con su fecha de publicación y un enlace a la fuente.')"
      ]
     },
     "execution_count": 11,
     "metadata": {},
     "output_type": "execute_result"
    }
   ],
   "source": [
    "from langchain_core.prompts import PromptTemplate\n",
    "\n",
    "prompt = PromptTemplate(\n",
    "    template=template,\n",
    "    template_format='f-string',\n",
    ")\n",
    "\n",
    "prompt"
   ]
  },
  {
   "attachments": {},
   "cell_type": "markdown",
   "metadata": {},
   "source": [
    "### Save prompt to JSON"
   ]
  },
  {
   "cell_type": "code",
   "execution_count": 12,
   "metadata": {},
   "outputs": [],
   "source": [
    "path = '../prompts/ES.json'\n",
    "prompt.save(path)"
   ]
  },
  {
   "attachments": {},
   "cell_type": "markdown",
   "metadata": {},
   "source": [
    "## Chaining with LLMs"
   ]
  },
  {
   "attachments": {},
   "cell_type": "markdown",
   "metadata": {},
   "source": [
    "### Define chain"
   ]
  },
  {
   "cell_type": "code",
   "execution_count": 13,
   "metadata": {},
   "outputs": [
    {
     "data": {
      "text/plain": [
       "PromptTemplate(input_variables=['TABLA', 'TICKER'], input_types={}, partial_variables={}, template='La siguiente tabla muestra el retorno del activo financiero con ticker {TICKER}, calculado como la variación porcentual entre el precio de cierre de cada fecha y el de la fecha inmediatamente anterior registrada en la tabla. Esta comparación se realiza respetando la frecuencia temporal constante observada en la serie (por ejemplo, diaria, semanal o mensual).\\n\\nTABLA:\\n\\n{TABLA}\\n\\nAnaliza los valores extremos, tanto positivos como negativos, y proporciona una explicación fundamentada para cada uno. Incluye, en la medida de lo posible, noticias relacionadas que puedan justificar dichas variaciones, junto con su fecha de publicación y un enlace a la fuente.')\n",
       "| ChatOpenAI(client=<openai.resources.chat.completions.completions.Completions object at 0xffff62502150>, async_client=<openai.resources.chat.completions.completions.AsyncCompletions object at 0xffff63651ca0>, root_client=<openai.OpenAI object at 0xffff84bf9220>, root_async_client=<openai.AsyncOpenAI object at 0xffff62501730>, model_name='gpt-4o-search-preview', model_kwargs={}, openai_api_key=SecretStr('**********'))\n",
       "| StrOutputParser()"
      ]
     },
     "execution_count": 13,
     "metadata": {},
     "output_type": "execute_result"
    }
   ],
   "source": [
    "from langchain_core.output_parsers import StrOutputParser\n",
    "chain = prompt | model | StrOutputParser()\n",
    "\n",
    "chain"
   ]
  },
  {
   "attachments": {},
   "cell_type": "markdown",
   "metadata": {},
   "source": [
    "### Preprocess input data"
   ]
  },
  {
   "cell_type": "code",
   "execution_count": 14,
   "metadata": {},
   "outputs": [],
   "source": [
    "ticker = 'AAPL'\n",
    "freq = 'D'"
   ]
  },
  {
   "cell_type": "code",
   "execution_count": 15,
   "metadata": {},
   "outputs": [
    {
     "name": "stderr",
     "output_type": "stream",
     "text": [
      "[*********************100%***********************]  1 of 1 completed\n"
     ]
    },
    {
     "data": {
      "text/html": [
       "<div>\n",
       "<style scoped>\n",
       "    .dataframe tbody tr th:only-of-type {\n",
       "        vertical-align: middle;\n",
       "    }\n",
       "\n",
       "    .dataframe tbody tr th {\n",
       "        vertical-align: top;\n",
       "    }\n",
       "\n",
       "    .dataframe thead th {\n",
       "        text-align: right;\n",
       "    }\n",
       "</style>\n",
       "<table border=\"1\" class=\"dataframe\">\n",
       "  <thead>\n",
       "    <tr style=\"text-align: right;\">\n",
       "      <th>Ticker</th>\n",
       "      <th>AAPL</th>\n",
       "    </tr>\n",
       "    <tr>\n",
       "      <th>Date</th>\n",
       "      <th></th>\n",
       "    </tr>\n",
       "  </thead>\n",
       "  <tbody>\n",
       "    <tr>\n",
       "      <th>2024-01-03</th>\n",
       "      <td>-0.748758</td>\n",
       "    </tr>\n",
       "    <tr>\n",
       "      <th>2024-01-04</th>\n",
       "      <td>-1.270005</td>\n",
       "    </tr>\n",
       "    <tr>\n",
       "      <th>...</th>\n",
       "      <td>...</td>\n",
       "    </tr>\n",
       "    <tr>\n",
       "      <th>2024-12-27</th>\n",
       "      <td>-1.324213</td>\n",
       "    </tr>\n",
       "    <tr>\n",
       "      <th>2024-12-30</th>\n",
       "      <td>-1.326343</td>\n",
       "    </tr>\n",
       "  </tbody>\n",
       "</table>\n",
       "<p>250 rows × 1 columns</p>\n",
       "</div>"
      ],
      "text/plain": [
       "Ticker          AAPL\n",
       "Date                \n",
       "2024-01-03 -0.748758\n",
       "2024-01-04 -1.270005\n",
       "...              ...\n",
       "2024-12-27 -1.324213\n",
       "2024-12-30 -1.326343\n",
       "\n",
       "[250 rows x 1 columns]"
      ]
     },
     "execution_count": 15,
     "metadata": {},
     "output_type": "execute_result"
    }
   ],
   "source": [
    "import utils\n",
    "\n",
    "df = utils.calculate_significant_returns_simple(\n",
    "    ticker=ticker,\n",
    "    start='2024-01-01',\n",
    "    end='2024-12-31',\n",
    "    freq=freq,\n",
    "    n=5\n",
    ")\n",
    "\n",
    "df"
   ]
  },
  {
   "attachments": {},
   "cell_type": "markdown",
   "metadata": {},
   "source": [
    "### Invoke chain with input data"
   ]
  },
  {
   "cell_type": "code",
   "execution_count": 16,
   "metadata": {},
   "outputs": [
    {
     "name": "stdout",
     "output_type": "stream",
     "text": [
      "A lo largo de 2024, las acciones de Apple (AAPL) experimentaron fluctuaciones significativas, tanto al alza como a la baja. A continuación, se analizan algunos de los movimientos más extremos y las posibles causas detrás de ellos:\n",
      "\n",
      "**1. Caída significativa a principios de enero de 2024:**\n",
      "\n",
      "En los primeros días de enero, las acciones de Apple sufrieron una notable disminución. El 2 de enero, Barclays rebajó la calificación de Apple debido a ventas mediocres del iPhone y falta de crecimiento en otros productos. Esta noticia provocó una caída de aproximadamente el 3% en el precio de las acciones, reduciendo la capitalización de mercado de Apple en cerca de 90,000 millones de dólares. ([es.investing.com](https://es.investing.com/news/stock-market-news/apple-pierde-los-3-billones-por-que-caen-acciones-en-el-primer-dia-del-2024-2528595?utm_source=openai))\n",
      "\n",
      "**2. Nueva rebaja de calificación y caída adicional en enero de 2024:**\n",
      "\n",
      "El 4 de enero, Piper Sandler también rebajó la calificación de Apple, citando preocupaciones sobre la demanda del iPhone y el entorno macroeconómico en China. Esta segunda rebaja contribuyó a que las acciones de Apple alcanzaran un mínimo de ocho semanas, con una disminución adicional del 1.4%. ([eleconomista.com.mx](https://www.eleconomista.com.mx/mercados/Acciones-de-Apple-reciben-su-segunda-recomendacion-negativa-de-2024-20240104-0028.html?utm_source=openai))\n",
      "\n",
      "**3. Recuperación y aumento récord en junio de 2024:**\n",
      "\n",
      "En junio, Apple anunció su plataforma de inteligencia artificial, Apple Intelligence, durante la conferencia WWDC. Este anuncio generó optimismo en Wall Street, y las acciones de Apple subieron un 7%, alcanzando un cierre récord por primera vez en 2024. ([eltiempolatino.com](https://eltiempolatino.com/2024/06/11/economia/acciones-de-apple-suben-a-un-nivel-record/?utm_source=openai))\n",
      "\n",
      "**4. Caída en marzo de 2024 debido a demanda antimonopolio:**\n",
      "\n",
      "En marzo, el Departamento de Justicia de Estados Unidos presentó una demanda contra Apple por presuntas violaciones de las leyes antimonopolio. Esta acción legal generó incertidumbre sobre el negocio de servicios de Apple, provocando una caída significativa en el precio de sus acciones. ([bloomberglinea.com](https://www.bloomberglinea.com/2024/03/22/acciones-de-apple-tambalean-mientras-demanda-de-eeuu-amenaza-su-pilar-de-crecimiento/?utm_source=openai))\n",
      "\n",
      "Estos eventos destacan cómo las noticias y decisiones estratégicas pueden influir significativamente en el rendimiento de las acciones de una empresa como Apple. \n"
     ]
    }
   ],
   "source": [
    "output = chain.invoke({'TABLA': df, 'TICKER': ticker})\n",
    "print(output)"
   ]
  },
  {
   "attachments": {},
   "cell_type": "markdown",
   "metadata": {},
   "source": [
    "## Export output to file"
   ]
  },
  {
   "cell_type": "code",
   "execution_count": 17,
   "metadata": {},
   "outputs": [],
   "source": [
    "with open(f'reports/{ticker}_search.md', 'w') as file:\n",
    "    file.write(output)"
   ]
  }
 ],
 "metadata": {
  "kernelspec": {
   "display_name": "Python 3",
   "language": "python",
   "name": "python3"
  },
  "language_info": {
   "codemirror_mode": {
    "name": "ipython",
    "version": 3
   },
   "file_extension": ".py",
   "mimetype": "text/x-python",
   "name": "python",
   "nbconvert_exporter": "python",
   "pygments_lexer": "ipython3",
   "version": "3.12.9"
  },
  "orig_nbformat": 4
 },
 "nbformat": 4,
 "nbformat_minor": 2
}
