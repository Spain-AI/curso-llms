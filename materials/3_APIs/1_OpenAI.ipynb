{
 "cells": [
  {
   "cell_type": "markdown",
   "id": "5db25e56",
   "metadata": {
    "vscode": {
     "languageId": "markdown"
    }
   },
   "source": [
    "1. Crear cuenta en [OpenAI Platform](https://platform.openai.com/)\n",
    "2. Crear proyecto\n",
    "3. Crear API Key en proyecto (Settings > Project > API Keys)\n",
    "4. Pegar en archivo `.env` en la variable `OPENAI_API_KEY`"
   ]
  }
 ],
 "metadata": {
  "language_info": {
   "name": "python"
  }
 },
 "nbformat": 4,
 "nbformat_minor": 5
}
