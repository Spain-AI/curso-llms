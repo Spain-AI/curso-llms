{
 "cells": [
  {
   "attachments": {},
   "cell_type": "markdown",
   "metadata": {},
   "source": [
    "# Customize output format in prompt"
   ]
  },
  {
   "attachments": {},
   "cell_type": "markdown",
   "metadata": {},
   "source": [
    "## Load model"
   ]
  },
  {
   "cell_type": "code",
   "execution_count": 38,
   "metadata": {},
   "outputs": [
    {
     "data": {
      "text/plain": [
       "ChatOpenAI(client=<openai.resources.chat.completions.completions.Completions object at 0xffff60acfb00>, async_client=<openai.resources.chat.completions.completions.AsyncCompletions object at 0xffff60af45c0>, root_client=<openai.OpenAI object at 0xffff60b47d10>, root_async_client=<openai.AsyncOpenAI object at 0xffff60acf560>, model_name='gpt-4o-search-preview', model_kwargs={}, openai_api_key=SecretStr('**********'))"
      ]
     },
     "execution_count": 38,
     "metadata": {},
     "output_type": "execute_result"
    }
   ],
   "source": [
    "from langchain_openai import ChatOpenAI\n",
    "model = ChatOpenAI(model=\"gpt-4o-search-preview\")\n",
    "\n",
    "model"
   ]
  },
  {
   "attachments": {},
   "cell_type": "markdown",
   "metadata": {},
   "source": [
    "## Load prompt"
   ]
  },
  {
   "cell_type": "code",
   "execution_count": 39,
   "metadata": {},
   "outputs": [
    {
     "data": {
      "text/plain": [
       "PromptTemplate(input_variables=['DATE', 'FREQUENCY', 'RETURN', 'TICKER'], input_types={}, partial_variables={}, template='El día {DATE}, el activo financiero con ticker {TICKER} registró un retorno de {RETURN}%, calculado como la variación porcentual entre el precio de cierre de esa fecha y el de la fecha anterior correspondiente según la frecuencia de cálculo definida: {FREQUENCY} (por ejemplo: diaria D, mensual M, trimestral Q o anual Y).\\n\\nExplica los motivos que podrían justificar este movimiento extremo, utilizando noticias relevantes publicadas en torno a esa fecha. Proporciona una explicación fundamentada, la fecha de publicación de la noticia y un enlace a la fuente.')"
      ]
     },
     "execution_count": 39,
     "metadata": {},
     "output_type": "execute_result"
    }
   ],
   "source": [
    "from langchain_core.prompts import load_prompt\n",
    "prompt = load_prompt(path='../prompts/single-day/ES.json')\n",
    "\n",
    "prompt"
   ]
  },
  {
   "attachments": {},
   "cell_type": "markdown",
   "metadata": {},
   "source": [
    "## Custom Output Parser"
   ]
  },
  {
   "attachments": {},
   "cell_type": "markdown",
   "metadata": {},
   "source": [
    "### Create Pydantic model"
   ]
  },
  {
   "cell_type": "markdown",
   "metadata": {},
   "source": [
    "`/workspace/modules/models.py`"
   ]
  },
  {
   "attachments": {},
   "cell_type": "markdown",
   "metadata": {},
   "source": [
    "### Associate Pydantic model with parser"
   ]
  },
  {
   "cell_type": "code",
   "execution_count": 47,
   "metadata": {},
   "outputs": [
    {
     "data": {
      "text/plain": [
       "PydanticOutputParser(pydantic_object=<class '__main__.News'>)"
      ]
     },
     "execution_count": 47,
     "metadata": {},
     "output_type": "execute_result"
    }
   ],
   "source": [
    "from langchain_core.output_parsers import PydanticOutputParser\n",
    "parser = PydanticOutputParser(pydantic_object=News)\n",
    "\n",
    "parser"
   ]
  },
  {
   "attachments": {},
   "cell_type": "markdown",
   "metadata": {},
   "source": [
    "### Add parser to prompt"
   ]
  },
  {
   "cell_type": "code",
   "execution_count": 48,
   "metadata": {},
   "outputs": [
    {
     "data": {
      "text/plain": [
       "'Answer the QUERY in Spanish and following the format: {format_instructions}\\n\\nQUERY:\\n\\n{format_instructions}\\n\\nEl día {DATE}, el activo financiero con ticker {TICKER} registró un retorno de {RETURN}%, calculado como la variación porcentual entre el precio de cierre de esa fecha y el de la fecha anterior correspondiente según la frecuencia de cálculo definida: {FREQUENCY} (por ejemplo: diaria D, mensual M, trimestral Q o anual Y).\\n\\nExplica los motivos que podrían justificar este movimiento extremo, utilizando noticias relevantes publicadas en torno a esa fecha. Proporciona una explicación fundamentada, la fecha de publicación de la noticia y un enlace a la fuente.'"
      ]
     },
     "execution_count": 48,
     "metadata": {},
     "output_type": "execute_result"
    }
   ],
   "source": [
    "prompt.template = 'Answer the QUERY in Spanish and following the format: {format_instructions}\\n\\nQUERY:\\n\\n' + prompt.template\n",
    "prompt.template "
   ]
  },
  {
   "cell_type": "code",
   "execution_count": 49,
   "metadata": {},
   "outputs": [
    {
     "data": {
      "text/plain": [
       "PromptTemplate(input_variables=['DATE', 'FREQUENCY', 'RETURN', 'TICKER'], input_types={}, partial_variables={'format_instructions': 'The output should be formatted as a JSON instance that conforms to the JSON schema below.\\n\\nAs an example, for the schema {\"properties\": {\"foo\": {\"title\": \"Foo\", \"description\": \"a list of strings\", \"type\": \"array\", \"items\": {\"type\": \"string\"}}}, \"required\": [\"foo\"]}\\nthe object {\"foo\": [\"bar\", \"baz\"]} is a well-formatted instance of the schema. The object {\"properties\": {\"foo\": [\"bar\", \"baz\"]}} is not well-formatted.\\n\\nHere is the output schema:\\n```\\n{\"properties\": {\"stock\": {\"description\": \"símbolo de la acción\", \"title\": \"Stock\", \"type\": \"string\"}, \"date\": {\"description\": \"fecha de la noticia\", \"title\": \"Date\", \"type\": \"string\"}, \"value\": {\"description\": \"valor acumulado significativo de la acción\", \"title\": \"Value\", \"type\": \"number\"}, \"title\": {\"description\": \"título de la noticia\", \"title\": \"Title\", \"type\": \"string\"}, \"url\": {\"description\": \"url de la noticia\", \"title\": \"Url\", \"type\": \"string\"}, \"source\": {\"description\": \"fuente de la noticia\", \"title\": \"Source\", \"type\": \"string\"}, \"explanation\": {\"description\": \"explicación de la relevancia de la noticia para la acción\", \"title\": \"Explanation\", \"type\": \"string\"}}, \"required\": [\"stock\", \"date\", \"value\", \"title\", \"url\", \"source\", \"explanation\"]}\\n```'}, template='Answer the QUERY in Spanish and following the format: {format_instructions}\\n\\nQUERY:\\n\\n{format_instructions}\\n\\nEl día {DATE}, el activo financiero con ticker {TICKER} registró un retorno de {RETURN}%, calculado como la variación porcentual entre el precio de cierre de esa fecha y el de la fecha anterior correspondiente según la frecuencia de cálculo definida: {FREQUENCY} (por ejemplo: diaria D, mensual M, trimestral Q o anual Y).\\n\\nExplica los motivos que podrían justificar este movimiento extremo, utilizando noticias relevantes publicadas en torno a esa fecha. Proporciona una explicación fundamentada, la fecha de publicación de la noticia y un enlace a la fuente.')"
      ]
     },
     "execution_count": 49,
     "metadata": {},
     "output_type": "execute_result"
    }
   ],
   "source": [
    "prompt.partial_variables.update({\"format_instructions\": parser.get_format_instructions()})\n",
    "prompt"
   ]
  },
  {
   "attachments": {},
   "cell_type": "markdown",
   "metadata": {},
   "source": [
    "## Chain"
   ]
  },
  {
   "attachments": {},
   "cell_type": "markdown",
   "metadata": {},
   "source": [
    "### Define chain"
   ]
  },
  {
   "cell_type": "code",
   "execution_count": 50,
   "metadata": {},
   "outputs": [
    {
     "data": {
      "text/plain": [
       "PromptTemplate(input_variables=['DATE', 'FREQUENCY', 'RETURN', 'TICKER'], input_types={}, partial_variables={'format_instructions': 'The output should be formatted as a JSON instance that conforms to the JSON schema below.\\n\\nAs an example, for the schema {\"properties\": {\"foo\": {\"title\": \"Foo\", \"description\": \"a list of strings\", \"type\": \"array\", \"items\": {\"type\": \"string\"}}}, \"required\": [\"foo\"]}\\nthe object {\"foo\": [\"bar\", \"baz\"]} is a well-formatted instance of the schema. The object {\"properties\": {\"foo\": [\"bar\", \"baz\"]}} is not well-formatted.\\n\\nHere is the output schema:\\n```\\n{\"properties\": {\"stock\": {\"description\": \"símbolo de la acción\", \"title\": \"Stock\", \"type\": \"string\"}, \"date\": {\"description\": \"fecha de la noticia\", \"title\": \"Date\", \"type\": \"string\"}, \"value\": {\"description\": \"valor acumulado significativo de la acción\", \"title\": \"Value\", \"type\": \"number\"}, \"title\": {\"description\": \"título de la noticia\", \"title\": \"Title\", \"type\": \"string\"}, \"url\": {\"description\": \"url de la noticia\", \"title\": \"Url\", \"type\": \"string\"}, \"source\": {\"description\": \"fuente de la noticia\", \"title\": \"Source\", \"type\": \"string\"}, \"explanation\": {\"description\": \"explicación de la relevancia de la noticia para la acción\", \"title\": \"Explanation\", \"type\": \"string\"}}, \"required\": [\"stock\", \"date\", \"value\", \"title\", \"url\", \"source\", \"explanation\"]}\\n```'}, template='Answer the QUERY in Spanish and following the format: {format_instructions}\\n\\nQUERY:\\n\\n{format_instructions}\\n\\nEl día {DATE}, el activo financiero con ticker {TICKER} registró un retorno de {RETURN}%, calculado como la variación porcentual entre el precio de cierre de esa fecha y el de la fecha anterior correspondiente según la frecuencia de cálculo definida: {FREQUENCY} (por ejemplo: diaria D, mensual M, trimestral Q o anual Y).\\n\\nExplica los motivos que podrían justificar este movimiento extremo, utilizando noticias relevantes publicadas en torno a esa fecha. Proporciona una explicación fundamentada, la fecha de publicación de la noticia y un enlace a la fuente.')\n",
       "| ChatOpenAI(client=<openai.resources.chat.completions.completions.Completions object at 0xffff60acfb00>, async_client=<openai.resources.chat.completions.completions.AsyncCompletions object at 0xffff60af45c0>, root_client=<openai.OpenAI object at 0xffff60b47d10>, root_async_client=<openai.AsyncOpenAI object at 0xffff60acf560>, model_name='gpt-4o-search-preview', model_kwargs={}, openai_api_key=SecretStr('**********'))\n",
       "| PydanticOutputParser(pydantic_object=<class '__main__.News'>)"
      ]
     },
     "execution_count": 50,
     "metadata": {},
     "output_type": "execute_result"
    }
   ],
   "source": [
    "chain = prompt | model | parser\n",
    "chain"
   ]
  },
  {
   "attachments": {},
   "cell_type": "markdown",
   "metadata": {},
   "source": [
    "### Preprocess input data"
   ]
  },
  {
   "cell_type": "code",
   "execution_count": 51,
   "metadata": {},
   "outputs": [],
   "source": [
    "ticker = 'AAPL'\n",
    "freq = 'D'"
   ]
  },
  {
   "cell_type": "code",
   "execution_count": 52,
   "metadata": {},
   "outputs": [
    {
     "name": "stderr",
     "output_type": "stream",
     "text": [
      "[*********************100%***********************]  1 of 1 completed\n"
     ]
    },
    {
     "data": {
      "text/plain": [
       "Date\n",
       "2024-06-11    7.26492\n",
       "Name: AAPL, dtype: float64"
      ]
     },
     "execution_count": 52,
     "metadata": {},
     "output_type": "execute_result"
    }
   ],
   "source": [
    "import utils\n",
    "\n",
    "r = utils.calculate_significant_returns_simple(\n",
    "    ticker=ticker,\n",
    "    start='2024-01-01',\n",
    "    end='2024-12-31',\n",
    "    freq=freq,\n",
    "    n=1\n",
    ")\n",
    "\n",
    "r"
   ]
  },
  {
   "cell_type": "code",
   "execution_count": 53,
   "metadata": {},
   "outputs": [
    {
     "data": {
      "text/plain": [
       "('2024-06-11', 7.26)"
      ]
     },
     "execution_count": 53,
     "metadata": {},
     "output_type": "execute_result"
    }
   ],
   "source": [
    "date = r.index[0].strftime('%Y-%m-%d')\n",
    "change = round(r.values[0], 2)\n",
    "\n",
    "date, change"
   ]
  },
  {
   "attachments": {},
   "cell_type": "markdown",
   "metadata": {},
   "source": [
    "### Invoke chain"
   ]
  },
  {
   "cell_type": "code",
   "execution_count": 54,
   "metadata": {},
   "outputs": [
    {
     "name": "stdout",
     "output_type": "stream",
     "text": [
      "stock='AAPL' date='2024-06-11' value=7.26 title='Las acciones de Apple suben a un nivel récord tras los anuncios de IA' url='https://eltiempolatino.com/2024/06/11/economia/acciones-de-apple-suben-a-un-nivel-record/' source='El Tiempo Latino' explanation=\"El 10 de junio de 2024, durante la Conferencia Mundial de Desarrolladores (WWDC), Apple presentó 'Apple Intelligence', su plataforma de inteligencia artificial generativa. Este anuncio generó un optimismo significativo en Wall Street, impulsando las acciones de Apple a un cierre récord el 11 de junio de 2024, con un aumento del 7%. Los analistas elogiaron la integración de la IA en el ecosistema de Apple, anticipando un nuevo ciclo de actualización de productos y un crecimiento acelerado de los ingresos.\"\n"
     ]
    }
   ],
   "source": [
    "output = chain.invoke({\n",
    "    'DATE': date,\n",
    "    'RETURN': change,\n",
    "    'TICKER': ticker,\n",
    "    'FREQUENCY': freq\n",
    "})\n",
    "\n",
    "print(output)"
   ]
  },
  {
   "cell_type": "code",
   "execution_count": 55,
   "metadata": {},
   "outputs": [
    {
     "data": {
      "text/plain": [
       "{'stock': 'AAPL',\n",
       " 'date': '2024-06-11',\n",
       " 'value': 7.26,\n",
       " 'title': 'Las acciones de Apple suben a un nivel récord tras los anuncios de IA',\n",
       " 'url': 'https://eltiempolatino.com/2024/06/11/economia/acciones-de-apple-suben-a-un-nivel-record/',\n",
       " 'source': 'El Tiempo Latino',\n",
       " 'explanation': \"El 10 de junio de 2024, durante la Conferencia Mundial de Desarrolladores (WWDC), Apple presentó 'Apple Intelligence', su plataforma de inteligencia artificial generativa. Este anuncio generó un optimismo significativo en Wall Street, impulsando las acciones de Apple a un cierre récord el 11 de junio de 2024, con un aumento del 7%. Los analistas elogiaron la integración de la IA en el ecosistema de Apple, anticipando un nuevo ciclo de actualización de productos y un crecimiento acelerado de los ingresos.\"}"
      ]
     },
     "execution_count": 55,
     "metadata": {},
     "output_type": "execute_result"
    }
   ],
   "source": [
    "data = output.model_dump()\n",
    "data"
   ]
  },
  {
   "cell_type": "code",
   "execution_count": 56,
   "metadata": {},
   "outputs": [
    {
     "data": {
      "text/html": [
       "<style type=\"text/css\">\n",
       "</style>\n",
       "<table id=\"T_43cac\">\n",
       "  <thead>\n",
       "    <tr>\n",
       "      <th class=\"blank level0\" >&nbsp;</th>\n",
       "      <th id=\"T_43cac_level0_col0\" class=\"col_heading level0 col0\" >stock</th>\n",
       "      <th id=\"T_43cac_level0_col1\" class=\"col_heading level0 col1\" >date</th>\n",
       "      <th id=\"T_43cac_level0_col2\" class=\"col_heading level0 col2\" >value</th>\n",
       "      <th id=\"T_43cac_level0_col3\" class=\"col_heading level0 col3\" >title</th>\n",
       "      <th id=\"T_43cac_level0_col4\" class=\"col_heading level0 col4\" >url</th>\n",
       "      <th id=\"T_43cac_level0_col5\" class=\"col_heading level0 col5\" >source</th>\n",
       "      <th id=\"T_43cac_level0_col6\" class=\"col_heading level0 col6\" >explanation</th>\n",
       "    </tr>\n",
       "  </thead>\n",
       "  <tbody>\n",
       "    <tr>\n",
       "      <th id=\"T_43cac_level0_row0\" class=\"row_heading level0 row0\" >0</th>\n",
       "      <td id=\"T_43cac_row0_col0\" class=\"data row0 col0\" >AAPL</td>\n",
       "      <td id=\"T_43cac_row0_col1\" class=\"data row0 col1\" >2024-06-11</td>\n",
       "      <td id=\"T_43cac_row0_col2\" class=\"data row0 col2\" >7.260000</td>\n",
       "      <td id=\"T_43cac_row0_col3\" class=\"data row0 col3\" >Las acciones de Apple suben a un nivel récord tras los anuncios de IA</td>\n",
       "      <td id=\"T_43cac_row0_col4\" class=\"data row0 col4\" >https://eltiempolatino.com/2024/06/11/economia/acciones-de-apple-suben-a-un-nivel-record/</td>\n",
       "      <td id=\"T_43cac_row0_col5\" class=\"data row0 col5\" >El Tiempo Latino</td>\n",
       "      <td id=\"T_43cac_row0_col6\" class=\"data row0 col6\" >El 10 de junio de 2024, durante la Conferencia Mundial de Desarrolladores (WWDC), Apple presentó 'Apple Intelligence', su plataforma de inteligencia artificial generativa. Este anuncio generó un optimismo significativo en Wall Street, impulsando las acciones de Apple a un cierre récord el 11 de junio de 2024, con un aumento del 7%. Los analistas elogiaron la integración de la IA en el ecosistema de Apple, anticipando un nuevo ciclo de actualización de productos y un crecimiento acelerado de los ingresos.</td>\n",
       "    </tr>\n",
       "  </tbody>\n",
       "</table>\n"
      ],
      "text/plain": [
       "<pandas.io.formats.style.Styler at 0xffff60881b80>"
      ]
     },
     "execution_count": 56,
     "metadata": {},
     "output_type": "execute_result"
    }
   ],
   "source": [
    "import pandas as pd\n",
    "pd.DataFrame([data]).style"
   ]
  },
  {
   "cell_type": "markdown",
   "metadata": {},
   "source": [
    "## Multiple days"
   ]
  },
  {
   "cell_type": "code",
   "execution_count": 57,
   "metadata": {},
   "outputs": [
    {
     "name": "stderr",
     "output_type": "stream",
     "text": [
      "[*********************100%***********************]  1 of 1 completed"
     ]
    },
    {
     "name": "stderr",
     "output_type": "stream",
     "text": [
      "\n"
     ]
    },
    {
     "data": {
      "text/plain": [
       "Date\n",
       "2024-06-11    7.264920\n",
       "2024-05-03    5.981614\n",
       "2024-08-05   -4.816705\n",
       "2024-04-11    4.327102\n",
       "2024-03-21   -4.085741\n",
       "Name: AAPL, dtype: float64"
      ]
     },
     "execution_count": 57,
     "metadata": {},
     "output_type": "execute_result"
    }
   ],
   "source": [
    "import utils\n",
    "\n",
    "r = utils.calculate_significant_returns_simple(\n",
    "    ticker=ticker,\n",
    "    start='2024-01-01',\n",
    "    end='2024-12-31',\n",
    "    freq=freq,\n",
    "    n=5\n",
    ")\n",
    "\n",
    "r"
   ]
  },
  {
   "cell_type": "code",
   "execution_count": 61,
   "metadata": {},
   "outputs": [],
   "source": [
    "results = []\n",
    "\n",
    "for date, change in r.items():\n",
    "    try:\n",
    "        output = chain.invoke({\n",
    "            'DATE': date.strftime('%Y-%m-%d'),\n",
    "            'RETURN': round(change, 2),\n",
    "            'TICKER': ticker,\n",
    "            'FREQUENCY': freq\n",
    "        })\n",
    "        results.append(output.model_dump())\n",
    "    except Exception as e:\n",
    "        print(f\"Error: {e}\")\n",
    "        continue"
   ]
  },
  {
   "cell_type": "code",
   "execution_count": 63,
   "metadata": {},
   "outputs": [
    {
     "data": {
      "text/html": [
       "<style type=\"text/css\">\n",
       "</style>\n",
       "<table id=\"T_116d5\">\n",
       "  <thead>\n",
       "    <tr>\n",
       "      <th class=\"blank level0\" >&nbsp;</th>\n",
       "      <th id=\"T_116d5_level0_col0\" class=\"col_heading level0 col0\" >stock</th>\n",
       "      <th id=\"T_116d5_level0_col1\" class=\"col_heading level0 col1\" >date</th>\n",
       "      <th id=\"T_116d5_level0_col2\" class=\"col_heading level0 col2\" >value</th>\n",
       "      <th id=\"T_116d5_level0_col3\" class=\"col_heading level0 col3\" >title</th>\n",
       "      <th id=\"T_116d5_level0_col4\" class=\"col_heading level0 col4\" >url</th>\n",
       "      <th id=\"T_116d5_level0_col5\" class=\"col_heading level0 col5\" >source</th>\n",
       "      <th id=\"T_116d5_level0_col6\" class=\"col_heading level0 col6\" >explanation</th>\n",
       "    </tr>\n",
       "  </thead>\n",
       "  <tbody>\n",
       "    <tr>\n",
       "      <th id=\"T_116d5_level0_row0\" class=\"row_heading level0 row0\" >0</th>\n",
       "      <td id=\"T_116d5_row0_col0\" class=\"data row0 col0\" >AAPL</td>\n",
       "      <td id=\"T_116d5_row0_col1\" class=\"data row0 col1\" >2024-06-11</td>\n",
       "      <td id=\"T_116d5_row0_col2\" class=\"data row0 col2\" >7.260000</td>\n",
       "      <td id=\"T_116d5_row0_col3\" class=\"data row0 col3\" >Apple presenta iOS 18 y Apple Intelligence en la WWDC 2024</td>\n",
       "      <td id=\"T_116d5_row0_col4\" class=\"data row0 col4\" >https://www.apple.com/es/newsroom/2024/03/apples-worldwide-developers-conference-returns-june-10-2024/</td>\n",
       "      <td id=\"T_116d5_row0_col5\" class=\"data row0 col5\" >Apple Newsroom</td>\n",
       "      <td id=\"T_116d5_row0_col6\" class=\"data row0 col6\" >El anuncio de iOS 18 y Apple Intelligence generó entusiasmo en el mercado, reflejándose en un aumento del 7.26% en el precio de las acciones de Apple.</td>\n",
       "    </tr>\n",
       "    <tr>\n",
       "      <th id=\"T_116d5_level0_row1\" class=\"row_heading level0 row1\" >1</th>\n",
       "      <td id=\"T_116d5_row1_col0\" class=\"data row1 col0\" >AAPL</td>\n",
       "      <td id=\"T_116d5_row1_col1\" class=\"data row1 col1\" >2024-05-02</td>\n",
       "      <td id=\"T_116d5_row1_col2\" class=\"data row1 col2\" >5.980000</td>\n",
       "      <td id=\"T_116d5_row1_col3\" class=\"data row1 col3\" >Apple informa los resultados del segundo trimestre</td>\n",
       "      <td id=\"T_116d5_row1_col4\" class=\"data row1 col4\" >https://www.apple.com/us-es/newsroom/2024/05/apple-reports-second-quarter-results/</td>\n",
       "      <td id=\"T_116d5_row1_col5\" class=\"data row1 col5\" >Apple Newsroom</td>\n",
       "      <td id=\"T_116d5_row1_col6\" class=\"data row1 col6\" >El informe financiero del segundo trimestre fiscal de 2024 de Apple mostró ingresos de $90,800 millones y ganancias por acción de $1.53, además de un récord en ingresos por servicios y un programa de recompra de acciones por $110,000 millones, lo que generó confianza entre los inversores y contribuyó al aumento en el precio de las acciones.</td>\n",
       "    </tr>\n",
       "    <tr>\n",
       "      <th id=\"T_116d5_level0_row2\" class=\"row_heading level0 row2\" >2</th>\n",
       "      <td id=\"T_116d5_row2_col0\" class=\"data row2 col0\" >AAPL</td>\n",
       "      <td id=\"T_116d5_row2_col1\" class=\"data row2 col1\" >2024-08-05</td>\n",
       "      <td id=\"T_116d5_row2_col2\" class=\"data row2 col2\" >-4.820000</td>\n",
       "      <td id=\"T_116d5_row2_col3\" class=\"data row2 col3\" >Claves del lunes negro en bolsa: ¿qué significa para la economía mundial?</td>\n",
       "      <td id=\"T_116d5_row2_col4\" class=\"data row2 col4\" >https://elpais.com/expres/2024-08-06/claves-del-lunes-negro-en-bolsa-que-significa-para-la-economia-mundial.html</td>\n",
       "      <td id=\"T_116d5_row2_col5\" class=\"data row2 col5\" >El País</td>\n",
       "      <td id=\"T_116d5_row2_col6\" class=\"data row2 col6\" >El 5 de agosto de 2024, las acciones de Apple cayeron un 4,82% en el contexto de un 'lunes negro' en los mercados bursátiles globales. Este desplome fue impulsado por el temor a una recesión en Estados Unidos, debido a la creación de solo 114.000 empleos en julio y un aumento en la tasa de desempleo al 4,3%. Además, los resultados mediocres de grandes empresas tecnológicas intensificaron la desconfianza entre los inversores, afectando negativamente a Apple.</td>\n",
       "    </tr>\n",
       "    <tr>\n",
       "      <th id=\"T_116d5_level0_row3\" class=\"row_heading level0 row3\" >3</th>\n",
       "      <td id=\"T_116d5_row3_col0\" class=\"data row3 col0\" >AAPL</td>\n",
       "      <td id=\"T_116d5_row3_col1\" class=\"data row3 col1\" >2024-04-11</td>\n",
       "      <td id=\"T_116d5_row3_col2\" class=\"data row3 col2\" >4.330000</td>\n",
       "      <td id=\"T_116d5_row3_col3\" class=\"data row3 col3\" >Apple fija como fecha límite el 11 de abril para que los empleados de EE. UU. vuelvan a la oficina</td>\n",
       "      <td id=\"T_116d5_row3_col4\" class=\"data row3 col4\" >https://noticiasmoviles.com/apple-fija-como-fecha-limite-el-11-de-abril-para-que-los-empleados-de-ee-uu-vuelvan-a-la-oficina/</td>\n",
       "      <td id=\"T_116d5_row3_col5\" class=\"data row3 col5\" >Noticias Movil</td>\n",
       "      <td id=\"T_116d5_row3_col6\" class=\"data row3 col6\" >La decisión de Apple de establecer el 11 de abril como fecha límite para que los empleados corporativos en Estados Unidos regresaran a las oficinas fue interpretada positivamente por los inversores, ya que indica una vuelta a la normalidad operativa y podría mejorar la productividad y colaboración dentro de la empresa.</td>\n",
       "    </tr>\n",
       "    <tr>\n",
       "      <th id=\"T_116d5_level0_row4\" class=\"row_heading level0 row4\" >4</th>\n",
       "      <td id=\"T_116d5_row4_col0\" class=\"data row4 col0\" >AAPL</td>\n",
       "      <td id=\"T_116d5_row4_col1\" class=\"data row4 col1\" >2024-03-21</td>\n",
       "      <td id=\"T_116d5_row4_col2\" class=\"data row4 col2\" >-4.090000</td>\n",
       "      <td id=\"T_116d5_row4_col3\" class=\"data row4 col3\" >Las acciones de Apple cayeron un 4% después de la demanda de Estados Unidos a la compañía por monopolio</td>\n",
       "      <td id=\"T_116d5_row4_col4\" class=\"data row4 col4\" >https://www.infobae.com/estados-unidos/2024/03/22/las-acciones-de-apple-cayeron-un-37-despues-de-la-demanda-de-estados-unidos-a-la-compania-por-monopolio/</td>\n",
       "      <td id=\"T_116d5_row4_col5\" class=\"data row4 col5\" >Infobae</td>\n",
       "      <td id=\"T_116d5_row4_col6\" class=\"data row4 col6\" >La caída del 4% en las acciones de Apple el 21 de marzo de 2024 se debió a la demanda presentada por el Departamento de Justicia de Estados Unidos, que acusó a la compañía de prácticas monopolísticas en el mercado de los teléfonos inteligentes. Esta acción legal generó incertidumbre entre los inversores, afectando negativamente el valor de las acciones de Apple.</td>\n",
       "    </tr>\n",
       "  </tbody>\n",
       "</table>\n"
      ],
      "text/plain": [
       "<pandas.io.formats.style.Styler at 0xffff5bd10e60>"
      ]
     },
     "execution_count": 63,
     "metadata": {},
     "output_type": "execute_result"
    }
   ],
   "source": [
    "df = pd.DataFrame([r for r in results])\n",
    "df.style"
   ]
  },
  {
   "cell_type": "markdown",
   "metadata": {},
   "source": [
    "## Export results"
   ]
  },
  {
   "cell_type": "code",
   "execution_count": 65,
   "metadata": {},
   "outputs": [],
   "source": [
    "df.to_csv('outputs/news.xlsx', index=False)"
   ]
  },
  {
   "cell_type": "code",
   "execution_count": null,
   "metadata": {},
   "outputs": [],
   "source": [
    "df.to_csv('outputs/news.csv', index=False)"
   ]
  }
 ],
 "metadata": {
  "kernelspec": {
   "display_name": "work",
   "language": "python",
   "name": "python3"
  },
  "language_info": {
   "codemirror_mode": {
    "name": "ipython",
    "version": 3
   },
   "file_extension": ".py",
   "mimetype": "text/x-python",
   "name": "python",
   "nbconvert_exporter": "python",
   "pygments_lexer": "ipython3",
   "version": "3.13.1"
  },
  "orig_nbformat": 4
 },
 "nbformat": 4,
 "nbformat_minor": 2
}
