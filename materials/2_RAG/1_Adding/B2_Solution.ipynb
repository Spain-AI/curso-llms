{
 "cells": [
  {
   "cell_type": "markdown",
   "metadata": {},
   "source": [
    "## Select ticker"
   ]
  },
  {
   "cell_type": "code",
   "execution_count": 16,
   "metadata": {},
   "outputs": [],
   "source": [
    "import sys\n",
    "sys.path.append('../../../modules')"
   ]
  },
  {
   "cell_type": "code",
   "execution_count": 17,
   "metadata": {},
   "outputs": [],
   "source": [
    "ticker = 'AAPL'"
   ]
  },
  {
   "cell_type": "code",
   "execution_count": 18,
   "metadata": {},
   "outputs": [
    {
     "name": "stderr",
     "output_type": "stream",
     "text": [
      "[*********************100%%**********************]  1 of 1 completed\n"
     ]
    },
    {
     "data": {
      "text/plain": [
       "Date\n",
       "2022-01-04   -1.269163\n",
       "2022-01-05   -2.659993\n",
       "                ...   \n",
       "2023-12-28    0.222629\n",
       "2023-12-29   -0.542411\n",
       "Name: Adj Close, Length: 500, dtype: float64"
      ]
     },
     "execution_count": 18,
     "metadata": {},
     "output_type": "execute_result"
    }
   ],
   "source": [
    "import utils\n",
    "\n",
    "serie = utils.calculate_yearly_returns(stocks=ticker, freq='D', start='2022-01-01', end='2024-01-01')\n",
    "serie"
   ]
  },
  {
   "cell_type": "markdown",
   "metadata": {},
   "source": [
    "## News for best and worst days"
   ]
  },
  {
   "cell_type": "code",
   "execution_count": 19,
   "metadata": {},
   "outputs": [
    {
     "data": {
      "text/html": [
       "<style type=\"text/css\">\n",
       "</style>\n",
       "<table id=\"T_0bdfb\">\n",
       "  <thead>\n",
       "    <tr>\n",
       "      <th class=\"blank level0\" >&nbsp;</th>\n",
       "      <th id=\"T_0bdfb_level0_col0\" class=\"col_heading level0 col0\" >Adj Close</th>\n",
       "    </tr>\n",
       "    <tr>\n",
       "      <th class=\"index_name level0\" >Date</th>\n",
       "      <th class=\"blank col0\" >&nbsp;</th>\n",
       "    </tr>\n",
       "  </thead>\n",
       "  <tbody>\n",
       "    <tr>\n",
       "      <th id=\"T_0bdfb_level0_row0\" class=\"row_heading level0 row0\" >2022-11-10 00:00:00</th>\n",
       "      <td id=\"T_0bdfb_row0_col0\" class=\"data row0 col0\" >8.897456</td>\n",
       "    </tr>\n",
       "    <tr>\n",
       "      <th id=\"T_0bdfb_level0_row1\" class=\"row_heading level0 row1\" >2022-10-28 00:00:00</th>\n",
       "      <td id=\"T_0bdfb_row1_col0\" class=\"data row1 col0\" >7.555250</td>\n",
       "    </tr>\n",
       "    <tr>\n",
       "      <th id=\"T_0bdfb_level0_row2\" class=\"row_heading level0 row2\" >2022-01-28 00:00:00</th>\n",
       "      <td id=\"T_0bdfb_row2_col0\" class=\"data row2 col0\" >6.977771</td>\n",
       "    </tr>\n",
       "    <tr>\n",
       "      <th id=\"T_0bdfb_level0_row3\" class=\"row_heading level0 row3\" >2022-09-13 00:00:00</th>\n",
       "      <td id=\"T_0bdfb_row3_col0\" class=\"data row3 col0\" >-5.867952</td>\n",
       "    </tr>\n",
       "    <tr>\n",
       "      <th id=\"T_0bdfb_level0_row4\" class=\"row_heading level0 row4\" >2022-05-18 00:00:00</th>\n",
       "      <td id=\"T_0bdfb_row4_col0\" class=\"data row4 col0\" >-5.641919</td>\n",
       "    </tr>\n",
       "  </tbody>\n",
       "</table>\n"
      ],
      "text/plain": [
       "<pandas.io.formats.style.Styler at 0x167ebc4d0>"
      ]
     },
     "execution_count": 19,
     "metadata": {},
     "output_type": "execute_result"
    }
   ],
   "source": [
    "top = serie.sort_values(key=lambda x: abs(x), ascending=False).head(5)\n",
    "top.to_frame().style"
   ]
  },
  {
   "cell_type": "code",
   "execution_count": 20,
   "metadata": {},
   "outputs": [
    {
     "data": {
      "text/plain": [
       "Date\n",
       "2022-11-10    8.897456\n",
       "2022-10-28    7.555250\n",
       "                ...   \n",
       "2022-09-13   -5.867952\n",
       "2022-05-18   -5.641919\n",
       "Name: Adj Close, Length: 5, dtype: float64"
      ]
     },
     "execution_count": 20,
     "metadata": {},
     "output_type": "execute_result"
    }
   ],
   "source": [
    "top.index = top.index.strftime('%Y-%m-%d')\n",
    "top"
   ]
  },
  {
   "cell_type": "code",
   "execution_count": 25,
   "metadata": {},
   "outputs": [
    {
     "data": {
      "application/vnd.jupyter.widget-view+json": {
       "model_id": "e137c7bbd5db475bbf6f6e0e39ddb7ad",
       "version_major": 2,
       "version_minor": 0
      },
      "text/plain": [
       "Executing:   0%|          | 0/20 [00:00<?, ?cell/s]"
      ]
     },
     "metadata": {},
     "output_type": "display_data"
    },
    {
     "name": "stderr",
     "output_type": "stream",
     "text": [
      "[IPKernelApp] WARNING | Unknown error in handling startup files:\n"
     ]
    },
    {
     "data": {
      "application/vnd.jupyter.widget-view+json": {
       "model_id": "38d68f5dbf5b4f8bb83e9a0f32d09530",
       "version_major": 2,
       "version_minor": 0
      },
      "text/plain": [
       "Executing:   0%|          | 0/20 [00:00<?, ?cell/s]"
      ]
     },
     "metadata": {},
     "output_type": "display_data"
    },
    {
     "name": "stderr",
     "output_type": "stream",
     "text": [
      "[IPKernelApp] WARNING | Unknown error in handling startup files:\n"
     ]
    },
    {
     "data": {
      "application/vnd.jupyter.widget-view+json": {
       "model_id": "4fc4237a5a3b4c76b80198e6ea3fc131",
       "version_major": 2,
       "version_minor": 0
      },
      "text/plain": [
       "Executing:   0%|          | 0/20 [00:00<?, ?cell/s]"
      ]
     },
     "metadata": {},
     "output_type": "display_data"
    },
    {
     "name": "stderr",
     "output_type": "stream",
     "text": [
      "[IPKernelApp] WARNING | Unknown error in handling startup files:\n"
     ]
    },
    {
     "name": "stdout",
     "output_type": "stream",
     "text": [
      "\n",
      "---------------------------------------------------------------------------\n",
      "Exception encountered at \"In [6]\":\n",
      "---------------------------------------------------------------------------\n",
      "KeyError                                  Traceback (most recent call last)\n",
      "Cell In[6], line 3\n",
      "      1 response = requests.get(url)\n",
      "      2 data = response.json()\n",
      "----> 3 documents = data['feed']\n",
      "      4 documents\n",
      "\n",
      "KeyError: 'feed'\n",
      "\n"
     ]
    },
    {
     "data": {
      "application/vnd.jupyter.widget-view+json": {
       "model_id": "e00cbf059d1c43dea3dad5c13b70b166",
       "version_major": 2,
       "version_minor": 0
      },
      "text/plain": [
       "Executing:   0%|          | 0/20 [00:00<?, ?cell/s]"
      ]
     },
     "metadata": {},
     "output_type": "display_data"
    },
    {
     "name": "stderr",
     "output_type": "stream",
     "text": [
      "[IPKernelApp] WARNING | Unknown error in handling startup files:\n"
     ]
    },
    {
     "name": "stdout",
     "output_type": "stream",
     "text": [
      "\n",
      "---------------------------------------------------------------------------\n",
      "Exception encountered at \"In [13]\":\n",
      "---------------------------------------------------------------------------\n",
      "DuplicateIDError                          Traceback (most recent call last)\n",
      "Cell In[13], line 1\n",
      "----> 1 collection.add(\n",
      "      2     documents=texts,\n",
      "      3     ids=ids,\n",
      "      4     metadatas=l\n",
      "      5 )\n",
      "\n",
      "File ~/miniforge3/envs/llm/lib/python3.11/site-packages/chromadb/api/models/Collection.py:80, in Collection.add(self, ids, embeddings, metadatas, documents, images, uris)\n",
      "     40 def add(\n",
      "     41     self,\n",
      "     42     ids: OneOrMany[ID],\n",
      "   (...)\n",
      "     52     uris: Optional[OneOrMany[URI]] = None,\n",
      "     53 ) -> None:\n",
      "     54     \"\"\"Add embeddings to the data store.\n",
      "     55     Args:\n",
      "     56         ids: The ids of the embeddings you wish to add\n",
      "   (...)\n",
      "     72 \n",
      "     73     \"\"\"\n",
      "     74     (\n",
      "     75         ids,\n",
      "     76         embeddings,\n",
      "     77         metadatas,\n",
      "     78         documents,\n",
      "     79         uris,\n",
      "---> 80     ) = self._validate_and_prepare_embedding_set(\n",
      "     81         ids, embeddings, metadatas, documents, images, uris\n",
      "     82     )\n",
      "     84     self._client._add(ids, self.id, embeddings, metadatas, documents, uris)\n",
      "\n",
      "File ~/miniforge3/envs/llm/lib/python3.11/site-packages/chromadb/api/models/CollectionCommon.py:261, in CollectionCommon._validate_and_prepare_embedding_set(self, ids, embeddings, metadatas, documents, images, uris)\n",
      "    234 def _validate_and_prepare_embedding_set(\n",
      "    235     self,\n",
      "    236     ids: OneOrMany[ID],\n",
      "   (...)\n",
      "    252     Optional[URIs],\n",
      "    253 ]:\n",
      "    254     (\n",
      "    255         ids,\n",
      "    256         embeddings,\n",
      "    257         metadatas,\n",
      "    258         documents,\n",
      "    259         images,\n",
      "    260         uris,\n",
      "--> 261     ) = self._validate_embedding_set(\n",
      "    262         ids, embeddings, metadatas, documents, images, uris\n",
      "    263     )\n",
      "    265     # We need to compute the embeddings if they're not provided\n",
      "    266     if embeddings is None:\n",
      "    267         # At this point, we know that one of documents or images are provided from the validation above\n",
      "\n",
      "File ~/miniforge3/envs/llm/lib/python3.11/site-packages/chromadb/api/models/CollectionCommon.py:163, in CollectionCommon._validate_embedding_set(self, ids, embeddings, metadatas, documents, images, uris, require_embeddings_or_data)\n",
      "    141 def _validate_embedding_set(\n",
      "    142     self,\n",
      "    143     ids: OneOrMany[ID],\n",
      "   (...)\n",
      "    161     Optional[URIs],\n",
      "    162 ]:\n",
      "--> 163     valid_ids = validate_ids(maybe_cast_one_to_many_ids(ids))\n",
      "    164     valid_embeddings = (\n",
      "    165         validate_embeddings(\n",
      "    166             self._normalize_embeddings(maybe_cast_one_to_many_embedding(embeddings))\n",
      "   (...)\n",
      "    169         else None\n",
      "    170     )\n",
      "    171     valid_metadatas = (\n",
      "    172         validate_metadatas(maybe_cast_one_to_many_metadata(metadatas))\n",
      "    173         if metadatas is not None\n",
      "    174         else None\n",
      "    175     )\n",
      "\n",
      "File ~/miniforge3/envs/llm/lib/python3.11/site-packages/chromadb/api/types.py:259, in validate_ids(ids)\n",
      "    255         example_string = (\n",
      "    256             f\"{', '.join(examples[:5])}, ..., {', '.join(examples[-5:])}\"\n",
      "    257         )\n",
      "    258         message = f\"Expected IDs to be unique, found {n_dups} duplicated IDs: {example_string}\"\n",
      "--> 259     raise errors.DuplicateIDError(message)\n",
      "    260 return ids\n",
      "\n",
      "DuplicateIDError: Expected IDs to be unique, found duplicates of: https://www.barrons.com/articles/att-ceo-apple-iphone-14-demand-51663011056\n",
      "\n"
     ]
    },
    {
     "data": {
      "application/vnd.jupyter.widget-view+json": {
       "model_id": "c56f3e6b10c54f4fa532cfbc46711e1b",
       "version_major": 2,
       "version_minor": 0
      },
      "text/plain": [
       "Executing:   0%|          | 0/20 [00:00<?, ?cell/s]"
      ]
     },
     "metadata": {},
     "output_type": "display_data"
    },
    {
     "name": "stderr",
     "output_type": "stream",
     "text": [
      "[IPKernelApp] WARNING | Unknown error in handling startup files:\n"
     ]
    }
   ],
   "source": [
    "import papermill as pm\n",
    "\n",
    "for date in top.index:\n",
    "    \n",
    "    try:\n",
    "            \n",
    "        pm.execute_notebook(\n",
    "            'B1_Solution.ipynb',\n",
    "            'B1_Solution.ipynb',\n",
    "            kernel_name='llm',\n",
    "            parameters=dict(\n",
    "                ticker=ticker,\n",
    "                date=date,\n",
    "                pct_change_value=top[date]\n",
    "            )\n",
    "        )\n",
    "        \n",
    "    except Exception as e:\n",
    "        \n",
    "        print(e)\n",
    "        continue"
   ]
  }
 ],
 "metadata": {
  "kernelspec": {
   "display_name": "nlp",
   "language": "python",
   "name": "python3"
  },
  "language_info": {
   "codemirror_mode": {
    "name": "ipython",
    "version": 3
   },
   "file_extension": ".py",
   "mimetype": "text/x-python",
   "name": "python",
   "nbconvert_exporter": "python",
   "pygments_lexer": "ipython3",
   "version": "3.11.9"
  },
  "orig_nbformat": 4
 },
 "nbformat": 4,
 "nbformat_minor": 2
}
