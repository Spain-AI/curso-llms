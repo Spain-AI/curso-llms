{
 "cells": [
  {
   "cell_type": "markdown",
   "metadata": {},
   "source": [
    "# Download documents"
   ]
  },
  {
   "cell_type": "code",
   "execution_count": 1,
   "metadata": {},
   "outputs": [],
   "source": [
    "urls = [\n",
    "    \"https://bocyl.jcyl.es/boletines/2024/01/02/xml/BOCYL-D-02012024-12.xml\",\n",
    "    \"https://bocyl.jcyl.es/boletines/2023/07/18/xml/BOCYL-D-18072023-10.xml\",\n",
    "]"
   ]
  },
  {
   "cell_type": "code",
   "execution_count": 2,
   "metadata": {},
   "outputs": [],
   "source": [
    "from pathlib import Path\n",
    "folder_documents = Path(\"/workspace/data/documents/BOCYL\")"
   ]
  },
  {
   "cell_type": "code",
   "execution_count": 3,
   "metadata": {},
   "outputs": [],
   "source": [
    "from modules.preprocessing import BOCYLMarkdownExporter\n",
    "exporter = BOCYLMarkdownExporter(folder_documents)"
   ]
  },
  {
   "cell_type": "code",
   "execution_count": 4,
   "metadata": {},
   "outputs": [
    {
     "ename": "ConnectionError",
     "evalue": "HTTPSConnectionPool(host='bocyl.jcyl.es', port=443): Max retries exceeded with url: /boletines/2024/01/02/xml/BOCYL-D-02012024-12.xml (Caused by NameResolutionError(\"<urllib3.connection.HTTPSConnection object at 0xffff9cd5e030>: Failed to resolve 'bocyl.jcyl.es' ([Errno -3] Temporary failure in name resolution)\"))",
     "output_type": "error",
     "traceback": [
      "\u001b[31m---------------------------------------------------------------------------\u001b[39m",
      "\u001b[31mgaierror\u001b[39m                                  Traceback (most recent call last)",
      "\u001b[36mFile \u001b[39m\u001b[32m/opt/conda/lib/python3.12/site-packages/urllib3/connection.py:198\u001b[39m, in \u001b[36mHTTPConnection._new_conn\u001b[39m\u001b[34m(self)\u001b[39m\n\u001b[32m    197\u001b[39m \u001b[38;5;28;01mtry\u001b[39;00m:\n\u001b[32m--> \u001b[39m\u001b[32m198\u001b[39m     sock = \u001b[43mconnection\u001b[49m\u001b[43m.\u001b[49m\u001b[43mcreate_connection\u001b[49m\u001b[43m(\u001b[49m\n\u001b[32m    199\u001b[39m \u001b[43m        \u001b[49m\u001b[43m(\u001b[49m\u001b[38;5;28;43mself\u001b[39;49m\u001b[43m.\u001b[49m\u001b[43m_dns_host\u001b[49m\u001b[43m,\u001b[49m\u001b[43m \u001b[49m\u001b[38;5;28;43mself\u001b[39;49m\u001b[43m.\u001b[49m\u001b[43mport\u001b[49m\u001b[43m)\u001b[49m\u001b[43m,\u001b[49m\n\u001b[32m    200\u001b[39m \u001b[43m        \u001b[49m\u001b[38;5;28;43mself\u001b[39;49m\u001b[43m.\u001b[49m\u001b[43mtimeout\u001b[49m\u001b[43m,\u001b[49m\n\u001b[32m    201\u001b[39m \u001b[43m        \u001b[49m\u001b[43msource_address\u001b[49m\u001b[43m=\u001b[49m\u001b[38;5;28;43mself\u001b[39;49m\u001b[43m.\u001b[49m\u001b[43msource_address\u001b[49m\u001b[43m,\u001b[49m\n\u001b[32m    202\u001b[39m \u001b[43m        \u001b[49m\u001b[43msocket_options\u001b[49m\u001b[43m=\u001b[49m\u001b[38;5;28;43mself\u001b[39;49m\u001b[43m.\u001b[49m\u001b[43msocket_options\u001b[49m\u001b[43m,\u001b[49m\n\u001b[32m    203\u001b[39m \u001b[43m    \u001b[49m\u001b[43m)\u001b[49m\n\u001b[32m    204\u001b[39m \u001b[38;5;28;01mexcept\u001b[39;00m socket.gaierror \u001b[38;5;28;01mas\u001b[39;00m e:\n",
      "\u001b[36mFile \u001b[39m\u001b[32m/opt/conda/lib/python3.12/site-packages/urllib3/util/connection.py:60\u001b[39m, in \u001b[36mcreate_connection\u001b[39m\u001b[34m(address, timeout, source_address, socket_options)\u001b[39m\n\u001b[32m     58\u001b[39m     \u001b[38;5;28;01mraise\u001b[39;00m LocationParseError(\u001b[33mf\u001b[39m\u001b[33m\"\u001b[39m\u001b[33m'\u001b[39m\u001b[38;5;132;01m{\u001b[39;00mhost\u001b[38;5;132;01m}\u001b[39;00m\u001b[33m'\u001b[39m\u001b[33m, label empty or too long\u001b[39m\u001b[33m\"\u001b[39m) \u001b[38;5;28;01mfrom\u001b[39;00m\u001b[38;5;250m \u001b[39m\u001b[38;5;28;01mNone\u001b[39;00m\n\u001b[32m---> \u001b[39m\u001b[32m60\u001b[39m \u001b[38;5;28;01mfor\u001b[39;00m res \u001b[38;5;129;01min\u001b[39;00m \u001b[43msocket\u001b[49m\u001b[43m.\u001b[49m\u001b[43mgetaddrinfo\u001b[49m\u001b[43m(\u001b[49m\u001b[43mhost\u001b[49m\u001b[43m,\u001b[49m\u001b[43m \u001b[49m\u001b[43mport\u001b[49m\u001b[43m,\u001b[49m\u001b[43m \u001b[49m\u001b[43mfamily\u001b[49m\u001b[43m,\u001b[49m\u001b[43m \u001b[49m\u001b[43msocket\u001b[49m\u001b[43m.\u001b[49m\u001b[43mSOCK_STREAM\u001b[49m\u001b[43m)\u001b[49m:\n\u001b[32m     61\u001b[39m     af, socktype, proto, canonname, sa = res\n",
      "\u001b[36mFile \u001b[39m\u001b[32m/opt/conda/lib/python3.12/socket.py:978\u001b[39m, in \u001b[36mgetaddrinfo\u001b[39m\u001b[34m(host, port, family, type, proto, flags)\u001b[39m\n\u001b[32m    977\u001b[39m addrlist = []\n\u001b[32m--> \u001b[39m\u001b[32m978\u001b[39m \u001b[38;5;28;01mfor\u001b[39;00m res \u001b[38;5;129;01min\u001b[39;00m \u001b[43m_socket\u001b[49m\u001b[43m.\u001b[49m\u001b[43mgetaddrinfo\u001b[49m\u001b[43m(\u001b[49m\u001b[43mhost\u001b[49m\u001b[43m,\u001b[49m\u001b[43m \u001b[49m\u001b[43mport\u001b[49m\u001b[43m,\u001b[49m\u001b[43m \u001b[49m\u001b[43mfamily\u001b[49m\u001b[43m,\u001b[49m\u001b[43m \u001b[49m\u001b[38;5;28;43mtype\u001b[39;49m\u001b[43m,\u001b[49m\u001b[43m \u001b[49m\u001b[43mproto\u001b[49m\u001b[43m,\u001b[49m\u001b[43m \u001b[49m\u001b[43mflags\u001b[49m\u001b[43m)\u001b[49m:\n\u001b[32m    979\u001b[39m     af, socktype, proto, canonname, sa = res\n",
      "\u001b[31mgaierror\u001b[39m: [Errno -3] Temporary failure in name resolution",
      "\nThe above exception was the direct cause of the following exception:\n",
      "\u001b[31mNameResolutionError\u001b[39m                       Traceback (most recent call last)",
      "\u001b[36mFile \u001b[39m\u001b[32m/opt/conda/lib/python3.12/site-packages/urllib3/connectionpool.py:787\u001b[39m, in \u001b[36mHTTPConnectionPool.urlopen\u001b[39m\u001b[34m(self, method, url, body, headers, retries, redirect, assert_same_host, timeout, pool_timeout, release_conn, chunked, body_pos, preload_content, decode_content, **response_kw)\u001b[39m\n\u001b[32m    786\u001b[39m \u001b[38;5;66;03m# Make the request on the HTTPConnection object\u001b[39;00m\n\u001b[32m--> \u001b[39m\u001b[32m787\u001b[39m response = \u001b[38;5;28;43mself\u001b[39;49m\u001b[43m.\u001b[49m\u001b[43m_make_request\u001b[49m\u001b[43m(\u001b[49m\n\u001b[32m    788\u001b[39m \u001b[43m    \u001b[49m\u001b[43mconn\u001b[49m\u001b[43m,\u001b[49m\n\u001b[32m    789\u001b[39m \u001b[43m    \u001b[49m\u001b[43mmethod\u001b[49m\u001b[43m,\u001b[49m\n\u001b[32m    790\u001b[39m \u001b[43m    \u001b[49m\u001b[43murl\u001b[49m\u001b[43m,\u001b[49m\n\u001b[32m    791\u001b[39m \u001b[43m    \u001b[49m\u001b[43mtimeout\u001b[49m\u001b[43m=\u001b[49m\u001b[43mtimeout_obj\u001b[49m\u001b[43m,\u001b[49m\n\u001b[32m    792\u001b[39m \u001b[43m    \u001b[49m\u001b[43mbody\u001b[49m\u001b[43m=\u001b[49m\u001b[43mbody\u001b[49m\u001b[43m,\u001b[49m\n\u001b[32m    793\u001b[39m \u001b[43m    \u001b[49m\u001b[43mheaders\u001b[49m\u001b[43m=\u001b[49m\u001b[43mheaders\u001b[49m\u001b[43m,\u001b[49m\n\u001b[32m    794\u001b[39m \u001b[43m    \u001b[49m\u001b[43mchunked\u001b[49m\u001b[43m=\u001b[49m\u001b[43mchunked\u001b[49m\u001b[43m,\u001b[49m\n\u001b[32m    795\u001b[39m \u001b[43m    \u001b[49m\u001b[43mretries\u001b[49m\u001b[43m=\u001b[49m\u001b[43mretries\u001b[49m\u001b[43m,\u001b[49m\n\u001b[32m    796\u001b[39m \u001b[43m    \u001b[49m\u001b[43mresponse_conn\u001b[49m\u001b[43m=\u001b[49m\u001b[43mresponse_conn\u001b[49m\u001b[43m,\u001b[49m\n\u001b[32m    797\u001b[39m \u001b[43m    \u001b[49m\u001b[43mpreload_content\u001b[49m\u001b[43m=\u001b[49m\u001b[43mpreload_content\u001b[49m\u001b[43m,\u001b[49m\n\u001b[32m    798\u001b[39m \u001b[43m    \u001b[49m\u001b[43mdecode_content\u001b[49m\u001b[43m=\u001b[49m\u001b[43mdecode_content\u001b[49m\u001b[43m,\u001b[49m\n\u001b[32m    799\u001b[39m \u001b[43m    \u001b[49m\u001b[43m*\u001b[49m\u001b[43m*\u001b[49m\u001b[43mresponse_kw\u001b[49m\u001b[43m,\u001b[49m\n\u001b[32m    800\u001b[39m \u001b[43m\u001b[49m\u001b[43m)\u001b[49m\n\u001b[32m    802\u001b[39m \u001b[38;5;66;03m# Everything went great!\u001b[39;00m\n",
      "\u001b[36mFile \u001b[39m\u001b[32m/opt/conda/lib/python3.12/site-packages/urllib3/connectionpool.py:488\u001b[39m, in \u001b[36mHTTPConnectionPool._make_request\u001b[39m\u001b[34m(self, conn, method, url, body, headers, retries, timeout, chunked, response_conn, preload_content, decode_content, enforce_content_length)\u001b[39m\n\u001b[32m    487\u001b[39m         new_e = _wrap_proxy_error(new_e, conn.proxy.scheme)\n\u001b[32m--> \u001b[39m\u001b[32m488\u001b[39m     \u001b[38;5;28;01mraise\u001b[39;00m new_e\n\u001b[32m    490\u001b[39m \u001b[38;5;66;03m# conn.request() calls http.client.*.request, not the method in\u001b[39;00m\n\u001b[32m    491\u001b[39m \u001b[38;5;66;03m# urllib3.request. It also calls makefile (recv) on the socket.\u001b[39;00m\n",
      "\u001b[36mFile \u001b[39m\u001b[32m/opt/conda/lib/python3.12/site-packages/urllib3/connectionpool.py:464\u001b[39m, in \u001b[36mHTTPConnectionPool._make_request\u001b[39m\u001b[34m(self, conn, method, url, body, headers, retries, timeout, chunked, response_conn, preload_content, decode_content, enforce_content_length)\u001b[39m\n\u001b[32m    463\u001b[39m \u001b[38;5;28;01mtry\u001b[39;00m:\n\u001b[32m--> \u001b[39m\u001b[32m464\u001b[39m     \u001b[38;5;28;43mself\u001b[39;49m\u001b[43m.\u001b[49m\u001b[43m_validate_conn\u001b[49m\u001b[43m(\u001b[49m\u001b[43mconn\u001b[49m\u001b[43m)\u001b[49m\n\u001b[32m    465\u001b[39m \u001b[38;5;28;01mexcept\u001b[39;00m (SocketTimeout, BaseSSLError) \u001b[38;5;28;01mas\u001b[39;00m e:\n",
      "\u001b[36mFile \u001b[39m\u001b[32m/opt/conda/lib/python3.12/site-packages/urllib3/connectionpool.py:1093\u001b[39m, in \u001b[36mHTTPSConnectionPool._validate_conn\u001b[39m\u001b[34m(self, conn)\u001b[39m\n\u001b[32m   1092\u001b[39m \u001b[38;5;28;01mif\u001b[39;00m conn.is_closed:\n\u001b[32m-> \u001b[39m\u001b[32m1093\u001b[39m     \u001b[43mconn\u001b[49m\u001b[43m.\u001b[49m\u001b[43mconnect\u001b[49m\u001b[43m(\u001b[49m\u001b[43m)\u001b[49m\n\u001b[32m   1095\u001b[39m \u001b[38;5;66;03m# TODO revise this, see https://github.com/urllib3/urllib3/issues/2791\u001b[39;00m\n",
      "\u001b[36mFile \u001b[39m\u001b[32m/opt/conda/lib/python3.12/site-packages/urllib3/connection.py:704\u001b[39m, in \u001b[36mHTTPSConnection.connect\u001b[39m\u001b[34m(self)\u001b[39m\n\u001b[32m    703\u001b[39m sock: socket.socket | ssl.SSLSocket\n\u001b[32m--> \u001b[39m\u001b[32m704\u001b[39m \u001b[38;5;28mself\u001b[39m.sock = sock = \u001b[38;5;28;43mself\u001b[39;49m\u001b[43m.\u001b[49m\u001b[43m_new_conn\u001b[49m\u001b[43m(\u001b[49m\u001b[43m)\u001b[49m\n\u001b[32m    705\u001b[39m server_hostname: \u001b[38;5;28mstr\u001b[39m = \u001b[38;5;28mself\u001b[39m.host\n",
      "\u001b[36mFile \u001b[39m\u001b[32m/opt/conda/lib/python3.12/site-packages/urllib3/connection.py:205\u001b[39m, in \u001b[36mHTTPConnection._new_conn\u001b[39m\u001b[34m(self)\u001b[39m\n\u001b[32m    204\u001b[39m \u001b[38;5;28;01mexcept\u001b[39;00m socket.gaierror \u001b[38;5;28;01mas\u001b[39;00m e:\n\u001b[32m--> \u001b[39m\u001b[32m205\u001b[39m     \u001b[38;5;28;01mraise\u001b[39;00m NameResolutionError(\u001b[38;5;28mself\u001b[39m.host, \u001b[38;5;28mself\u001b[39m, e) \u001b[38;5;28;01mfrom\u001b[39;00m\u001b[38;5;250m \u001b[39m\u001b[34;01me\u001b[39;00m\n\u001b[32m    206\u001b[39m \u001b[38;5;28;01mexcept\u001b[39;00m SocketTimeout \u001b[38;5;28;01mas\u001b[39;00m e:\n",
      "\u001b[31mNameResolutionError\u001b[39m: <urllib3.connection.HTTPSConnection object at 0xffff9cd5e030>: Failed to resolve 'bocyl.jcyl.es' ([Errno -3] Temporary failure in name resolution)",
      "\nThe above exception was the direct cause of the following exception:\n",
      "\u001b[31mMaxRetryError\u001b[39m                             Traceback (most recent call last)",
      "\u001b[36mFile \u001b[39m\u001b[32m/opt/conda/lib/python3.12/site-packages/requests/adapters.py:667\u001b[39m, in \u001b[36mHTTPAdapter.send\u001b[39m\u001b[34m(self, request, stream, timeout, verify, cert, proxies)\u001b[39m\n\u001b[32m    666\u001b[39m \u001b[38;5;28;01mtry\u001b[39;00m:\n\u001b[32m--> \u001b[39m\u001b[32m667\u001b[39m     resp = \u001b[43mconn\u001b[49m\u001b[43m.\u001b[49m\u001b[43murlopen\u001b[49m\u001b[43m(\u001b[49m\n\u001b[32m    668\u001b[39m \u001b[43m        \u001b[49m\u001b[43mmethod\u001b[49m\u001b[43m=\u001b[49m\u001b[43mrequest\u001b[49m\u001b[43m.\u001b[49m\u001b[43mmethod\u001b[49m\u001b[43m,\u001b[49m\n\u001b[32m    669\u001b[39m \u001b[43m        \u001b[49m\u001b[43murl\u001b[49m\u001b[43m=\u001b[49m\u001b[43murl\u001b[49m\u001b[43m,\u001b[49m\n\u001b[32m    670\u001b[39m \u001b[43m        \u001b[49m\u001b[43mbody\u001b[49m\u001b[43m=\u001b[49m\u001b[43mrequest\u001b[49m\u001b[43m.\u001b[49m\u001b[43mbody\u001b[49m\u001b[43m,\u001b[49m\n\u001b[32m    671\u001b[39m \u001b[43m        \u001b[49m\u001b[43mheaders\u001b[49m\u001b[43m=\u001b[49m\u001b[43mrequest\u001b[49m\u001b[43m.\u001b[49m\u001b[43mheaders\u001b[49m\u001b[43m,\u001b[49m\n\u001b[32m    672\u001b[39m \u001b[43m        \u001b[49m\u001b[43mredirect\u001b[49m\u001b[43m=\u001b[49m\u001b[38;5;28;43;01mFalse\u001b[39;49;00m\u001b[43m,\u001b[49m\n\u001b[32m    673\u001b[39m \u001b[43m        \u001b[49m\u001b[43massert_same_host\u001b[49m\u001b[43m=\u001b[49m\u001b[38;5;28;43;01mFalse\u001b[39;49;00m\u001b[43m,\u001b[49m\n\u001b[32m    674\u001b[39m \u001b[43m        \u001b[49m\u001b[43mpreload_content\u001b[49m\u001b[43m=\u001b[49m\u001b[38;5;28;43;01mFalse\u001b[39;49;00m\u001b[43m,\u001b[49m\n\u001b[32m    675\u001b[39m \u001b[43m        \u001b[49m\u001b[43mdecode_content\u001b[49m\u001b[43m=\u001b[49m\u001b[38;5;28;43;01mFalse\u001b[39;49;00m\u001b[43m,\u001b[49m\n\u001b[32m    676\u001b[39m \u001b[43m        \u001b[49m\u001b[43mretries\u001b[49m\u001b[43m=\u001b[49m\u001b[38;5;28;43mself\u001b[39;49m\u001b[43m.\u001b[49m\u001b[43mmax_retries\u001b[49m\u001b[43m,\u001b[49m\n\u001b[32m    677\u001b[39m \u001b[43m        \u001b[49m\u001b[43mtimeout\u001b[49m\u001b[43m=\u001b[49m\u001b[43mtimeout\u001b[49m\u001b[43m,\u001b[49m\n\u001b[32m    678\u001b[39m \u001b[43m        \u001b[49m\u001b[43mchunked\u001b[49m\u001b[43m=\u001b[49m\u001b[43mchunked\u001b[49m\u001b[43m,\u001b[49m\n\u001b[32m    679\u001b[39m \u001b[43m    \u001b[49m\u001b[43m)\u001b[49m\n\u001b[32m    681\u001b[39m \u001b[38;5;28;01mexcept\u001b[39;00m (ProtocolError, \u001b[38;5;167;01mOSError\u001b[39;00m) \u001b[38;5;28;01mas\u001b[39;00m err:\n",
      "\u001b[36mFile \u001b[39m\u001b[32m/opt/conda/lib/python3.12/site-packages/urllib3/connectionpool.py:841\u001b[39m, in \u001b[36mHTTPConnectionPool.urlopen\u001b[39m\u001b[34m(self, method, url, body, headers, retries, redirect, assert_same_host, timeout, pool_timeout, release_conn, chunked, body_pos, preload_content, decode_content, **response_kw)\u001b[39m\n\u001b[32m    839\u001b[39m     new_e = ProtocolError(\u001b[33m\"\u001b[39m\u001b[33mConnection aborted.\u001b[39m\u001b[33m\"\u001b[39m, new_e)\n\u001b[32m--> \u001b[39m\u001b[32m841\u001b[39m retries = \u001b[43mretries\u001b[49m\u001b[43m.\u001b[49m\u001b[43mincrement\u001b[49m\u001b[43m(\u001b[49m\n\u001b[32m    842\u001b[39m \u001b[43m    \u001b[49m\u001b[43mmethod\u001b[49m\u001b[43m,\u001b[49m\u001b[43m \u001b[49m\u001b[43murl\u001b[49m\u001b[43m,\u001b[49m\u001b[43m \u001b[49m\u001b[43merror\u001b[49m\u001b[43m=\u001b[49m\u001b[43mnew_e\u001b[49m\u001b[43m,\u001b[49m\u001b[43m \u001b[49m\u001b[43m_pool\u001b[49m\u001b[43m=\u001b[49m\u001b[38;5;28;43mself\u001b[39;49m\u001b[43m,\u001b[49m\u001b[43m \u001b[49m\u001b[43m_stacktrace\u001b[49m\u001b[43m=\u001b[49m\u001b[43msys\u001b[49m\u001b[43m.\u001b[49m\u001b[43mexc_info\u001b[49m\u001b[43m(\u001b[49m\u001b[43m)\u001b[49m\u001b[43m[\u001b[49m\u001b[32;43m2\u001b[39;49m\u001b[43m]\u001b[49m\n\u001b[32m    843\u001b[39m \u001b[43m\u001b[49m\u001b[43m)\u001b[49m\n\u001b[32m    844\u001b[39m retries.sleep()\n",
      "\u001b[36mFile \u001b[39m\u001b[32m/opt/conda/lib/python3.12/site-packages/urllib3/util/retry.py:519\u001b[39m, in \u001b[36mRetry.increment\u001b[39m\u001b[34m(self, method, url, response, error, _pool, _stacktrace)\u001b[39m\n\u001b[32m    518\u001b[39m     reason = error \u001b[38;5;129;01mor\u001b[39;00m ResponseError(cause)\n\u001b[32m--> \u001b[39m\u001b[32m519\u001b[39m     \u001b[38;5;28;01mraise\u001b[39;00m MaxRetryError(_pool, url, reason) \u001b[38;5;28;01mfrom\u001b[39;00m\u001b[38;5;250m \u001b[39m\u001b[34;01mreason\u001b[39;00m  \u001b[38;5;66;03m# type: ignore[arg-type]\u001b[39;00m\n\u001b[32m    521\u001b[39m log.debug(\u001b[33m\"\u001b[39m\u001b[33mIncremented Retry for (url=\u001b[39m\u001b[33m'\u001b[39m\u001b[38;5;132;01m%s\u001b[39;00m\u001b[33m'\u001b[39m\u001b[33m): \u001b[39m\u001b[38;5;132;01m%r\u001b[39;00m\u001b[33m\"\u001b[39m, url, new_retry)\n",
      "\u001b[31mMaxRetryError\u001b[39m: HTTPSConnectionPool(host='bocyl.jcyl.es', port=443): Max retries exceeded with url: /boletines/2024/01/02/xml/BOCYL-D-02012024-12.xml (Caused by NameResolutionError(\"<urllib3.connection.HTTPSConnection object at 0xffff9cd5e030>: Failed to resolve 'bocyl.jcyl.es' ([Errno -3] Temporary failure in name resolution)\"))",
      "\nDuring handling of the above exception, another exception occurred:\n",
      "\u001b[31mConnectionError\u001b[39m                           Traceback (most recent call last)",
      "\u001b[36mCell\u001b[39m\u001b[36m \u001b[39m\u001b[32mIn[4]\u001b[39m\u001b[32m, line 4\u001b[39m\n\u001b[32m      1\u001b[39m paths = []\n\u001b[32m      3\u001b[39m \u001b[38;5;28;01mfor\u001b[39;00m url \u001b[38;5;129;01min\u001b[39;00m urls:\n\u001b[32m----> \u001b[39m\u001b[32m4\u001b[39m     \u001b[43mexporter\u001b[49m\u001b[43m.\u001b[49m\u001b[43mexport\u001b[49m\u001b[43m(\u001b[49m\u001b[43murl\u001b[49m\u001b[43m)\u001b[49m\n\u001b[32m      5\u001b[39m     filename = url.split(\u001b[33m'\u001b[39m\u001b[33m/\u001b[39m\u001b[33m'\u001b[39m)[-\u001b[32m1\u001b[39m].split(\u001b[33m'\u001b[39m\u001b[33m.\u001b[39m\u001b[33m'\u001b[39m)[\u001b[32m0\u001b[39m]\n\u001b[32m      6\u001b[39m     path = folder_documents / \u001b[33mf\u001b[39m\u001b[33m\"\u001b[39m\u001b[38;5;132;01m{\u001b[39;00mfilename\u001b[38;5;132;01m}\u001b[39;00m\u001b[33m.md\u001b[39m\u001b[33m\"\u001b[39m\n",
      "\u001b[36mFile \u001b[39m\u001b[32m/workspace/modules/preprocessing.py:86\u001b[39m, in \u001b[36mBOCYLMarkdownExporter.export\u001b[39m\u001b[34m(self, input_source, output_name)\u001b[39m\n\u001b[32m     83\u001b[39m     \u001b[38;5;28;01mreturn\u001b[39;00m \u001b[38;5;28mstr\u001b[39m(output_path)\n\u001b[32m     85\u001b[39m \u001b[38;5;66;03m# Proceed with export if file doesn't exist\u001b[39;00m\n\u001b[32m---> \u001b[39m\u001b[32m86\u001b[39m markdown = \u001b[38;5;28;43mself\u001b[39;49m\u001b[43m.\u001b[49m\u001b[43mparse_source\u001b[49m\u001b[43m(\u001b[49m\u001b[43minput_source\u001b[49m\u001b[43m)\u001b[49m\n\u001b[32m     87\u001b[39m output_path.write_text(markdown, encoding=\u001b[33m\"\u001b[39m\u001b[33mutf-8\u001b[39m\u001b[33m\"\u001b[39m)\n\u001b[32m     88\u001b[39m \u001b[38;5;28;01mreturn\u001b[39;00m \u001b[38;5;28mstr\u001b[39m(output_path)\n",
      "\u001b[36mFile \u001b[39m\u001b[32m/workspace/modules/preprocessing.py:14\u001b[39m, in \u001b[36mBOCYLMarkdownExporter.parse_source\u001b[39m\u001b[34m(self, source)\u001b[39m\n\u001b[32m     12\u001b[39m \u001b[38;5;28;01mdef\u001b[39;00m\u001b[38;5;250m \u001b[39m\u001b[34mparse_source\u001b[39m(\u001b[38;5;28mself\u001b[39m, source: \u001b[38;5;28mstr\u001b[39m) -> \u001b[38;5;28mstr\u001b[39m:\n\u001b[32m     13\u001b[39m     \u001b[38;5;28;01mif\u001b[39;00m source.startswith(\u001b[33m\"\u001b[39m\u001b[33mhttp://\u001b[39m\u001b[33m\"\u001b[39m) \u001b[38;5;129;01mor\u001b[39;00m source.startswith(\u001b[33m\"\u001b[39m\u001b[33mhttps://\u001b[39m\u001b[33m\"\u001b[39m):\n\u001b[32m---> \u001b[39m\u001b[32m14\u001b[39m         response = \u001b[43mrequests\u001b[49m\u001b[43m.\u001b[49m\u001b[43mget\u001b[49m\u001b[43m(\u001b[49m\u001b[43msource\u001b[49m\u001b[43m)\u001b[49m\n\u001b[32m     15\u001b[39m         response.raise_for_status()\n\u001b[32m     16\u001b[39m         root = ET.fromstring(response.content)\n",
      "\u001b[36mFile \u001b[39m\u001b[32m/opt/conda/lib/python3.12/site-packages/requests/api.py:73\u001b[39m, in \u001b[36mget\u001b[39m\u001b[34m(url, params, **kwargs)\u001b[39m\n\u001b[32m     62\u001b[39m \u001b[38;5;28;01mdef\u001b[39;00m\u001b[38;5;250m \u001b[39m\u001b[34mget\u001b[39m(url, params=\u001b[38;5;28;01mNone\u001b[39;00m, **kwargs):\n\u001b[32m     63\u001b[39m \u001b[38;5;250m    \u001b[39m\u001b[33mr\u001b[39m\u001b[33;03m\"\"\"Sends a GET request.\u001b[39;00m\n\u001b[32m     64\u001b[39m \n\u001b[32m     65\u001b[39m \u001b[33;03m    :param url: URL for the new :class:`Request` object.\u001b[39;00m\n\u001b[32m   (...)\u001b[39m\u001b[32m     70\u001b[39m \u001b[33;03m    :rtype: requests.Response\u001b[39;00m\n\u001b[32m     71\u001b[39m \u001b[33;03m    \"\"\"\u001b[39;00m\n\u001b[32m---> \u001b[39m\u001b[32m73\u001b[39m     \u001b[38;5;28;01mreturn\u001b[39;00m \u001b[43mrequest\u001b[49m\u001b[43m(\u001b[49m\u001b[33;43m\"\u001b[39;49m\u001b[33;43mget\u001b[39;49m\u001b[33;43m\"\u001b[39;49m\u001b[43m,\u001b[49m\u001b[43m \u001b[49m\u001b[43murl\u001b[49m\u001b[43m,\u001b[49m\u001b[43m \u001b[49m\u001b[43mparams\u001b[49m\u001b[43m=\u001b[49m\u001b[43mparams\u001b[49m\u001b[43m,\u001b[49m\u001b[43m \u001b[49m\u001b[43m*\u001b[49m\u001b[43m*\u001b[49m\u001b[43mkwargs\u001b[49m\u001b[43m)\u001b[49m\n",
      "\u001b[36mFile \u001b[39m\u001b[32m/opt/conda/lib/python3.12/site-packages/requests/api.py:59\u001b[39m, in \u001b[36mrequest\u001b[39m\u001b[34m(method, url, **kwargs)\u001b[39m\n\u001b[32m     55\u001b[39m \u001b[38;5;66;03m# By using the 'with' statement we are sure the session is closed, thus we\u001b[39;00m\n\u001b[32m     56\u001b[39m \u001b[38;5;66;03m# avoid leaving sockets open which can trigger a ResourceWarning in some\u001b[39;00m\n\u001b[32m     57\u001b[39m \u001b[38;5;66;03m# cases, and look like a memory leak in others.\u001b[39;00m\n\u001b[32m     58\u001b[39m \u001b[38;5;28;01mwith\u001b[39;00m sessions.Session() \u001b[38;5;28;01mas\u001b[39;00m session:\n\u001b[32m---> \u001b[39m\u001b[32m59\u001b[39m     \u001b[38;5;28;01mreturn\u001b[39;00m \u001b[43msession\u001b[49m\u001b[43m.\u001b[49m\u001b[43mrequest\u001b[49m\u001b[43m(\u001b[49m\u001b[43mmethod\u001b[49m\u001b[43m=\u001b[49m\u001b[43mmethod\u001b[49m\u001b[43m,\u001b[49m\u001b[43m \u001b[49m\u001b[43murl\u001b[49m\u001b[43m=\u001b[49m\u001b[43murl\u001b[49m\u001b[43m,\u001b[49m\u001b[43m \u001b[49m\u001b[43m*\u001b[49m\u001b[43m*\u001b[49m\u001b[43mkwargs\u001b[49m\u001b[43m)\u001b[49m\n",
      "\u001b[36mFile \u001b[39m\u001b[32m/opt/conda/lib/python3.12/site-packages/requests/sessions.py:589\u001b[39m, in \u001b[36mSession.request\u001b[39m\u001b[34m(self, method, url, params, data, headers, cookies, files, auth, timeout, allow_redirects, proxies, hooks, stream, verify, cert, json)\u001b[39m\n\u001b[32m    584\u001b[39m send_kwargs = {\n\u001b[32m    585\u001b[39m     \u001b[33m\"\u001b[39m\u001b[33mtimeout\u001b[39m\u001b[33m\"\u001b[39m: timeout,\n\u001b[32m    586\u001b[39m     \u001b[33m\"\u001b[39m\u001b[33mallow_redirects\u001b[39m\u001b[33m\"\u001b[39m: allow_redirects,\n\u001b[32m    587\u001b[39m }\n\u001b[32m    588\u001b[39m send_kwargs.update(settings)\n\u001b[32m--> \u001b[39m\u001b[32m589\u001b[39m resp = \u001b[38;5;28;43mself\u001b[39;49m\u001b[43m.\u001b[49m\u001b[43msend\u001b[49m\u001b[43m(\u001b[49m\u001b[43mprep\u001b[49m\u001b[43m,\u001b[49m\u001b[43m \u001b[49m\u001b[43m*\u001b[49m\u001b[43m*\u001b[49m\u001b[43msend_kwargs\u001b[49m\u001b[43m)\u001b[49m\n\u001b[32m    591\u001b[39m \u001b[38;5;28;01mreturn\u001b[39;00m resp\n",
      "\u001b[36mFile \u001b[39m\u001b[32m/opt/conda/lib/python3.12/site-packages/requests/sessions.py:703\u001b[39m, in \u001b[36mSession.send\u001b[39m\u001b[34m(self, request, **kwargs)\u001b[39m\n\u001b[32m    700\u001b[39m start = preferred_clock()\n\u001b[32m    702\u001b[39m \u001b[38;5;66;03m# Send the request\u001b[39;00m\n\u001b[32m--> \u001b[39m\u001b[32m703\u001b[39m r = \u001b[43madapter\u001b[49m\u001b[43m.\u001b[49m\u001b[43msend\u001b[49m\u001b[43m(\u001b[49m\u001b[43mrequest\u001b[49m\u001b[43m,\u001b[49m\u001b[43m \u001b[49m\u001b[43m*\u001b[49m\u001b[43m*\u001b[49m\u001b[43mkwargs\u001b[49m\u001b[43m)\u001b[49m\n\u001b[32m    705\u001b[39m \u001b[38;5;66;03m# Total elapsed time of the request (approximately)\u001b[39;00m\n\u001b[32m    706\u001b[39m elapsed = preferred_clock() - start\n",
      "\u001b[36mFile \u001b[39m\u001b[32m/opt/conda/lib/python3.12/site-packages/requests/adapters.py:700\u001b[39m, in \u001b[36mHTTPAdapter.send\u001b[39m\u001b[34m(self, request, stream, timeout, verify, cert, proxies)\u001b[39m\n\u001b[32m    696\u001b[39m     \u001b[38;5;28;01mif\u001b[39;00m \u001b[38;5;28misinstance\u001b[39m(e.reason, _SSLError):\n\u001b[32m    697\u001b[39m         \u001b[38;5;66;03m# This branch is for urllib3 v1.22 and later.\u001b[39;00m\n\u001b[32m    698\u001b[39m         \u001b[38;5;28;01mraise\u001b[39;00m SSLError(e, request=request)\n\u001b[32m--> \u001b[39m\u001b[32m700\u001b[39m     \u001b[38;5;28;01mraise\u001b[39;00m \u001b[38;5;167;01mConnectionError\u001b[39;00m(e, request=request)\n\u001b[32m    702\u001b[39m \u001b[38;5;28;01mexcept\u001b[39;00m ClosedPoolError \u001b[38;5;28;01mas\u001b[39;00m e:\n\u001b[32m    703\u001b[39m     \u001b[38;5;28;01mraise\u001b[39;00m \u001b[38;5;167;01mConnectionError\u001b[39;00m(e, request=request)\n",
      "\u001b[31mConnectionError\u001b[39m: HTTPSConnectionPool(host='bocyl.jcyl.es', port=443): Max retries exceeded with url: /boletines/2024/01/02/xml/BOCYL-D-02012024-12.xml (Caused by NameResolutionError(\"<urllib3.connection.HTTPSConnection object at 0xffff9cd5e030>: Failed to resolve 'bocyl.jcyl.es' ([Errno -3] Temporary failure in name resolution)\"))"
     ]
    }
   ],
   "source": [
    "paths = []\n",
    "\n",
    "for url in urls:\n",
    "    exporter.export(url)\n",
    "    filename = url.split('/')[-1].split('.')[0]\n",
    "    path = folder_documents / f\"{filename}.md\"\n",
    "    paths.append(path)\n",
    "\n",
    "paths"
   ]
  },
  {
   "cell_type": "markdown",
   "metadata": {},
   "source": [
    "## Create vector db"
   ]
  },
  {
   "cell_type": "markdown",
   "metadata": {},
   "source": [
    "### Instanciate client"
   ]
  },
  {
   "cell_type": "code",
   "execution_count": 5,
   "metadata": {},
   "outputs": [
    {
     "name": "stderr",
     "output_type": "stream",
     "text": [
      "/opt/conda/lib/python3.12/site-packages/tqdm/auto.py:21: TqdmWarning: IProgress not found. Please update jupyter and ipywidgets. See https://ipywidgets.readthedocs.io/en/stable/user_install.html\n",
      "  from .autonotebook import tqdm as notebook_tqdm\n"
     ]
    }
   ],
   "source": [
    "import chromadb\n",
    "from chromadb.config import Settings\n",
    "from sentence_transformers import SentenceTransformer\n",
    "from pathlib import Path\n",
    "import os"
   ]
  },
  {
   "cell_type": "code",
   "execution_count": 6,
   "metadata": {},
   "outputs": [],
   "source": [
    "# Define the path where the database will be stored\n",
    "db_path = \"/workspace/data/vectordb/chromadb\"\n",
    "\n",
    "# Create directory if it doesn't exist\n",
    "os.makedirs(db_path, exist_ok=True)\n",
    "\n",
    "# Initialize the ChromaDB client with persistent storage\n",
    "client = chromadb.PersistentClient(path=db_path)"
   ]
  },
  {
   "cell_type": "markdown",
   "metadata": {},
   "source": [
    "### Create collection"
   ]
  },
  {
   "cell_type": "code",
   "execution_count": 7,
   "metadata": {},
   "outputs": [],
   "source": [
    "# Create a new collection (or get existing one)\n",
    "collection_name = \"bocyl\"\n",
    "collection = client.get_or_create_collection(name=collection_name)"
   ]
  },
  {
   "cell_type": "markdown",
   "metadata": {},
   "source": [
    "### Insert documents"
   ]
  },
  {
   "cell_type": "markdown",
   "metadata": {},
   "source": [
    "#### Define functions to extract metadata"
   ]
  },
  {
   "cell_type": "code",
   "execution_count": 8,
   "metadata": {},
   "outputs": [],
   "source": [
    "import re\n",
    "from datetime import datetime\n",
    "\n",
    "# Function to extract metadata from filename\n",
    "def extract_metadata_from_filename(filename):\n",
    "    # Pattern: BOCYL-D-DDMMYYYY-NN\n",
    "    pattern = r\"BOCYL-D-(\\d{2})(\\d{2})(\\d{4})-(\\d+)\"\n",
    "    match = re.match(pattern, filename)\n",
    "    \n",
    "    if match:\n",
    "        day, month, year, doc_num = match.groups()\n",
    "        # Create date object\n",
    "        doc_date = datetime.strptime(f\"{day}/{month}/{year}\", \"%d/%m/%Y\").strftime(\"%Y-%m-%d\")\n",
    "        \n",
    "        return {\n",
    "            \"doc_id\": filename,\n",
    "            \"date\": doc_date,\n",
    "            \"doc_number\": int(doc_num),\n",
    "            \"source\": \"BOCYL\",\n",
    "            \"type\": \"official_document\"\n",
    "        }\n",
    "    return {\"doc_id\": filename}\n",
    "\n",
    "# Function to extract potential metadata from document content\n",
    "def extract_metadata_from_content(content):\n",
    "    # Example patterns to look for in document content\n",
    "    title_match = re.search(r\"^# (.+)$\", content, re.MULTILINE)\n",
    "    title = title_match.group(1) if title_match else \"Unknown Title\"\n",
    "    \n",
    "    # Could extract more metadata based on document structure\n",
    "    # This is a simplified example\n",
    "    \n",
    "    return {\n",
    "        \"title\": title\n",
    "    }"
   ]
  },
  {
   "cell_type": "markdown",
   "metadata": {},
   "source": [
    "#### Define embedding model"
   ]
  },
  {
   "cell_type": "code",
   "execution_count": 9,
   "metadata": {},
   "outputs": [],
   "source": [
    "import torch\n",
    "from langchain_huggingface import HuggingFaceEmbeddings\n",
    "\n",
    "device = 'cuda' if torch.cuda.is_available() else 'cpu'\n",
    "model = HuggingFaceEmbeddings(\n",
    "    model_name='BAAI/bge-small-en-v1.5',\n",
    "    model_kwargs={'device': device}\n",
    ")"
   ]
  },
  {
   "cell_type": "markdown",
   "metadata": {},
   "source": [
    "#### Upsert documents"
   ]
  },
  {
   "cell_type": "code",
   "execution_count": 10,
   "metadata": {},
   "outputs": [
    {
     "name": "stdout",
     "output_type": "stream",
     "text": [
      "Document BOCYL-D-02012024-12 already exists. Deleting existing chunks...\n",
      "Added BOCYL-D-02012024-12 with 104 chunks and metadata: {'doc_id': 'BOCYL-D-02012024-12', 'date': '2024-01-02', 'doc_number': 12, 'source': 'BOCYL', 'type': 'official_document', 'title': 'ORDEN AGR/1488/2023, de 22 de diciembre, por la que se determinan en Castilla y León las obligaciones de la condicionalidad reforzada y el procedimiento para las penalizaciones por incumplimiento de la condicionalidad social, que han de cumplir las personas beneficiarias de ayudas de la Política Agraria Común que perciban pagos directos y determinados pagos anuales por superficies y animales para el desarrollo rural, en el marco del Plan Estratégico Nacional de la PAC 2023-2027 de España.'}\n",
      "Added BOCYL-D-18072023-10 with 121 chunks and metadata: {'doc_id': 'BOCYL-D-18072023-10', 'date': '2023-07-18', 'doc_number': 10, 'source': 'BOCYL', 'type': 'official_document', 'title': 'ORDEN EYH/886/2023, de 11 de julio, por la que se aprueban las bases reguladoras de las subvenciones destinadas a la realización de proyectos de I+D+i en Castilla y León, cofinanciados por el Fondo Europeo de Desarrollo Regional - FEDER.'}\n"
     ]
    }
   ],
   "source": [
    "for path in paths:\n",
    "    # Read document content\n",
    "    with open(path, \"r\", encoding=\"utf-8\") as f:\n",
    "        content = f.read()\n",
    "    \n",
    "    # Extract document ID and filename\n",
    "    doc_id = path.stem\n",
    "    \n",
    "    # Check if document already exists (using the first chunk's ID as indicator)\n",
    "    first_chunk_id = f\"{doc_id}_0\"\n",
    "    existing = collection.get(ids=[first_chunk_id])\n",
    "    \n",
    "    if len(existing['ids']) > 0:\n",
    "        print(f\"Document {doc_id} already exists. Deleting existing chunks...\")\n",
    "        # Get all chunks for this document\n",
    "        doc_chunks = collection.get(where={\"doc_id\": doc_id})\n",
    "        if doc_chunks and len(doc_chunks['ids']) > 0:\n",
    "            # Delete all existing chunks for this document\n",
    "            collection.delete(ids=doc_chunks['ids'])\n",
    "    \n",
    "    # Extract metadata from filename\n",
    "    filename_metadata = extract_metadata_from_filename(doc_id)\n",
    "    \n",
    "    # Extract metadata from content\n",
    "    content_metadata = extract_metadata_from_content(content)\n",
    "    \n",
    "    # Combine metadata\n",
    "    document_metadata = {**filename_metadata, **content_metadata}\n",
    "    \n",
    "    # Add doc_id to metadata\n",
    "    document_metadata[\"doc_id\"] = doc_id\n",
    "    \n",
    "    # Split document into chunks (simple approach)\n",
    "    chunk_size = 1000\n",
    "    chunks = [content[i:i+chunk_size] for i in range(0, len(content), chunk_size)]\n",
    "    \n",
    "    # Process each chunk\n",
    "    ids = []\n",
    "    metadatas = []\n",
    "    documents = []\n",
    "    \n",
    "    for i, chunk in enumerate(chunks):\n",
    "        chunk_id = f\"{doc_id}_{i}\"\n",
    "        ids.append(chunk_id)\n",
    "        \n",
    "        # Add chunk-specific metadata\n",
    "        chunk_metadata = {\n",
    "            **document_metadata,\n",
    "            \"chunk_id\": i,\n",
    "            \"chunk_total\": len(chunks)\n",
    "        }\n",
    "        metadatas.append(chunk_metadata)\n",
    "        documents.append(chunk)\n",
    "    \n",
    "    # Instead of encoding each chunk individually in a loop\n",
    "    embeddings = model.embed_documents(chunks)\n",
    "    \n",
    "    # Add to collection\n",
    "    collection.add(\n",
    "        ids=ids,\n",
    "        embeddings=embeddings,\n",
    "        metadatas=metadatas,\n",
    "        documents=chunks\n",
    "    )\n",
    "    \n",
    "    print(f\"Added {doc_id} with {len(chunks)} chunks and metadata: {document_metadata}\")"
   ]
  },
  {
   "cell_type": "markdown",
   "metadata": {},
   "source": [
    "### Count documents inserted"
   ]
  },
  {
   "cell_type": "code",
   "execution_count": 11,
   "metadata": {},
   "outputs": [
    {
     "name": "stdout",
     "output_type": "stream",
     "text": [
      "Total number of chunks in collection: 225\n",
      "Number of documents: 2\n"
     ]
    }
   ],
   "source": [
    "# Count items in collection\n",
    "count = collection.count()\n",
    "print(f\"Total number of chunks in collection: {count}\")\n",
    "\n",
    "# Get unique document IDs\n",
    "results = collection.get(\n",
    "    where={\"chunk_id\": 0}  # Get only first chunk of each document\n",
    ")\n",
    "print(f\"Number of documents: {len(results['ids'])}\")"
   ]
  },
  {
   "cell_type": "markdown",
   "metadata": {},
   "source": [
    "## Query the vector db"
   ]
  },
  {
   "cell_type": "markdown",
   "metadata": {},
   "source": [
    "### Define query"
   ]
  },
  {
   "cell_type": "code",
   "execution_count": 12,
   "metadata": {},
   "outputs": [],
   "source": [
    "query = \"¿Qué medidas de condicionalidad reforzada se mencionan en la normativa agraria?\""
   ]
  },
  {
   "cell_type": "markdown",
   "metadata": {},
   "source": [
    "### Encode query with embedding model"
   ]
  },
  {
   "cell_type": "code",
   "execution_count": 13,
   "metadata": {},
   "outputs": [
    {
     "ename": "AttributeError",
     "evalue": "'HuggingFaceEmbeddings' object has no attribute 'encode'",
     "output_type": "error",
     "traceback": [
      "\u001b[31m---------------------------------------------------------------------------\u001b[39m",
      "\u001b[31mAttributeError\u001b[39m                            Traceback (most recent call last)",
      "\u001b[36mCell\u001b[39m\u001b[36m \u001b[39m\u001b[32mIn[13]\u001b[39m\u001b[32m, line 1\u001b[39m\n\u001b[32m----> \u001b[39m\u001b[32m1\u001b[39m query_embedding = \u001b[43mmodel\u001b[49m\u001b[43m.\u001b[49m\u001b[43mencode\u001b[49m(query).tolist()\n\u001b[32m      2\u001b[39m query_embedding\n",
      "\u001b[36mFile \u001b[39m\u001b[32m/opt/conda/lib/python3.12/site-packages/pydantic/main.py:994\u001b[39m, in \u001b[36mBaseModel.__getattr__\u001b[39m\u001b[34m(self, item)\u001b[39m\n\u001b[32m    991\u001b[39m     \u001b[38;5;28;01mreturn\u001b[39;00m \u001b[38;5;28msuper\u001b[39m().\u001b[34m__getattribute__\u001b[39m(item)  \u001b[38;5;66;03m# Raises AttributeError if appropriate\u001b[39;00m\n\u001b[32m    992\u001b[39m \u001b[38;5;28;01melse\u001b[39;00m:\n\u001b[32m    993\u001b[39m     \u001b[38;5;66;03m# this is the current error\u001b[39;00m\n\u001b[32m--> \u001b[39m\u001b[32m994\u001b[39m     \u001b[38;5;28;01mraise\u001b[39;00m \u001b[38;5;167;01mAttributeError\u001b[39;00m(\u001b[33mf\u001b[39m\u001b[33m'\u001b[39m\u001b[38;5;132;01m{\u001b[39;00m\u001b[38;5;28mtype\u001b[39m(\u001b[38;5;28mself\u001b[39m).\u001b[34m__name__\u001b[39m\u001b[38;5;132;01m!r}\u001b[39;00m\u001b[33m object has no attribute \u001b[39m\u001b[38;5;132;01m{\u001b[39;00mitem\u001b[38;5;132;01m!r}\u001b[39;00m\u001b[33m'\u001b[39m)\n",
      "\u001b[31mAttributeError\u001b[39m: 'HuggingFaceEmbeddings' object has no attribute 'encode'"
     ]
    }
   ],
   "source": [
    "query_embedding = model.embed_query(query)"
   ]
  },
  {
   "cell_type": "markdown",
   "metadata": {},
   "source": [
    "### Run the query"
   ]
  },
  {
   "cell_type": "code",
   "execution_count": null,
   "metadata": {},
   "outputs": [
    {
     "name": "stdout",
     "output_type": "stream",
     "text": [
      "Result 1:\n",
      "  Document: BOCYL-D-02012024-12\n",
      "  Chunk: 4\n",
      "  Similarity Score: 0.6451\n",
      "  Text: as competentes por razón de las materias relacionadas con la condicionalidad reforzada, que dispongan de datos e información relacionados con las obli...\n",
      "\n",
      "Result 2:\n",
      "  Document: BOCYL-D-02012024-12\n",
      "  Chunk: 10\n",
      "  Similarity Score: 0.6417\n",
      "  Text: to de aplicación.\n",
      "\n",
      "Esta norma será de aplicación a todas las personas beneficiarias de los regímenes de ayudas recogidos en el ANEXO I de la presente ...\n",
      "\n",
      "Result 3:\n",
      "  Document: BOCYL-D-02012024-12\n",
      "  Chunk: 11\n",
      "  Similarity Score: 0.5544\n",
      "  Text: . Relación de requisitos legales de gestión y de las buenas condiciones agrarias y medioambientales de la condicionalidad reforzada.\n",
      "\n",
      "Las personas ben...\n",
      "\n"
     ]
    }
   ],
   "source": [
    "# Run the query - include_distances=True is key for getting scores\n",
    "search_results = collection.query(\n",
    "    query_embeddings=[query_embedding],\n",
    "    n_results=3,\n",
    ")\n",
    "\n",
    "# Display results with scores\n",
    "for i, (id, document, metadata, distance) in enumerate(zip(\n",
    "        search_results[\"ids\"][0],\n",
    "        search_results[\"documents\"][0],\n",
    "        search_results[\"metadatas\"][0],\n",
    "        search_results[\"distances\"][0]  # This contains the similarity scores\n",
    "    )):\n",
    "    # Convert distance to similarity score (closer to 1 is better)\n",
    "    # ChromaDB typically returns distances, where smaller is better\n",
    "    # For cosine similarity, you can convert: similarity = 1 - distance\n",
    "    similarity_score = 1 - distance  # For cosine distance\n",
    "    \n",
    "    print(f\"Result {i+1}:\")\n",
    "    print(f\"  Document: {metadata['doc_id']}\")\n",
    "    print(f\"  Chunk: {metadata['chunk_id']}\")\n",
    "    print(f\"  Similarity Score: {similarity_score:.4f}\")\n",
    "    print(f\"  Text: {document[:150]}...\")\n",
    "    print()"
   ]
  },
  {
   "cell_type": "markdown",
   "metadata": {},
   "source": [
    "## Refactor the code"
   ]
  },
  {
   "cell_type": "code",
   "execution_count": 22,
   "metadata": {},
   "outputs": [],
   "source": [
    "from modules.vectordb import VectorDBQuerier"
   ]
  },
  {
   "cell_type": "code",
   "execution_count": 23,
   "metadata": {},
   "outputs": [
    {
     "data": {
      "text/plain": [
       "<__main__.VectorDBQuerier at 0xffff2ff883e0>"
      ]
     },
     "execution_count": 23,
     "metadata": {},
     "output_type": "execute_result"
    }
   ],
   "source": [
    "# Initialize the querier with your collection and model\n",
    "querier = VectorDBQuerier(collection, model)\n",
    "querier"
   ]
  },
  {
   "cell_type": "markdown",
   "metadata": {},
   "source": [
    "## Multiple queries"
   ]
  },
  {
   "cell_type": "code",
   "execution_count": 25,
   "metadata": {},
   "outputs": [
    {
     "name": "stdout",
     "output_type": "stream",
     "text": [
      "Result 1:\n",
      "  Document: BOCYL-D-02012024-12\n",
      "  Chunk: 4\n",
      "  Similarity Score: 0.6451\n",
      "  Text: as competentes por razón de las materias relacionadas con la condicionalidad reforzada, que dispongan de datos e información relacionados con las obli...\n",
      "\n",
      "Result 2:\n",
      "  Document: BOCYL-D-02012024-12\n",
      "  Chunk: 10\n",
      "  Similarity Score: 0.6417\n",
      "  Text: to de aplicación.\n",
      "\n",
      "Esta norma será de aplicación a todas las personas beneficiarias de los regímenes de ayudas recogidos en el ANEXO I de la presente ...\n",
      "\n",
      "Result 3:\n",
      "  Document: BOCYL-D-02012024-12\n",
      "  Chunk: 11\n",
      "  Similarity Score: 0.5544\n",
      "  Text: . Relación de requisitos legales de gestión y de las buenas condiciones agrarias y medioambientales de la condicionalidad reforzada.\n",
      "\n",
      "Las personas ben...\n",
      "\n"
     ]
    }
   ],
   "source": [
    "# Run a single query\n",
    "result1 = querier.query(\n",
    "    \"¿Qué medidas de condicionalidad reforzada se mencionan en la normativa agraria?\",\n",
    "    n_results=3\n",
    ")"
   ]
  },
  {
   "cell_type": "code",
   "execution_count": 26,
   "metadata": {},
   "outputs": [
    {
     "data": {
      "text/plain": [
       "{'query': '¿Qué medidas de condicionalidad reforzada se mencionan en la normativa agraria?',\n",
       " 'results': [{'document_id': 'BOCYL-D-02012024-12',\n",
       "   'chunk_id': 4,\n",
       "   'metadata': {'title': 'ORDEN AGR/1488/2023, de 22 de diciembre, por la que se determinan en Castilla y León las obligaciones de la condicionalidad reforzada y el procedimiento para las penalizaciones por incumplimiento de la condicionalidad social, que han de cumplir las personas beneficiarias de ayudas de la Política Agraria Común que perciban pagos directos y determinados pagos anuales por superficies y animales para el desarrollo rural, en el marco del Plan Estratégico Nacional de la PAC 2023-2027 de España.',\n",
       "    'date': '2024-01-02',\n",
       "    'type': 'official_document',\n",
       "    'chunk_id': 4,\n",
       "    'chunk_total': 104,\n",
       "    'source': 'BOCYL',\n",
       "    'doc_id': 'BOCYL-D-02012024-12',\n",
       "    'doc_number': 12},\n",
       "   'text': 'as competentes por razón de las materias relacionadas con la condicionalidad reforzada, que dispongan de datos e información relacionados con las obligaciones de la condicionalidad reforzada, proporcionarán los mismos a la Consejería competente en materia agraria, tal y como establece el artículo 5 del citado decreto.\\n\\nLa orden se estructura en 7 artículos, una disposición derogatoria, y dos disposiciones finales, una de habilitación de ejecución y otra de entrada en vigor. y tiene por objeto establecer los regímenes de ayuda a los que es aplicable la condicionalidad reforzada y social en el ámbito de la Comunidad de Castilla y León, complementar los requisitos legales de gestión (RLG) y las buenas condiciones agrarias y medioambientales (BCAM), de la condicionalidad reforzada, prever el «Plan de controles administrativos y sobre el terreno para la comprobación de los requisitos de la condicionalidad reforzada y el cálculo de las penalizaciones» y establecer la aplicación de las penali',\n",
       "   'similarity': 0.6450930237770081},\n",
       "  {'document_id': 'BOCYL-D-02012024-12',\n",
       "   'chunk_id': 10,\n",
       "   'metadata': {'doc_id': 'BOCYL-D-02012024-12',\n",
       "    'type': 'official_document',\n",
       "    'chunk_id': 10,\n",
       "    'title': 'ORDEN AGR/1488/2023, de 22 de diciembre, por la que se determinan en Castilla y León las obligaciones de la condicionalidad reforzada y el procedimiento para las penalizaciones por incumplimiento de la condicionalidad social, que han de cumplir las personas beneficiarias de ayudas de la Política Agraria Común que perciban pagos directos y determinados pagos anuales por superficies y animales para el desarrollo rural, en el marco del Plan Estratégico Nacional de la PAC 2023-2027 de España.',\n",
       "    'chunk_total': 104,\n",
       "    'date': '2024-01-02',\n",
       "    'doc_number': 12,\n",
       "    'source': 'BOCYL'},\n",
       "   'text': 'to de aplicación.\\n\\nEsta norma será de aplicación a todas las personas beneficiarias de los regímenes de ayudas recogidos en el ANEXO I de la presente orden y que son gestionados por la Administración de la Comunidad de Castilla y León.\\n\\n## Artículo 3. Ámbitos de control de la condicionalidad reforzada.\\n\\nDe conformidad con el Real Decreto 1049/2022, de 27 de diciembre, por el que se establecen las normas para la aplicación de la condicionalidad reforzada y de la condicionalidad social que deben cumplir las personas beneficiarias de las ayudas en el marco de la Política Agrícola Común que reciban pagos directos, determinados pagos anuales de desarrollo rural y del Programa de Opciones Específicas por la Lejanía y la Insularidad (POSEI), las obligaciones en materia de condicionalidad reforzada estarán comprendidas en los siguientes ámbitos de control, que se relacionan en el ANEXO II\\n\\na) Clima y medio ambiente.\\n\\nb) La salud pública y la fitosanidad.\\n\\nc) El bienestar animal.\\n\\n## Artículo 4',\n",
       "   'similarity': 0.6417289674282074},\n",
       "  {'document_id': 'BOCYL-D-02012024-12',\n",
       "   'chunk_id': 11,\n",
       "   'metadata': {'doc_number': 12,\n",
       "    'type': 'official_document',\n",
       "    'chunk_total': 104,\n",
       "    'doc_id': 'BOCYL-D-02012024-12',\n",
       "    'title': 'ORDEN AGR/1488/2023, de 22 de diciembre, por la que se determinan en Castilla y León las obligaciones de la condicionalidad reforzada y el procedimiento para las penalizaciones por incumplimiento de la condicionalidad social, que han de cumplir las personas beneficiarias de ayudas de la Política Agraria Común que perciban pagos directos y determinados pagos anuales por superficies y animales para el desarrollo rural, en el marco del Plan Estratégico Nacional de la PAC 2023-2027 de España.',\n",
       "    'date': '2024-01-02',\n",
       "    'chunk_id': 11,\n",
       "    'source': 'BOCYL'},\n",
       "   'text': '. Relación de requisitos legales de gestión y de las buenas condiciones agrarias y medioambientales de la condicionalidad reforzada.\\n\\nLas personas beneficiarias a las que se refiere el artículo 1 deberán respetar en su explotación agraria los requisitos legales de gestión (RLG) y las buenas condiciones agrarias y medioambientales (BCAM) que para cada ámbito figuran en el ANEXO II de la orden.\\n\\n## Artículo 5. Controles de la condicionalidad reforzada.\\n\\nLa Consejería de Agricultura, Ganadería y Desarrollo Rural, designada como órgano de control especializado en el cumplimiento de las obligaciones de la condicionalidad reforzada, por el artículo 1 del Decreto 15/2023, de 7 de septiembre, sobre la condicionalidad reforzada y la condicionalidad social de acuerdo con el Plan Estratégico Nacional de la Política Agrícola Común (PAC) del Reino de España 2023-2027, establecerá el «Plan de controles administrativos y sobre el terreno para la comprobación de los requisitos de la condicionalidad re',\n",
       "   'similarity': 0.5543751120567322}],\n",
       " 'raw_results': {'ids': [['BOCYL-D-02012024-12_4',\n",
       "    'BOCYL-D-02012024-12_10',\n",
       "    'BOCYL-D-02012024-12_11']],\n",
       "  'embeddings': None,\n",
       "  'documents': [['as competentes por razón de las materias relacionadas con la condicionalidad reforzada, que dispongan de datos e información relacionados con las obligaciones de la condicionalidad reforzada, proporcionarán los mismos a la Consejería competente en materia agraria, tal y como establece el artículo 5 del citado decreto.\\n\\nLa orden se estructura en 7 artículos, una disposición derogatoria, y dos disposiciones finales, una de habilitación de ejecución y otra de entrada en vigor. y tiene por objeto establecer los regímenes de ayuda a los que es aplicable la condicionalidad reforzada y social en el ámbito de la Comunidad de Castilla y León, complementar los requisitos legales de gestión (RLG) y las buenas condiciones agrarias y medioambientales (BCAM), de la condicionalidad reforzada, prever el «Plan de controles administrativos y sobre el terreno para la comprobación de los requisitos de la condicionalidad reforzada y el cálculo de las penalizaciones» y establecer la aplicación de las penali',\n",
       "    'to de aplicación.\\n\\nEsta norma será de aplicación a todas las personas beneficiarias de los regímenes de ayudas recogidos en el ANEXO I de la presente orden y que son gestionados por la Administración de la Comunidad de Castilla y León.\\n\\n## Artículo 3. Ámbitos de control de la condicionalidad reforzada.\\n\\nDe conformidad con el Real Decreto 1049/2022, de 27 de diciembre, por el que se establecen las normas para la aplicación de la condicionalidad reforzada y de la condicionalidad social que deben cumplir las personas beneficiarias de las ayudas en el marco de la Política Agrícola Común que reciban pagos directos, determinados pagos anuales de desarrollo rural y del Programa de Opciones Específicas por la Lejanía y la Insularidad (POSEI), las obligaciones en materia de condicionalidad reforzada estarán comprendidas en los siguientes ámbitos de control, que se relacionan en el ANEXO II\\n\\na) Clima y medio ambiente.\\n\\nb) La salud pública y la fitosanidad.\\n\\nc) El bienestar animal.\\n\\n## Artículo 4',\n",
       "    '. Relación de requisitos legales de gestión y de las buenas condiciones agrarias y medioambientales de la condicionalidad reforzada.\\n\\nLas personas beneficiarias a las que se refiere el artículo 1 deberán respetar en su explotación agraria los requisitos legales de gestión (RLG) y las buenas condiciones agrarias y medioambientales (BCAM) que para cada ámbito figuran en el ANEXO II de la orden.\\n\\n## Artículo 5. Controles de la condicionalidad reforzada.\\n\\nLa Consejería de Agricultura, Ganadería y Desarrollo Rural, designada como órgano de control especializado en el cumplimiento de las obligaciones de la condicionalidad reforzada, por el artículo 1 del Decreto 15/2023, de 7 de septiembre, sobre la condicionalidad reforzada y la condicionalidad social de acuerdo con el Plan Estratégico Nacional de la Política Agrícola Común (PAC) del Reino de España 2023-2027, establecerá el «Plan de controles administrativos y sobre el terreno para la comprobación de los requisitos de la condicionalidad re']],\n",
       "  'uris': None,\n",
       "  'included': ['metadatas', 'documents', 'distances'],\n",
       "  'data': None,\n",
       "  'metadatas': [[{'title': 'ORDEN AGR/1488/2023, de 22 de diciembre, por la que se determinan en Castilla y León las obligaciones de la condicionalidad reforzada y el procedimiento para las penalizaciones por incumplimiento de la condicionalidad social, que han de cumplir las personas beneficiarias de ayudas de la Política Agraria Común que perciban pagos directos y determinados pagos anuales por superficies y animales para el desarrollo rural, en el marco del Plan Estratégico Nacional de la PAC 2023-2027 de España.',\n",
       "     'date': '2024-01-02',\n",
       "     'type': 'official_document',\n",
       "     'chunk_id': 4,\n",
       "     'chunk_total': 104,\n",
       "     'source': 'BOCYL',\n",
       "     'doc_id': 'BOCYL-D-02012024-12',\n",
       "     'doc_number': 12},\n",
       "    {'doc_id': 'BOCYL-D-02012024-12',\n",
       "     'type': 'official_document',\n",
       "     'chunk_id': 10,\n",
       "     'title': 'ORDEN AGR/1488/2023, de 22 de diciembre, por la que se determinan en Castilla y León las obligaciones de la condicionalidad reforzada y el procedimiento para las penalizaciones por incumplimiento de la condicionalidad social, que han de cumplir las personas beneficiarias de ayudas de la Política Agraria Común que perciban pagos directos y determinados pagos anuales por superficies y animales para el desarrollo rural, en el marco del Plan Estratégico Nacional de la PAC 2023-2027 de España.',\n",
       "     'chunk_total': 104,\n",
       "     'date': '2024-01-02',\n",
       "     'doc_number': 12,\n",
       "     'source': 'BOCYL'},\n",
       "    {'doc_number': 12,\n",
       "     'type': 'official_document',\n",
       "     'chunk_total': 104,\n",
       "     'doc_id': 'BOCYL-D-02012024-12',\n",
       "     'title': 'ORDEN AGR/1488/2023, de 22 de diciembre, por la que se determinan en Castilla y León las obligaciones de la condicionalidad reforzada y el procedimiento para las penalizaciones por incumplimiento de la condicionalidad social, que han de cumplir las personas beneficiarias de ayudas de la Política Agraria Común que perciban pagos directos y determinados pagos anuales por superficies y animales para el desarrollo rural, en el marco del Plan Estratégico Nacional de la PAC 2023-2027 de España.',\n",
       "     'date': '2024-01-02',\n",
       "     'chunk_id': 11,\n",
       "     'source': 'BOCYL'}]],\n",
       "  'distances': [[0.35490697622299194,\n",
       "    0.3582710325717926,\n",
       "    0.4456248879432678]]}}"
      ]
     },
     "execution_count": 26,
     "metadata": {},
     "output_type": "execute_result"
    }
   ],
   "source": [
    "result1"
   ]
  },
  {
   "cell_type": "code",
   "execution_count": 28,
   "metadata": {},
   "outputs": [
    {
     "name": "stdout",
     "output_type": "stream",
     "text": [
      "Result 1:\n",
      "  Document: BOCYL-D-18072023-10\n",
      "  Chunk: 119\n",
      "  Similarity Score: 0.5955\n",
      "  Text:  cuenta los plazos fijados respectivamente para el mantenimiento del empleo y para el mantenimiento de la inversión. Esta responsabilidad deberá ser a...\n",
      "\n",
      "Result 2:\n",
      "  Document: BOCYL-D-18072023-10\n",
      "  Chunk: 33\n",
      "  Similarity Score: 0.5909\n",
      "  Text: iterios de sostenibilidad establecidos en el artículo 29 de la Directiva (UE) 2018/2001 del Parlamento Europeo y del Consejo.\n",
      "\n",
      "Base cuarta.  Entidades...\n",
      "\n",
      "Result 3:\n",
      "  Document: BOCYL-D-18072023-10\n",
      "  Chunk: 75\n",
      "  Similarity Score: 0.5840\n",
      "  Text: haga constar la fecha y el órgano o dependencia en que fueron presentados o, en su caso, emitidos, y no hayan transcurrido más de cinco años desde la ...\n",
      "\n",
      "Result 4:\n",
      "  Document: BOCYL-D-02012024-12\n",
      "  Chunk: 2\n",
      "  Similarity Score: 0.5748\n",
      "  Text:  en relación con la ayuda a los planes estratégicos que deben elaborar los Estados miembros en el marco de la política agrícola común (PAC) financiada...\n",
      "\n",
      "Result 5:\n",
      "  Document: BOCYL-D-18072023-10\n",
      "  Chunk: 118\n",
      "  Similarity Score: 0.5715\n",
      "  Text: n y a la autoridad de gestión responsable en su momento oportuno.\n",
      "\n",
      "Si la entidad beneficiaria no realiza las medidas de información y publicidad señal...\n",
      "\n"
     ]
    }
   ],
   "source": [
    "result3 = querier.query(\n",
    "    \"Requisitos para beneficiarios de fondos FEAGA\",\n",
    "    n_results=5\n",
    ")"
   ]
  },
  {
   "cell_type": "markdown",
   "metadata": {},
   "source": [
    "## Refactor vectordb instance"
   ]
  },
  {
   "cell_type": "code",
   "execution_count": null,
   "metadata": {},
   "outputs": [],
   "source": [
    "from modules.vectordb import get_vectordb_bocyl"
   ]
  }
 ],
 "metadata": {
  "kernelspec": {
   "display_name": "Python 3",
   "language": "python",
   "name": "python3"
  },
  "language_info": {
   "codemirror_mode": {
    "name": "ipython",
    "version": 3
   },
   "file_extension": ".py",
   "mimetype": "text/x-python",
   "name": "python",
   "nbconvert_exporter": "python",
   "pygments_lexer": "ipython3",
   "version": "3.12.10"
  }
 },
 "nbformat": 4,
 "nbformat_minor": 2
}
