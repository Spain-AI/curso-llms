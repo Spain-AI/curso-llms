{
 "cells": [
  {
   "attachments": {},
   "cell_type": "markdown",
   "metadata": {},
   "source": [
    "# LangChain to prompt programmatically in Python"
   ]
  },
  {
   "cell_type": "markdown",
   "metadata": {},
   "source": [
    "1. Create an account on [OpenAI Platform](https://platform.openai.com/)\n",
    "2. Create a project\n",
    "3. Create an API Key in the project (Settings > Project > API Keys)\n",
    "4. Paste it into the `.env` file under the variable `OPENAI_API_KEY`"
   ]
  },
  {
   "attachments": {},
   "cell_type": "markdown",
   "metadata": {},
   "source": [
    "## Load model"
   ]
  },
  {
   "cell_type": "code",
   "execution_count": 1,
   "metadata": {},
   "outputs": [
    {
     "data": {
      "text/plain": [
       "ChatOpenAI(client=<openai.resources.chat.completions.completions.Completions object at 0x7e1ae08bc290>, async_client=<openai.resources.chat.completions.completions.AsyncCompletions object at 0x7e1ae0827c20>, root_client=<openai.OpenAI object at 0x7e1ae1050b60>, root_async_client=<openai.AsyncOpenAI object at 0x7e1ae0825790>, model_name='chatgpt-4o-latest', model_kwargs={}, openai_api_key=SecretStr('**********'))"
      ]
     },
     "execution_count": 1,
     "metadata": {},
     "output_type": "execute_result"
    }
   ],
   "source": [
    "from langchain_openai import ChatOpenAI\n",
    "model = ChatOpenAI(model=\"chatgpt-4o-latest\")\n",
    "\n",
    "model"
   ]
  },
  {
   "attachments": {},
   "cell_type": "markdown",
   "metadata": {},
   "source": [
    "## Prompting seralization"
   ]
  },
  {
   "attachments": {},
   "cell_type": "markdown",
   "metadata": {},
   "source": [
    "### Load markdown template"
   ]
  },
  {
   "cell_type": "code",
   "execution_count": 2,
   "metadata": {},
   "outputs": [
    {
     "data": {
      "text/plain": [
       "'El día {DATE}, el activo financiero con ticker {TICKER} registró un retorno de {RETURN}%, calculado como la variación porcentual entre el precio de cierre de esa fecha y el de la fecha anterior correspondiente según la frecuencia de cálculo definida: {FREQUENCY} (por ejemplo: diaria D, mensual M, trimestral Q o anual Y).\\n\\nExplica los motivos que podrían justificar este movimiento extremo, utilizando noticias relevantes publicadas en torno a esa fecha. Proporciona una explicación fundamentada, la fecha de publicación de la noticia y un enlace a la fuente.'"
      ]
     },
     "execution_count": 2,
     "metadata": {},
     "output_type": "execute_result"
    }
   ],
   "source": [
    "with open('../prompts/single-day/ES.md', 'r') as file:\n",
    "    template = file.read()\n",
    "    \n",
    "template"
   ]
  },
  {
   "attachments": {},
   "cell_type": "markdown",
   "metadata": {},
   "source": [
    "### Create prompt object"
   ]
  },
  {
   "cell_type": "code",
   "execution_count": 3,
   "metadata": {},
   "outputs": [
    {
     "data": {
      "text/plain": [
       "PromptTemplate(input_variables=['DATE', 'FREQUENCY', 'RETURN', 'TICKER'], input_types={}, partial_variables={}, template='El día {DATE}, el activo financiero con ticker {TICKER} registró un retorno de {RETURN}%, calculado como la variación porcentual entre el precio de cierre de esa fecha y el de la fecha anterior correspondiente según la frecuencia de cálculo definida: {FREQUENCY} (por ejemplo: diaria D, mensual M, trimestral Q o anual Y).\\n\\nExplica los motivos que podrían justificar este movimiento extremo, utilizando noticias relevantes publicadas en torno a esa fecha. Proporciona una explicación fundamentada, la fecha de publicación de la noticia y un enlace a la fuente.')"
      ]
     },
     "execution_count": 3,
     "metadata": {},
     "output_type": "execute_result"
    }
   ],
   "source": [
    "from langchain_core.prompts import PromptTemplate\n",
    "\n",
    "prompt = PromptTemplate(\n",
    "    template=template,\n",
    "    template_format='f-string',\n",
    ")\n",
    "\n",
    "prompt"
   ]
  },
  {
   "attachments": {},
   "cell_type": "markdown",
   "metadata": {},
   "source": [
    "### Save prompt to JSON"
   ]
  },
  {
   "cell_type": "code",
   "execution_count": 4,
   "metadata": {},
   "outputs": [],
   "source": [
    "path = '../prompts/single-day/ES.json'\n",
    "prompt.save(path)"
   ]
  },
  {
   "attachments": {},
   "cell_type": "markdown",
   "metadata": {},
   "source": [
    "## Chaining with LLMs"
   ]
  },
  {
   "attachments": {},
   "cell_type": "markdown",
   "metadata": {},
   "source": [
    "### Define chain"
   ]
  },
  {
   "cell_type": "code",
   "execution_count": 5,
   "metadata": {},
   "outputs": [
    {
     "data": {
      "text/plain": [
       "PromptTemplate(input_variables=['DATE', 'FREQUENCY', 'RETURN', 'TICKER'], input_types={}, partial_variables={}, template='El día {DATE}, el activo financiero con ticker {TICKER} registró un retorno de {RETURN}%, calculado como la variación porcentual entre el precio de cierre de esa fecha y el de la fecha anterior correspondiente según la frecuencia de cálculo definida: {FREQUENCY} (por ejemplo: diaria D, mensual M, trimestral Q o anual Y).\\n\\nExplica los motivos que podrían justificar este movimiento extremo, utilizando noticias relevantes publicadas en torno a esa fecha. Proporciona una explicación fundamentada, la fecha de publicación de la noticia y un enlace a la fuente.')\n",
       "| ChatOpenAI(client=<openai.resources.chat.completions.completions.Completions object at 0x7e1ae08bc290>, async_client=<openai.resources.chat.completions.completions.AsyncCompletions object at 0x7e1ae0827c20>, root_client=<openai.OpenAI object at 0x7e1ae1050b60>, root_async_client=<openai.AsyncOpenAI object at 0x7e1ae0825790>, model_name='chatgpt-4o-latest', model_kwargs={}, openai_api_key=SecretStr('**********'))\n",
       "| StrOutputParser()"
      ]
     },
     "execution_count": 5,
     "metadata": {},
     "output_type": "execute_result"
    }
   ],
   "source": [
    "from langchain_core.output_parsers import StrOutputParser\n",
    "chain = prompt | model | StrOutputParser()\n",
    "\n",
    "chain"
   ]
  },
  {
   "attachments": {},
   "cell_type": "markdown",
   "metadata": {},
   "source": [
    "### Preprocess input data"
   ]
  },
  {
   "cell_type": "code",
   "execution_count": 6,
   "metadata": {},
   "outputs": [],
   "source": [
    "ticker = 'AAPL'\n",
    "freq = 'D'"
   ]
  },
  {
   "cell_type": "code",
   "execution_count": 7,
   "metadata": {},
   "outputs": [
    {
     "name": "stdout",
     "output_type": "stream",
     "text": [
      "YF.download() has changed argument auto_adjust default to True\n"
     ]
    },
    {
     "name": "stderr",
     "output_type": "stream",
     "text": [
      "[*********************100%***********************]  1 of 1 completed\n"
     ]
    },
    {
     "data": {
      "text/plain": [
       "Date\n",
       "2024-06-11    7.264904\n",
       "Name: AAPL, dtype: float64"
      ]
     },
     "execution_count": 7,
     "metadata": {},
     "output_type": "execute_result"
    }
   ],
   "source": [
    "from modules import utils\n",
    "\n",
    "r = utils.calculate_significant_returns_simple(\n",
    "    ticker=ticker,\n",
    "    start='2024-01-01',\n",
    "    end='2024-12-31',\n",
    "    freq=freq,\n",
    "    n=1\n",
    ")\n",
    "\n",
    "r"
   ]
  },
  {
   "cell_type": "code",
   "execution_count": 8,
   "metadata": {},
   "outputs": [
    {
     "data": {
      "text/plain": [
       "('2024-06-11', 7.26)"
      ]
     },
     "execution_count": 8,
     "metadata": {},
     "output_type": "execute_result"
    }
   ],
   "source": [
    "date = r.index[0].strftime('%Y-%m-%d')\n",
    "change = round(r.values[0], 2)\n",
    "\n",
    "date, change"
   ]
  },
  {
   "attachments": {},
   "cell_type": "markdown",
   "metadata": {},
   "source": [
    "### Invoke chain with input data"
   ]
  },
  {
   "cell_type": "code",
   "execution_count": 9,
   "metadata": {},
   "outputs": [
    {
     "name": "stdout",
     "output_type": "stream",
     "text": [
      "El movimiento extremo del 7.26% en el precio de las acciones de Apple Inc. (ticker: AAPL) el día 11 de junio de 2024 puede atribuirse principalmente al entusiasmo del mercado tras los anuncios realizados en la Conferencia Mundial de Desarrolladores (WWDC 2024) de Apple, celebrada el 10 de junio de 2024. Durante este evento, Apple presentó una amplia gama de innovaciones centradas en inteligencia artificial (IA), lo que generó una reacción muy positiva entre los inversionistas.\n",
      "\n",
      "Motivos del movimiento:\n",
      "\n",
      "1. Integración de inteligencia artificial generativa (\"Apple Intelligence\"):\n",
      "Apple anunció una renovada estrategia de inteligencia artificial llamada Apple Intelligence, que incorpora capacidades generativas directamente en su ecosistema de dispositivos. Esta iniciativa incluye mejoras significativas a su asistente de voz Siri, aplicaciones como Mail, Notas y Fotos, y una asociación destacada con OpenAI para integrar ChatGPT en iOS 18, macOS Sequoia y iPadOS 18.\n",
      "\n",
      "Estas actualizaciones posicionan a Apple como un competidor más activo en el creciente sector de la IA, donde hasta ahora se le percibía como rezagado frente a empresas como Microsoft, Google y Amazon. La presentación fue bien recibida porque demostró el potencial de Apple para monetizar estas funcionalidades dentro de su base de usuarios premium y cerrar la brecha con otras big tech centradas en IA.\n",
      "\n",
      "2. Sentimiento positivo del mercado:\n",
      "Los analistas y medios financieros destacaron que la presentación del 10 de junio disipó preocupaciones sobre la posición de Apple en la carrera de la inteligencia artificial. El entusiasmo de los inversores se tradujo en un fuerte aumento del volumen de operaciones al día siguiente y un notable salto en la capitalización bursátil de la empresa.\n",
      "\n",
      "3. Cambio en las expectativas de crecimiento:\n",
      "Estos anuncios impulsaron las expectativas de crecimiento futuro para Apple. Inversionistas especulan que las capacidades de IA elevarán el valor percibido de los dispositivos Apple, alentarán la actualización de iPhones e impulsarán nuevos servicios, lo que podría generar mayores márgenes y aumentar los ingresos.\n",
      "\n",
      "Fuentes relevantes:\n",
      "\n",
      "- The Verge. “Apple announces Apple Intelligence: the company’s big push into generative AI.” Publicado el 10 de junio de 2024.  \n",
      "https://www.theverge.com/2024/6/10/24174070/apple-ai-announcement-wwdc-2024-apple-intelligence-chatgpt\n",
      "\n",
      "- Bloomberg. “Apple Soars After Unveiling AI Features, Sending Market Cap Near Record.” Publicado el 10 de junio de 2024.  \n",
      "https://www.bloomberg.com/news/articles/2024-06-10/apple-stock-soars-after-ai-unveiling-at-wwdc-2024\n",
      "\n",
      "- CNBC. “Apple stock rallies after AI announcements during WWDC.” Publicado el 11 de junio de 2024.  \n",
      "https://www.cnbc.com/2024/06/11/apple-stock-climbs-after-revealing-new-ai-features.html\n",
      "\n",
      "En síntesis, el retorno diario del 7.26% en las acciones de Apple el 11 de junio de 2024 se justifica por el impacto positivo de las noticias sobre su incursión en inteligencia artificial, presentadas en la WWDC 2024, lo que alimentó el entusiasmo de los inversionistas por las perspectivas futuras de la compañía en este sector clave.\n"
     ]
    }
   ],
   "source": [
    "output = chain.invoke({\n",
    "    'DATE': date,\n",
    "    'RETURN': change,\n",
    "    'TICKER': ticker,\n",
    "    'FREQUENCY': freq\n",
    "})\n",
    "\n",
    "print(output)"
   ]
  },
  {
   "attachments": {},
   "cell_type": "markdown",
   "metadata": {},
   "source": [
    "## Export output to file"
   ]
  },
  {
   "cell_type": "code",
   "execution_count": 10,
   "metadata": {},
   "outputs": [],
   "source": [
    "with open(f'reports/{ticker}.md', 'w') as file:\n",
    "    file.write(output)"
   ]
  },
  {
   "cell_type": "markdown",
   "metadata": {},
   "source": [
    "---\n",
    "\n",
    "## Change model to enable web search"
   ]
  },
  {
   "cell_type": "markdown",
   "metadata": {},
   "source": [
    "### Compose chain"
   ]
  },
  {
   "cell_type": "code",
   "execution_count": 11,
   "metadata": {},
   "outputs": [
    {
     "data": {
      "text/plain": [
       "PromptTemplate(input_variables=['DATE', 'FREQUENCY', 'RETURN', 'TICKER'], input_types={}, partial_variables={}, template='El día {DATE}, el activo financiero con ticker {TICKER} registró un retorno de {RETURN}%, calculado como la variación porcentual entre el precio de cierre de esa fecha y el de la fecha anterior correspondiente según la frecuencia de cálculo definida: {FREQUENCY} (por ejemplo: diaria D, mensual M, trimestral Q o anual Y).\\n\\nExplica los motivos que podrían justificar este movimiento extremo, utilizando noticias relevantes publicadas en torno a esa fecha. Proporciona una explicación fundamentada, la fecha de publicación de la noticia y un enlace a la fuente.')\n",
       "| ChatOpenAI(client=<openai.resources.chat.completions.completions.Completions object at 0x7e1ad5e7aa50>, async_client=<openai.resources.chat.completions.completions.AsyncCompletions object at 0x7e1ad5cb8650>, root_client=<openai.OpenAI object at 0x7e1ad5e39760>, root_async_client=<openai.AsyncOpenAI object at 0x7e1ad5e79e80>, model_name='gpt-4o-search-preview', model_kwargs={}, openai_api_key=SecretStr('**********'))\n",
       "| StrOutputParser()"
      ]
     },
     "execution_count": 11,
     "metadata": {},
     "output_type": "execute_result"
    }
   ],
   "source": [
    "model = ChatOpenAI(model=\"gpt-4o-search-preview\")\n",
    "chain = prompt | model | StrOutputParser()\n",
    "\n",
    "chain"
   ]
  },
  {
   "cell_type": "markdown",
   "metadata": {},
   "source": [
    "### Invoke chain"
   ]
  },
  {
   "cell_type": "code",
   "execution_count": 12,
   "metadata": {},
   "outputs": [
    {
     "name": "stdout",
     "output_type": "stream",
     "text": [
      "El 10 de junio de 2024, durante la Conferencia Mundial de Desarrolladores (WWDC), Apple presentó varias innovaciones significativas que podrían haber influido en el notable incremento del 7.26% en el precio de sus acciones el 11 de junio de 2024.\n",
      "\n",
      "Entre los anuncios más destacados se encuentra la introducción de \"Apple Intelligence\", una plataforma de inteligencia artificial integrada en iOS 18, iPadOS 18 y macOS Sequoia. Esta plataforma combina procesamiento en el dispositivo y en la nube, ofreciendo a los usuarios una experiencia más personalizada y eficiente. La presentación de esta tecnología marcó un paso importante para Apple en el ámbito de la inteligencia artificial. ([es.wikipedia.org](https://es.wikipedia.org/wiki/Apple_Intelligence?utm_source=openai))\n",
      "\n",
      "Además, Apple anunció la expansión de su dispositivo de realidad mixta, el Apple Vision Pro, a nuevos mercados internacionales. A partir del 28 de junio de 2024, el Apple Vision Pro estaría disponible en países como China, Hong Kong, Japón y Singapur, con planes de lanzamiento en Australia, Canadá, Francia, Alemania y el Reino Unido en julio. Esta expansión global podría haber generado expectativas positivas entre los inversores sobre el potencial de crecimiento de la compañía en el mercado de la realidad aumentada y virtual. ([apple.com](https://www.apple.com/us-es/newsroom/2024/06/apple-vision-pro-arrives-in-new-countries-and-regions-beginning-june-28/?utm_source=openai))\n",
      "\n",
      "Estos anuncios reflejan el compromiso de Apple con la innovación y su capacidad para diversificar su oferta de productos y servicios, lo que probablemente contribuyó al aumento en el valor de sus acciones en esa fecha. \n"
     ]
    }
   ],
   "source": [
    "output = chain.invoke({\n",
    "    'DATE': date,\n",
    "    'RETURN': change,\n",
    "    'TICKER': ticker,\n",
    "    'FREQUENCY': freq\n",
    "})\n",
    "\n",
    "print(output)"
   ]
  },
  {
   "cell_type": "markdown",
   "metadata": {},
   "source": [
    "### Export output to file"
   ]
  },
  {
   "cell_type": "code",
   "execution_count": 13,
   "metadata": {},
   "outputs": [],
   "source": [
    "with open(f'reports/{ticker}_search.md', 'w') as file:\n",
    "    file.write(output)"
   ]
  }
 ],
 "metadata": {
  "kernelspec": {
   "display_name": "conda",
   "language": "python",
   "name": "python3"
  },
  "language_info": {
   "codemirror_mode": {
    "name": "ipython",
    "version": 3
   },
   "file_extension": ".py",
   "mimetype": "text/x-python",
   "name": "python",
   "nbconvert_exporter": "python",
   "pygments_lexer": "ipython3",
   "version": "3.12.9"
  },
  "orig_nbformat": 4
 },
 "nbformat": 4,
 "nbformat_minor": 2
}
