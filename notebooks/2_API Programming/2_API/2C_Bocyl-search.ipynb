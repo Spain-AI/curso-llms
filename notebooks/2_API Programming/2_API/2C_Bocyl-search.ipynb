{
 "cells": [
  {
   "attachments": {},
   "cell_type": "markdown",
   "metadata": {},
   "source": [
    "# LangChain to prompt programmatically in Python"
   ]
  },
  {
   "cell_type": "markdown",
   "metadata": {},
   "source": [
    "1. Create an account on [OpenAI Platform](https://platform.openai.com/)\n",
    "2. Create a project\n",
    "3. Create an API Key in the project (Settings > Project > API Keys)\n",
    "4. Paste it into the `.env` file under the variable `OPENAI_API_KEY`"
   ]
  },
  {
   "attachments": {},
   "cell_type": "markdown",
   "metadata": {},
   "source": [
    "## Load model"
   ]
  },
  {
   "cell_type": "code",
   "execution_count": 1,
   "metadata": {},
   "outputs": [
    {
     "data": {
      "text/plain": [
       "ChatOpenAI(client=<openai.resources.chat.completions.completions.Completions object at 0x772d1268deb0>, async_client=<openai.resources.chat.completions.completions.AsyncCompletions object at 0x772d126ac320>, root_client=<openai.OpenAI object at 0x772d12e40560>, root_async_client=<openai.AsyncOpenAI object at 0x772d1268df10>, model_name='chatgpt-4o-latest', model_kwargs={}, openai_api_key=SecretStr('**********'))"
      ]
     },
     "execution_count": 1,
     "metadata": {},
     "output_type": "execute_result"
    }
   ],
   "source": [
    "from langchain_openai import ChatOpenAI\n",
    "model = ChatOpenAI(model=\"chatgpt-4o-latest\")\n",
    "\n",
    "model"
   ]
  },
  {
   "attachments": {},
   "cell_type": "markdown",
   "metadata": {},
   "source": [
    "## Prompting seralization"
   ]
  },
  {
   "attachments": {},
   "cell_type": "markdown",
   "metadata": {},
   "source": [
    "### Load markdown template"
   ]
  },
  {
   "cell_type": "code",
   "execution_count": 2,
   "metadata": {},
   "outputs": [
    {
     "data": {
      "text/plain": [
       "'Busca documentos del BOCYL segun:\\n\\nFecha inicial: {START}\\nFecha final: {END}\\n\\nSobre el tema: {TEMA}'"
      ]
     },
     "execution_count": 2,
     "metadata": {},
     "output_type": "execute_result"
    }
   ],
   "source": [
    "with open('../prompts/bocyl-search/ES.md', 'r') as file:\n",
    "    template = file.read()\n",
    "    \n",
    "template"
   ]
  },
  {
   "attachments": {},
   "cell_type": "markdown",
   "metadata": {},
   "source": [
    "### Create prompt object"
   ]
  },
  {
   "cell_type": "code",
   "execution_count": 3,
   "metadata": {},
   "outputs": [
    {
     "data": {
      "text/plain": [
       "PromptTemplate(input_variables=['END', 'START', 'TEMA'], input_types={}, partial_variables={}, template='Busca documentos del BOCYL segun:\\n\\nFecha inicial: {START}\\nFecha final: {END}\\n\\nSobre el tema: {TEMA}')"
      ]
     },
     "execution_count": 3,
     "metadata": {},
     "output_type": "execute_result"
    }
   ],
   "source": [
    "from langchain_core.prompts import PromptTemplate\n",
    "\n",
    "prompt = PromptTemplate(\n",
    "    template=template,\n",
    "    template_format='f-string',\n",
    ")\n",
    "\n",
    "prompt"
   ]
  },
  {
   "attachments": {},
   "cell_type": "markdown",
   "metadata": {},
   "source": [
    "### Save prompt to JSON"
   ]
  },
  {
   "cell_type": "code",
   "execution_count": 4,
   "metadata": {},
   "outputs": [],
   "source": [
    "path = '../prompts/bocyl-search/ES.json'\n",
    "prompt.save(path)"
   ]
  },
  {
   "attachments": {},
   "cell_type": "markdown",
   "metadata": {},
   "source": [
    "## Chaining with LLMs"
   ]
  },
  {
   "attachments": {},
   "cell_type": "markdown",
   "metadata": {},
   "source": [
    "### Define chain"
   ]
  },
  {
   "cell_type": "code",
   "execution_count": 5,
   "metadata": {},
   "outputs": [
    {
     "data": {
      "text/plain": [
       "PromptTemplate(input_variables=['END', 'START', 'TEMA'], input_types={}, partial_variables={}, template='Busca documentos del BOCYL segun:\\n\\nFecha inicial: {START}\\nFecha final: {END}\\n\\nSobre el tema: {TEMA}')\n",
       "| ChatOpenAI(client=<openai.resources.chat.completions.completions.Completions object at 0x772d1268deb0>, async_client=<openai.resources.chat.completions.completions.AsyncCompletions object at 0x772d126ac320>, root_client=<openai.OpenAI object at 0x772d12e40560>, root_async_client=<openai.AsyncOpenAI object at 0x772d1268df10>, model_name='chatgpt-4o-latest', model_kwargs={}, openai_api_key=SecretStr('**********'))\n",
       "| StrOutputParser()"
      ]
     },
     "execution_count": 5,
     "metadata": {},
     "output_type": "execute_result"
    }
   ],
   "source": [
    "from langchain_core.output_parsers import StrOutputParser\n",
    "chain = prompt | model | StrOutputParser()\n",
    "\n",
    "chain"
   ]
  },
  {
   "attachments": {},
   "cell_type": "markdown",
   "metadata": {},
   "source": [
    "### Preprocess input data"
   ]
  },
  {
   "cell_type": "code",
   "execution_count": 6,
   "metadata": {},
   "outputs": [],
   "source": [
    "ticker = 'AAPL'\n",
    "freq = 'D'"
   ]
  },
  {
   "cell_type": "code",
   "execution_count": 7,
   "metadata": {},
   "outputs": [
    {
     "name": "stderr",
     "output_type": "stream",
     "text": [
      "[*********************100%***********************]  1 of 1 completed"
     ]
    },
    {
     "name": "stdout",
     "output_type": "stream",
     "text": [
      "YF.download() has changed argument auto_adjust default to True\n"
     ]
    },
    {
     "name": "stderr",
     "output_type": "stream",
     "text": [
      "\n"
     ]
    },
    {
     "data": {
      "text/plain": [
       "Date\n",
       "2024-06-11    7.264912\n",
       "Name: AAPL, dtype: float64"
      ]
     },
     "execution_count": 7,
     "metadata": {},
     "output_type": "execute_result"
    }
   ],
   "source": [
    "from modules import utils\n",
    "\n",
    "r = utils.calculate_significant_returns_simple(\n",
    "    ticker=ticker,\n",
    "    start='2024-01-01',\n",
    "    end='2024-12-31',\n",
    "    freq=freq,\n",
    "    n=1\n",
    ")\n",
    "\n",
    "r"
   ]
  },
  {
   "cell_type": "code",
   "execution_count": 8,
   "metadata": {},
   "outputs": [
    {
     "data": {
      "text/plain": [
       "('2024-06-11', 7.26)"
      ]
     },
     "execution_count": 8,
     "metadata": {},
     "output_type": "execute_result"
    }
   ],
   "source": [
    "date = r.index[0].strftime('%Y-%m-%d')\n",
    "change = round(r.values[0], 2)\n",
    "\n",
    "date, change"
   ]
  },
  {
   "attachments": {},
   "cell_type": "markdown",
   "metadata": {},
   "source": [
    "### Invoke chain with input data"
   ]
  },
  {
   "cell_type": "code",
   "execution_count": 10,
   "metadata": {},
   "outputs": [],
   "source": [
    "start = '2020-01-01'\n",
    "end = '2024-12-31'\n",
    "tema = 'Oposiciones maestros'"
   ]
  },
  {
   "cell_type": "code",
   "execution_count": 11,
   "metadata": {},
   "outputs": [
    {
     "name": "stdout",
     "output_type": "stream",
     "text": [
      "Para encontrar documentos del Boletín Oficial de Castilla y León (BOCYL) relacionados con “oposiciones maestros” entre las fechas del 1 de enero de 2020 y el 31 de diciembre de 2024, puedes hacer lo siguiente:\n",
      "\n",
      "1. Acceder al BOCYL online  \n",
      "El BOCYL tiene un buscador en línea disponible en su portal oficial:\n",
      "\n",
      "Portal del BOCYL:  \n",
      "https://bocyl.jcyl.es/\n",
      "\n",
      "2. Usar el buscador avanzado  \n",
      "En la página principal, selecciona la opción “Búsqueda avanzada” y completa los campos de la siguiente forma:\n",
      "\n",
      "- Palabras clave: oposiciones maestros\n",
      "- Fecha de publicación: desde 01/01/2020 hasta 31/12/2024\n",
      "- Ámbito: puedes dejarlo en blanco o seleccionar “Consejería de Educación” si está disponible para acotar mejor los resultados\n",
      "\n",
      "3. Interpretar los resultados  \n",
      "Se te mostrará una lista de boletines en los que aparece información relacionada con convocatorias, listas de admitidos, bases, fechas de exámenes y otros aspectos relativos a las oposiciones para maestros promovidas por la Junta de Castilla y León entre 2020 y 2024.\n",
      "\n",
      "Resultados comunes que puedes encontrar:\n",
      "\n",
      "- Resoluciones de convocatorias de procesos selectivos de ingreso al Cuerpo de Maestros\n",
      "- Listados provisionales y definitivos de admitidos y excluidos\n",
      "- Fechas y lugares de realización de pruebas\n",
      "- Nombramientos como funcionarios en prácticas o de carrera\n",
      "- Aprobados en los distintos procedimientos selectivos\n",
      "\n",
      "4. Algunos enlaces directos útiles:\n",
      "\n",
      "- Búsqueda directa por palabras clave en el BOCYL:  \n",
      "  https://bocyl.jcyl.es/bocylsite/busquedaAvanzada.do\n",
      "\n",
      "- Portal Educación JCyL – Empleo público y oposiciones:  \n",
      "  https://www.educa.jcyl.es/es/temas/oposiciones\n",
      "\n",
      "Si necesitas acceder a documentos concretos, puedo ayudarte a localizar algunos publicados entre 2020 y 2024. ¿Deseas que te proporcione ejemplos específicos o un resumen de convocatorias por año?\n"
     ]
    }
   ],
   "source": [
    "output = chain.invoke({\n",
    "    'TEMA': tema,\n",
    "    'START': start,\n",
    "    'END': end,\n",
    "})\n",
    "\n",
    "print(output)"
   ]
  },
  {
   "attachments": {},
   "cell_type": "markdown",
   "metadata": {},
   "source": [
    "## Export output to file"
   ]
  },
  {
   "cell_type": "code",
   "execution_count": 12,
   "metadata": {},
   "outputs": [],
   "source": [
    "with open(f'reports/bocyl-search.md', 'w') as file:\n",
    "    file.write(output)"
   ]
  },
  {
   "cell_type": "markdown",
   "metadata": {},
   "source": [
    "---\n",
    "\n",
    "## Change model to enable web search"
   ]
  },
  {
   "cell_type": "markdown",
   "metadata": {},
   "source": [
    "### Compose chain"
   ]
  },
  {
   "cell_type": "code",
   "execution_count": 24,
   "metadata": {},
   "outputs": [
    {
     "data": {
      "text/plain": [
       "PromptTemplate(input_variables=['DATE', 'FREQUENCY', 'RETURN', 'TICKER'], input_types={}, partial_variables={}, template='El día {DATE}, el activo financiero con ticker {TICKER} registró un retorno de {RETURN}%, calculado como la variación porcentual entre el precio de cierre de esa fecha y el de la fecha anterior correspondiente según la frecuencia de cálculo definida: {FREQUENCY} (por ejemplo: diaria D, mensual M, trimestral Q o anual Y).\\n\\nExplica los motivos que podrían justificar este movimiento extremo, utilizando noticias relevantes publicadas en torno a esa fecha. Proporciona una explicación fundamentada, la fecha de publicación de la noticia y un enlace a la fuente.')\n",
       "| ChatOpenAI(client=<openai.resources.chat.completions.completions.Completions object at 0xffff432f7050>, async_client=<openai.resources.chat.completions.completions.AsyncCompletions object at 0xffff4310d5b0>, root_client=<openai.OpenAI object at 0xffff432f4d70>, root_async_client=<openai.AsyncOpenAI object at 0xffff432f70b0>, model_name='gpt-4o-search-preview', model_kwargs={}, openai_api_key=SecretStr('**********'))\n",
       "| StrOutputParser()"
      ]
     },
     "execution_count": 24,
     "metadata": {},
     "output_type": "execute_result"
    }
   ],
   "source": [
    "model = ChatOpenAI(model=\"gpt-4o-search-preview\")\n",
    "chain = prompt | model | StrOutputParser()\n",
    "\n",
    "chain"
   ]
  },
  {
   "cell_type": "markdown",
   "metadata": {},
   "source": [
    "### Invoke chain"
   ]
  },
  {
   "cell_type": "code",
   "execution_count": 25,
   "metadata": {},
   "outputs": [
    {
     "name": "stdout",
     "output_type": "stream",
     "text": [
      "El 11 de junio de 2024, las acciones de Apple Inc. (AAPL) experimentaron un notable incremento del 7.26%, alcanzando un precio récord de $207.15 por acción. Este movimiento significativo se atribuye principalmente a los anuncios realizados durante la Conferencia Mundial de Desarrolladores (WWDC) de Apple, celebrada el 10 de junio de 2024.\n",
      "\n",
      "Durante la WWDC, Apple presentó \"Apple Intelligence\", una plataforma de inteligencia artificial integrada en iOS 18, y anunció una colaboración con OpenAI para incorporar ChatGPT en sus dispositivos. Estas innovaciones generaron expectativas de un nuevo ciclo de actualización de iPhones, impulsando el optimismo entre los inversores. ([bloomberg.com](https://www.bloomberg.com/news/articles/2024-06-11/apple-hits-first-record-this-year-on-hopes-ai-will-fuel-upgrades?utm_source=openai))\n",
      "\n",
      "Analistas de JPMorgan destacaron que las mejoras en las aplicaciones nativas y de terceros, junto con la integración de Apple Intelligence, podrían estimular la demanda de nuevos dispositivos. ([investopedia.com](https://www.investopedia.com/dow-jones-today-06112024-8661364?utm_source=openai))\n",
      "\n",
      "Además, la integración de ChatGPT y una versión más conversacional de Siri se consideraron factores clave para impulsar un ciclo de actualización de iPhones y Mac. ([markets.businessinsider.com](https://markets.businessinsider.com/news/stocks/apple-stock-price-soars-new-record-high-ai-focused-wwdc-2024-6?utm_source=openai))\n",
      "\n",
      "En resumen, el aumento del 7.26% en el precio de las acciones de Apple el 11 de junio de 2024 se debe principalmente a las expectativas positivas generadas por las innovaciones en inteligencia artificial presentadas en la WWDC y su potencial para impulsar la demanda de nuevos dispositivos. \n"
     ]
    }
   ],
   "source": [
    "output = chain.invoke({\n",
    "    'DATE': date,\n",
    "    'RETURN': change,\n",
    "    'TICKER': ticker,\n",
    "    'FREQUENCY': freq\n",
    "})\n",
    "\n",
    "print(output)"
   ]
  },
  {
   "cell_type": "markdown",
   "metadata": {},
   "source": [
    "### Export output to file"
   ]
  },
  {
   "cell_type": "code",
   "execution_count": 27,
   "metadata": {},
   "outputs": [],
   "source": [
    "with open(f'reports/{ticker}_search.md', 'w') as file:\n",
    "    file.write(output)"
   ]
  }
 ],
 "metadata": {
  "kernelspec": {
   "display_name": "conda",
   "language": "python",
   "name": "python3"
  },
  "language_info": {
   "codemirror_mode": {
    "name": "ipython",
    "version": 3
   },
   "file_extension": ".py",
   "mimetype": "text/x-python",
   "name": "python",
   "nbconvert_exporter": "python",
   "pygments_lexer": "ipython3",
   "version": "3.12.9"
  },
  "orig_nbformat": 4
 },
 "nbformat": 4,
 "nbformat_minor": 2
}
