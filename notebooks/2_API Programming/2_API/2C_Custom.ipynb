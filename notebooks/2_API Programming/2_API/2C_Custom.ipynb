{
 "cells": [
  {
   "attachments": {},
   "cell_type": "markdown",
   "metadata": {},
   "source": [
    "# LangChain to prompt programmatically in Python"
   ]
  },
  {
   "attachments": {},
   "cell_type": "markdown",
   "metadata": {},
   "source": [
    "## Load model"
   ]
  },
  {
   "cell_type": "code",
   "execution_count": 26,
   "metadata": {},
   "outputs": [
    {
     "data": {
      "text/plain": [
       "ChatOpenAI(client=<openai.resources.chat.completions.completions.Completions object at 0xffff40c0a9c0>, async_client=<openai.resources.chat.completions.completions.AsyncCompletions object at 0xffff3fbbc050>, root_client=<openai.OpenAI object at 0xffff3fbbb800>, root_async_client=<openai.AsyncOpenAI object at 0xffff40c0a3f0>, model_name='gpt-4o-search-preview', model_kwargs={}, openai_api_key=SecretStr('**********'))"
      ]
     },
     "execution_count": 26,
     "metadata": {},
     "output_type": "execute_result"
    }
   ],
   "source": [
    "from langchain_openai import ChatOpenAI\n",
    "model = ChatOpenAI(model=\"gpt-4o-search-preview\")\n",
    "\n",
    "model"
   ]
  },
  {
   "attachments": {},
   "cell_type": "markdown",
   "metadata": {},
   "source": [
    "## Prompting seralization"
   ]
  },
  {
   "attachments": {},
   "cell_type": "markdown",
   "metadata": {},
   "source": [
    "### Create and load prompt from markdown"
   ]
  },
  {
   "cell_type": "markdown",
   "metadata": {},
   "source": [
    "[../prompts/custom/ES.md](../prompts/custom/ES.md)"
   ]
  },
  {
   "cell_type": "code",
   "execution_count": 27,
   "metadata": {},
   "outputs": [
    {
     "data": {
      "text/plain": [
       "'Busca las últimas noticias de hoy {DATE} de la acción {TICKER}.'"
      ]
     },
     "execution_count": 27,
     "metadata": {},
     "output_type": "execute_result"
    }
   ],
   "source": [
    "from pathlib import Path\n",
    "\n",
    "path_prompt_md = Path('../prompts/custom/ES.md')\n",
    "with open(path_prompt_md, 'r') as file:\n",
    "    template = file.read()\n",
    "    \n",
    "template"
   ]
  },
  {
   "attachments": {},
   "cell_type": "markdown",
   "metadata": {},
   "source": [
    "### Create prompt object"
   ]
  },
  {
   "cell_type": "code",
   "execution_count": 28,
   "metadata": {},
   "outputs": [
    {
     "data": {
      "text/plain": [
       "PromptTemplate(input_variables=['DATE', 'TICKER'], input_types={}, partial_variables={}, template='Busca las últimas noticias de hoy {DATE} de la acción {TICKER}.')"
      ]
     },
     "execution_count": 28,
     "metadata": {},
     "output_type": "execute_result"
    }
   ],
   "source": [
    "from langchain_core.prompts import PromptTemplate\n",
    "\n",
    "prompt = PromptTemplate(\n",
    "    template=template,\n",
    "    template_format='f-string',\n",
    ")\n",
    "\n",
    "prompt"
   ]
  },
  {
   "attachments": {},
   "cell_type": "markdown",
   "metadata": {},
   "source": [
    "### Save prompt to JSON"
   ]
  },
  {
   "cell_type": "code",
   "execution_count": 29,
   "metadata": {},
   "outputs": [],
   "source": [
    "path_prompt_json = path_prompt_md.with_suffix('.json')\n",
    "prompt.save(path_prompt_json)"
   ]
  },
  {
   "attachments": {},
   "cell_type": "markdown",
   "metadata": {},
   "source": [
    "## Chaining with LLMs"
   ]
  },
  {
   "attachments": {},
   "cell_type": "markdown",
   "metadata": {},
   "source": [
    "### Define chain"
   ]
  },
  {
   "cell_type": "code",
   "execution_count": 30,
   "metadata": {},
   "outputs": [
    {
     "data": {
      "text/plain": [
       "PromptTemplate(input_variables=['DATE', 'TICKER'], input_types={}, partial_variables={}, template='Busca las últimas noticias de hoy {DATE} de la acción {TICKER}.')\n",
       "| ChatOpenAI(client=<openai.resources.chat.completions.completions.Completions object at 0xffff40c0a9c0>, async_client=<openai.resources.chat.completions.completions.AsyncCompletions object at 0xffff3fbbc050>, root_client=<openai.OpenAI object at 0xffff3fbbb800>, root_async_client=<openai.AsyncOpenAI object at 0xffff40c0a3f0>, model_name='gpt-4o-search-preview', model_kwargs={}, openai_api_key=SecretStr('**********'))\n",
       "| StrOutputParser()"
      ]
     },
     "execution_count": 30,
     "metadata": {},
     "output_type": "execute_result"
    }
   ],
   "source": [
    "from langchain_core.output_parsers import StrOutputParser\n",
    "chain = prompt | model | StrOutputParser()\n",
    "\n",
    "chain"
   ]
  },
  {
   "cell_type": "markdown",
   "metadata": {},
   "source": [
    "### Preprocess input data"
   ]
  },
  {
   "cell_type": "markdown",
   "metadata": {},
   "source": [
    "If your prompt requires to use the current date, use the following variable."
   ]
  },
  {
   "cell_type": "markdown",
   "metadata": {},
   "source": [
    "Use the `{VARIABLES}` to fill the prompt from [../prompts/custom/ES.md](../prompts/custom/ES.md)."
   ]
  },
  {
   "cell_type": "code",
   "execution_count": 31,
   "metadata": {},
   "outputs": [
    {
     "data": {
      "text/plain": [
       "'2025-04-11'"
      ]
     },
     "execution_count": 31,
     "metadata": {},
     "output_type": "execute_result"
    }
   ],
   "source": [
    "from datetime import datetime\n",
    "today = datetime.now().strftime('%Y-%m-%d')\n",
    "\n",
    "today"
   ]
  },
  {
   "attachments": {},
   "cell_type": "markdown",
   "metadata": {},
   "source": [
    "### Invoke chain with input data"
   ]
  },
  {
   "cell_type": "code",
   "execution_count": 32,
   "metadata": {},
   "outputs": [
    {
     "name": "stdout",
     "output_type": "stream",
     "text": [
      "Al 11 de abril de 2025, las acciones de Apple Inc. (AAPL) cotizan a 190,42 USD, con una variación de -8,22 USD (-4,13%) respecto al cierre anterior.\n",
      "\n",
      "##  Información del mercado de valores para Apple Inc (AAPL)\n",
      "- Apple Inc es un(a) equity en el mercado de USA.\n",
      "- El precio es 190.42 USD actualmente  with a change of -8.22 USD (-0.04%) from the previous close.\n",
      "- The latest open price was 189.0 USD and the intraday volume is 121879981.\n",
      "- The intraday high is 195.04 USD and the intraday low is 183.04 USD.\n",
      "- The latest trade time is Friday, April 11, 00:15:00 UTC.\n",
      "\n",
      "\n",
      "En los últimos meses, Apple ha experimentado fluctuaciones en el precio de sus acciones debido a diversos factores:\n",
      "\n",
      "- **Anuncio de Apple Intelligence**: En junio de 2024, Apple presentó su propio sistema de inteligencia artificial, Apple Intelligence, en colaboración con OpenAI. Tras el anuncio, las acciones de la compañía cayeron casi un 2% el mismo día, posiblemente debido a expectativas no cumplidas por parte de los inversores. ([es.financefeeds.com](https://es.financefeeds.com/aapl-shares-decline-after-apple-intelligence-presentation/?utm_source=openai))\n",
      "\n",
      "- **Lanzamiento del iPhone con IA**: En octubre de 2024, Apple lanzó un iPhone con funciones de inteligencia artificial, lo que impulsó las acciones a un máximo histórico de 237,49 USD, reflejando el optimismo del mercado respecto a la integración de IA en sus productos. ([bloomberglinea.com](https://www.bloomberglinea.com/mercados/acciones-de-apple-alcanzan-record-hay-optimismo-por-ventas-del-iphone-con-ia/?utm_source=openai))\n",
      "\n",
      "- **Perspectivas de crecimiento**: A finales de 2024, analistas como Dan Ives de Wedbush Securities proyectaron que la capitalización de mercado de Apple podría superar los 4 billones de dólares para principios de 2025, impulsada por la adopción de la inteligencia artificial y la sólida demanda de sus productos. ([es.benzinga.com](https://es.benzinga.com/news/usa/stocks/acciones-de-apple-aapl-subiran-hasta-4-billones-que-impulsara-su-increible-crecimiento-en-2025/?utm_source=openai))\n",
      "\n",
      "Es importante tener en cuenta que el mercado bursátil es volátil y las acciones de Apple pueden verse afectadas por diversos factores, incluyendo innovaciones tecnológicas, competencia en el sector y condiciones macroeconómicas. \n"
     ]
    }
   ],
   "source": [
    "output = chain.invoke({\n",
    "    'DATE': today,\n",
    "    'TICKER': 'AAPL',\n",
    "})\n",
    "\n",
    "print(output)"
   ]
  },
  {
   "attachments": {},
   "cell_type": "markdown",
   "metadata": {},
   "source": [
    "## Export output to file"
   ]
  },
  {
   "cell_type": "code",
   "execution_count": 33,
   "metadata": {},
   "outputs": [],
   "source": [
    "with open('reports/custom/output.md', 'w') as file:\n",
    "    file.write(output)"
   ]
  },
  {
   "cell_type": "markdown",
   "metadata": {},
   "source": [
    "## Iterate over a list of items\n",
    "\n",
    "Use the same chain to iterate over a list of items."
   ]
  },
  {
   "cell_type": "code",
   "execution_count": 34,
   "metadata": {},
   "outputs": [],
   "source": [
    "tickers = ['AAPL', 'MSFT', 'GOOG', 'AMZN', 'TSLA']\n",
    "\n",
    "for ticker in tickers:\n",
    "    output = chain.invoke({\n",
    "        'DATE': today,\n",
    "        'TICKER': ticker,\n",
    "    })\n",
    "    \n",
    "    with open(f'reports/custom/{ticker}.md', 'w') as file:\n",
    "        file.write(output)"
   ]
  }
 ],
 "metadata": {
  "kernelspec": {
   "display_name": "Python 3",
   "language": "python",
   "name": "python3"
  },
  "language_info": {
   "codemirror_mode": {
    "name": "ipython",
    "version": 3
   },
   "file_extension": ".py",
   "mimetype": "text/x-python",
   "name": "python",
   "nbconvert_exporter": "python",
   "pygments_lexer": "ipython3",
   "version": "3.12.10"
  },
  "orig_nbformat": 4
 },
 "nbformat": 4,
 "nbformat_minor": 2
}
