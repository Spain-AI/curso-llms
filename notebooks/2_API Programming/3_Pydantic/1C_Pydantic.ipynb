{
 "cells": [
  {
   "attachments": {},
   "cell_type": "markdown",
   "metadata": {},
   "source": [
    "# Customize output format in prompt"
   ]
  },
  {
   "attachments": {},
   "cell_type": "markdown",
   "metadata": {},
   "source": [
    "## Load model"
   ]
  },
  {
   "cell_type": "code",
   "execution_count": 1,
   "metadata": {},
   "outputs": [
    {
     "data": {
      "text/plain": [
       "ChatOpenAI(client=<openai.resources.chat.completions.completions.Completions object at 0xffff4ff8e3c0>, async_client=<openai.resources.chat.completions.completions.AsyncCompletions object at 0xffff4ffac8f0>, root_client=<openai.OpenAI object at 0xffff50962cf0>, root_async_client=<openai.AsyncOpenAI object at 0xffff4ff8e420>, model_name='gpt-4o-search-preview', model_kwargs={}, openai_api_key=SecretStr('**********'))"
      ]
     },
     "execution_count": 1,
     "metadata": {},
     "output_type": "execute_result"
    }
   ],
   "source": [
    "from langchain_openai import ChatOpenAI\n",
    "model = ChatOpenAI(model=\"gpt-4o-search-preview\")\n",
    "\n",
    "model"
   ]
  },
  {
   "attachments": {},
   "cell_type": "markdown",
   "metadata": {},
   "source": [
    "## Load prompt"
   ]
  },
  {
   "cell_type": "code",
   "execution_count": 2,
   "metadata": {},
   "outputs": [
    {
     "data": {
      "text/plain": [
       "PromptTemplate(input_variables=['DATE', 'FREQUENCY', 'RETURN', 'TICKER'], input_types={}, partial_variables={}, template='El día {DATE}, el activo financiero con ticker {TICKER} registró un retorno de {RETURN}%, calculado como la variación porcentual entre el precio de cierre de esa fecha y el de la fecha anterior correspondiente según la frecuencia de cálculo definida: {FREQUENCY} (por ejemplo: diaria D, mensual M, trimestral Q o anual Y).\\n\\nExplica los motivos que podrían justificar este movimiento extremo, utilizando noticias relevantes publicadas en torno a esa fecha. Proporciona una explicación fundamentada, la fecha de publicación de la noticia y un enlace a la fuente.')"
      ]
     },
     "execution_count": 2,
     "metadata": {},
     "output_type": "execute_result"
    }
   ],
   "source": [
    "from langchain_core.prompts import load_prompt\n",
    "prompt = load_prompt(path='../prompts/single-day/ES.json')\n",
    "\n",
    "prompt"
   ]
  },
  {
   "attachments": {},
   "cell_type": "markdown",
   "metadata": {},
   "source": [
    "## Custom Output Parser"
   ]
  },
  {
   "attachments": {},
   "cell_type": "markdown",
   "metadata": {},
   "source": [
    "### Create Pydantic model"
   ]
  },
  {
   "cell_type": "markdown",
   "metadata": {},
   "source": [
    "`/workspace/modules/models.py`"
   ]
  },
  {
   "cell_type": "code",
   "execution_count": 3,
   "metadata": {},
   "outputs": [],
   "source": [
    "from modules.models import News"
   ]
  },
  {
   "attachments": {},
   "cell_type": "markdown",
   "metadata": {},
   "source": [
    "### Associate Pydantic model with parser"
   ]
  },
  {
   "cell_type": "code",
   "execution_count": 4,
   "metadata": {},
   "outputs": [
    {
     "data": {
      "text/plain": [
       "PydanticOutputParser(pydantic_object=<class 'modules.models.News'>)"
      ]
     },
     "execution_count": 4,
     "metadata": {},
     "output_type": "execute_result"
    }
   ],
   "source": [
    "from langchain_core.output_parsers import PydanticOutputParser\n",
    "parser = PydanticOutputParser(pydantic_object=News)\n",
    "\n",
    "parser"
   ]
  },
  {
   "attachments": {},
   "cell_type": "markdown",
   "metadata": {},
   "source": [
    "### Add parser to prompt"
   ]
  },
  {
   "cell_type": "code",
   "execution_count": 5,
   "metadata": {},
   "outputs": [
    {
     "data": {
      "text/plain": [
       "'Answer the QUERY in Spanish and following the format: {format_instructions}\\n\\nQUERY:\\n\\nEl día {DATE}, el activo financiero con ticker {TICKER} registró un retorno de {RETURN}%, calculado como la variación porcentual entre el precio de cierre de esa fecha y el de la fecha anterior correspondiente según la frecuencia de cálculo definida: {FREQUENCY} (por ejemplo: diaria D, mensual M, trimestral Q o anual Y).\\n\\nExplica los motivos que podrían justificar este movimiento extremo, utilizando noticias relevantes publicadas en torno a esa fecha. Proporciona una explicación fundamentada, la fecha de publicación de la noticia y un enlace a la fuente.'"
      ]
     },
     "execution_count": 5,
     "metadata": {},
     "output_type": "execute_result"
    }
   ],
   "source": [
    "prompt.template = 'Answer the QUERY in Spanish and following the format: {format_instructions}\\n\\nQUERY:\\n\\n' + prompt.template\n",
    "prompt.template "
   ]
  },
  {
   "cell_type": "code",
   "execution_count": 6,
   "metadata": {},
   "outputs": [
    {
     "data": {
      "text/plain": [
       "PromptTemplate(input_variables=['DATE', 'FREQUENCY', 'RETURN', 'TICKER'], input_types={}, partial_variables={'format_instructions': 'The output should be formatted as a JSON instance that conforms to the JSON schema below.\\n\\nAs an example, for the schema {\"properties\": {\"foo\": {\"title\": \"Foo\", \"description\": \"a list of strings\", \"type\": \"array\", \"items\": {\"type\": \"string\"}}}, \"required\": [\"foo\"]}\\nthe object {\"foo\": [\"bar\", \"baz\"]} is a well-formatted instance of the schema. The object {\"properties\": {\"foo\": [\"bar\", \"baz\"]}} is not well-formatted.\\n\\nHere is the output schema:\\n```\\n{\"properties\": {\"stock\": {\"description\": \"símbolo de la acción\", \"title\": \"Stock\", \"type\": \"string\"}, \"date\": {\"description\": \"fecha de la noticia\", \"title\": \"Date\", \"type\": \"string\"}, \"value\": {\"description\": \"valor acumulado significativo de la acción\", \"title\": \"Value\", \"type\": \"number\"}, \"title\": {\"description\": \"título de la noticia\", \"title\": \"Title\", \"type\": \"string\"}, \"url\": {\"description\": \"url de la noticia\", \"title\": \"Url\", \"type\": \"string\"}, \"source\": {\"description\": \"fuente de la noticia\", \"title\": \"Source\", \"type\": \"string\"}, \"explanation\": {\"description\": \"explicación de la relevancia de la noticia para la acción\", \"title\": \"Explanation\", \"type\": \"string\"}}, \"required\": [\"stock\", \"date\", \"value\", \"title\", \"url\", \"source\", \"explanation\"]}\\n```'}, template='Answer the QUERY in Spanish and following the format: {format_instructions}\\n\\nQUERY:\\n\\nEl día {DATE}, el activo financiero con ticker {TICKER} registró un retorno de {RETURN}%, calculado como la variación porcentual entre el precio de cierre de esa fecha y el de la fecha anterior correspondiente según la frecuencia de cálculo definida: {FREQUENCY} (por ejemplo: diaria D, mensual M, trimestral Q o anual Y).\\n\\nExplica los motivos que podrían justificar este movimiento extremo, utilizando noticias relevantes publicadas en torno a esa fecha. Proporciona una explicación fundamentada, la fecha de publicación de la noticia y un enlace a la fuente.')"
      ]
     },
     "execution_count": 6,
     "metadata": {},
     "output_type": "execute_result"
    }
   ],
   "source": [
    "prompt.partial_variables.update({\"format_instructions\": parser.get_format_instructions()})\n",
    "prompt"
   ]
  },
  {
   "attachments": {},
   "cell_type": "markdown",
   "metadata": {},
   "source": [
    "## Chain"
   ]
  },
  {
   "attachments": {},
   "cell_type": "markdown",
   "metadata": {},
   "source": [
    "### Define chain"
   ]
  },
  {
   "cell_type": "code",
   "execution_count": 7,
   "metadata": {},
   "outputs": [
    {
     "data": {
      "text/plain": [
       "PromptTemplate(input_variables=['DATE', 'FREQUENCY', 'RETURN', 'TICKER'], input_types={}, partial_variables={'format_instructions': 'The output should be formatted as a JSON instance that conforms to the JSON schema below.\\n\\nAs an example, for the schema {\"properties\": {\"foo\": {\"title\": \"Foo\", \"description\": \"a list of strings\", \"type\": \"array\", \"items\": {\"type\": \"string\"}}}, \"required\": [\"foo\"]}\\nthe object {\"foo\": [\"bar\", \"baz\"]} is a well-formatted instance of the schema. The object {\"properties\": {\"foo\": [\"bar\", \"baz\"]}} is not well-formatted.\\n\\nHere is the output schema:\\n```\\n{\"properties\": {\"stock\": {\"description\": \"símbolo de la acción\", \"title\": \"Stock\", \"type\": \"string\"}, \"date\": {\"description\": \"fecha de la noticia\", \"title\": \"Date\", \"type\": \"string\"}, \"value\": {\"description\": \"valor acumulado significativo de la acción\", \"title\": \"Value\", \"type\": \"number\"}, \"title\": {\"description\": \"título de la noticia\", \"title\": \"Title\", \"type\": \"string\"}, \"url\": {\"description\": \"url de la noticia\", \"title\": \"Url\", \"type\": \"string\"}, \"source\": {\"description\": \"fuente de la noticia\", \"title\": \"Source\", \"type\": \"string\"}, \"explanation\": {\"description\": \"explicación de la relevancia de la noticia para la acción\", \"title\": \"Explanation\", \"type\": \"string\"}}, \"required\": [\"stock\", \"date\", \"value\", \"title\", \"url\", \"source\", \"explanation\"]}\\n```'}, template='Answer the QUERY in Spanish and following the format: {format_instructions}\\n\\nQUERY:\\n\\nEl día {DATE}, el activo financiero con ticker {TICKER} registró un retorno de {RETURN}%, calculado como la variación porcentual entre el precio de cierre de esa fecha y el de la fecha anterior correspondiente según la frecuencia de cálculo definida: {FREQUENCY} (por ejemplo: diaria D, mensual M, trimestral Q o anual Y).\\n\\nExplica los motivos que podrían justificar este movimiento extremo, utilizando noticias relevantes publicadas en torno a esa fecha. Proporciona una explicación fundamentada, la fecha de publicación de la noticia y un enlace a la fuente.')\n",
       "| ChatOpenAI(client=<openai.resources.chat.completions.completions.Completions object at 0xffff4ff8e3c0>, async_client=<openai.resources.chat.completions.completions.AsyncCompletions object at 0xffff4ffac8f0>, root_client=<openai.OpenAI object at 0xffff50962cf0>, root_async_client=<openai.AsyncOpenAI object at 0xffff4ff8e420>, model_name='gpt-4o-search-preview', model_kwargs={}, openai_api_key=SecretStr('**********'))\n",
       "| PydanticOutputParser(pydantic_object=<class 'modules.models.News'>)"
      ]
     },
     "execution_count": 7,
     "metadata": {},
     "output_type": "execute_result"
    }
   ],
   "source": [
    "chain = prompt | model | parser\n",
    "chain"
   ]
  },
  {
   "attachments": {},
   "cell_type": "markdown",
   "metadata": {},
   "source": [
    "### Preprocess input data"
   ]
  },
  {
   "cell_type": "code",
   "execution_count": 8,
   "metadata": {},
   "outputs": [],
   "source": [
    "ticker = 'AAPL'\n",
    "freq = 'D'"
   ]
  },
  {
   "cell_type": "code",
   "execution_count": 10,
   "metadata": {},
   "outputs": [
    {
     "name": "stdout",
     "output_type": "stream",
     "text": [
      "YF.download() has changed argument auto_adjust default to True\n"
     ]
    },
    {
     "name": "stderr",
     "output_type": "stream",
     "text": [
      "[*********************100%***********************]  1 of 1 completed\n"
     ]
    },
    {
     "data": {
      "text/plain": [
       "Date\n",
       "2024-06-11    7.26492\n",
       "Name: AAPL, dtype: float64"
      ]
     },
     "execution_count": 10,
     "metadata": {},
     "output_type": "execute_result"
    }
   ],
   "source": [
    "from modules import utils\n",
    "\n",
    "r = utils.calculate_significant_returns_simple(\n",
    "    ticker=ticker,\n",
    "    start='2024-01-01',\n",
    "    end='2024-12-31',\n",
    "    freq=freq,\n",
    "    n=1\n",
    ")\n",
    "\n",
    "r"
   ]
  },
  {
   "cell_type": "code",
   "execution_count": 11,
   "metadata": {},
   "outputs": [
    {
     "data": {
      "text/plain": [
       "('2024-06-11', 7.26)"
      ]
     },
     "execution_count": 11,
     "metadata": {},
     "output_type": "execute_result"
    }
   ],
   "source": [
    "date = r.index[0].strftime('%Y-%m-%d')\n",
    "change = round(r.values[0], 2)\n",
    "\n",
    "date, change"
   ]
  },
  {
   "attachments": {},
   "cell_type": "markdown",
   "metadata": {},
   "source": [
    "### Invoke chain"
   ]
  },
  {
   "cell_type": "code",
   "execution_count": 12,
   "metadata": {},
   "outputs": [
    {
     "name": "stdout",
     "output_type": "stream",
     "text": [
      "stock='AAPL' date='2024-06-11' value=7.26 title='La manzana dorada: Acciones de Apple se disparan y alcanzan nuevo récord tras acuerdo con OpenAI' url='https://www.elfinanciero.com.mx/bloomberg/2024/06/11/acciones-de-apple-se-disparan-y-alcalza-nuevo-record-tras-acuerdo-con-chatgpt-openai/' source='El Financiero' explanation='Las acciones de Apple subieron un 7.3% tras anunciar su asociación con OpenAI para incorporar ChatGPT en sus dispositivos, lo que generó expectativas positivas sobre la integración de la inteligencia artificial en sus productos.'\n"
     ]
    }
   ],
   "source": [
    "output = chain.invoke({\n",
    "    'DATE': date,\n",
    "    'RETURN': change,\n",
    "    'TICKER': ticker,\n",
    "    'FREQUENCY': freq\n",
    "})\n",
    "\n",
    "print(output)"
   ]
  },
  {
   "cell_type": "code",
   "execution_count": 13,
   "metadata": {},
   "outputs": [
    {
     "data": {
      "text/plain": [
       "{'stock': 'AAPL',\n",
       " 'date': '2024-06-11',\n",
       " 'value': 7.26,\n",
       " 'title': 'La manzana dorada: Acciones de Apple se disparan y alcanzan nuevo récord tras acuerdo con OpenAI',\n",
       " 'url': 'https://www.elfinanciero.com.mx/bloomberg/2024/06/11/acciones-de-apple-se-disparan-y-alcalza-nuevo-record-tras-acuerdo-con-chatgpt-openai/',\n",
       " 'source': 'El Financiero',\n",
       " 'explanation': 'Las acciones de Apple subieron un 7.3% tras anunciar su asociación con OpenAI para incorporar ChatGPT en sus dispositivos, lo que generó expectativas positivas sobre la integración de la inteligencia artificial en sus productos.'}"
      ]
     },
     "execution_count": 13,
     "metadata": {},
     "output_type": "execute_result"
    }
   ],
   "source": [
    "data = output.model_dump()\n",
    "data"
   ]
  },
  {
   "cell_type": "code",
   "execution_count": 14,
   "metadata": {},
   "outputs": [
    {
     "data": {
      "text/html": [
       "<style type=\"text/css\">\n",
       "</style>\n",
       "<table id=\"T_ca2e1\">\n",
       "  <thead>\n",
       "    <tr>\n",
       "      <th class=\"blank level0\" >&nbsp;</th>\n",
       "      <th id=\"T_ca2e1_level0_col0\" class=\"col_heading level0 col0\" >stock</th>\n",
       "      <th id=\"T_ca2e1_level0_col1\" class=\"col_heading level0 col1\" >date</th>\n",
       "      <th id=\"T_ca2e1_level0_col2\" class=\"col_heading level0 col2\" >value</th>\n",
       "      <th id=\"T_ca2e1_level0_col3\" class=\"col_heading level0 col3\" >title</th>\n",
       "      <th id=\"T_ca2e1_level0_col4\" class=\"col_heading level0 col4\" >url</th>\n",
       "      <th id=\"T_ca2e1_level0_col5\" class=\"col_heading level0 col5\" >source</th>\n",
       "      <th id=\"T_ca2e1_level0_col6\" class=\"col_heading level0 col6\" >explanation</th>\n",
       "    </tr>\n",
       "  </thead>\n",
       "  <tbody>\n",
       "    <tr>\n",
       "      <th id=\"T_ca2e1_level0_row0\" class=\"row_heading level0 row0\" >0</th>\n",
       "      <td id=\"T_ca2e1_row0_col0\" class=\"data row0 col0\" >AAPL</td>\n",
       "      <td id=\"T_ca2e1_row0_col1\" class=\"data row0 col1\" >2024-06-11</td>\n",
       "      <td id=\"T_ca2e1_row0_col2\" class=\"data row0 col2\" >7.260000</td>\n",
       "      <td id=\"T_ca2e1_row0_col3\" class=\"data row0 col3\" >La manzana dorada: Acciones de Apple se disparan y alcanzan nuevo récord tras acuerdo con OpenAI</td>\n",
       "      <td id=\"T_ca2e1_row0_col4\" class=\"data row0 col4\" >https://www.elfinanciero.com.mx/bloomberg/2024/06/11/acciones-de-apple-se-disparan-y-alcalza-nuevo-record-tras-acuerdo-con-chatgpt-openai/</td>\n",
       "      <td id=\"T_ca2e1_row0_col5\" class=\"data row0 col5\" >El Financiero</td>\n",
       "      <td id=\"T_ca2e1_row0_col6\" class=\"data row0 col6\" >Las acciones de Apple subieron un 7.3% tras anunciar su asociación con OpenAI para incorporar ChatGPT en sus dispositivos, lo que generó expectativas positivas sobre la integración de la inteligencia artificial en sus productos.</td>\n",
       "    </tr>\n",
       "  </tbody>\n",
       "</table>\n"
      ],
      "text/plain": [
       "<pandas.io.formats.style.Styler at 0xffff4c6e0320>"
      ]
     },
     "execution_count": 14,
     "metadata": {},
     "output_type": "execute_result"
    }
   ],
   "source": [
    "import pandas as pd\n",
    "pd.DataFrame([data]).style"
   ]
  },
  {
   "cell_type": "markdown",
   "metadata": {},
   "source": [
    "## Multiple days"
   ]
  },
  {
   "cell_type": "code",
   "execution_count": 16,
   "metadata": {},
   "outputs": [
    {
     "name": "stderr",
     "output_type": "stream",
     "text": [
      "[*********************100%***********************]  1 of 1 completed\n"
     ]
    },
    {
     "data": {
      "text/plain": [
       "Date\n",
       "2024-06-11    7.264920\n",
       "2024-05-03    5.981614\n",
       "2024-08-05   -4.816705\n",
       "2024-04-11    4.327102\n",
       "2024-03-21   -4.085741\n",
       "Name: AAPL, dtype: float64"
      ]
     },
     "execution_count": 16,
     "metadata": {},
     "output_type": "execute_result"
    }
   ],
   "source": [
    "r = utils.calculate_significant_returns_simple(\n",
    "    ticker=ticker,\n",
    "    start='2024-01-01',\n",
    "    end='2024-12-31',\n",
    "    freq=freq,\n",
    "    n=5\n",
    ")\n",
    "\n",
    "r"
   ]
  },
  {
   "cell_type": "code",
   "execution_count": 17,
   "metadata": {},
   "outputs": [
    {
     "name": "stdout",
     "output_type": "stream",
     "text": [
      "Error: Invalid json output: El 5 de agosto de 2024, las acciones de Apple Inc. (AAPL) experimentaron una caída significativa del 4,82%. Este descenso se enmarca en un contexto de turbulencias en los mercados financieros globales, conocido como \"lunes negro\", que afectó a diversas bolsas alrededor del mundo.\n",
      "\n",
      "El desplome fue impulsado por el temor a una recesión en Estados Unidos, exacerbado por la creación de solo 114.000 empleos en julio, cifra menor a lo esperado, y un aumento en la tasa de desempleo al 4,3%. Estos factores generaron desconfianza entre los inversores, afectando especialmente a las grandes empresas tecnológicas como Apple. ([elpais.com](https://elpais.com/expres/2024-08-06/claves-del-lunes-negro-en-bolsa-que-significa-para-la-economia-mundial.html?utm_source=openai))\n",
      "\n",
      "Además, la caída de la bolsa japonesa, con el índice Nikkei hundiéndose un 12,4%, su mayor desplome desde 1987, contribuyó a la inestabilidad en los mercados globales. En Wall Street, el índice Nasdaq Composite retrocedió un 3,4%, con Apple cayendo un 4,8%. ([elpais.com](https://elpais.com/expres/2024-08-06/claves-del-lunes-negro-en-bolsa-que-significa-para-la-economia-mundial.html?utm_source=openai))\n",
      "\n",
      "Estos eventos reflejan la sensibilidad de las acciones de Apple a las condiciones macroeconómicas y a la confianza de los inversores en el sector tecnológico.\n",
      "\n",
      "##  Información del mercado de valores para Apple Inc (AAPL)\n",
      "- Apple Inc es un(a) equity en el mercado de USA.\n",
      "- El precio es 198.85 USD actualmente  with a change of 26.26 USD (0.15%) from the previous close.\n",
      "- The latest open price was 172.0 USD and the intraday volume is 183971696.\n",
      "- The intraday high is 200.54 USD and the intraday low is 168.06 USD.\n",
      "- The latest trade time is Wednesday, April 09, 21:56:46 UTC.\n",
      "For troubleshooting, visit: https://python.langchain.com/docs/troubleshooting/errors/OUTPUT_PARSING_FAILURE \n"
     ]
    }
   ],
   "source": [
    "results = []\n",
    "\n",
    "for date, change in r.items():\n",
    "    try:\n",
    "        output = chain.invoke({\n",
    "            'DATE': date.strftime('%Y-%m-%d'),\n",
    "            'RETURN': round(change, 2),\n",
    "            'TICKER': ticker,\n",
    "            'FREQUENCY': freq\n",
    "        })\n",
    "        results.append(output.model_dump())\n",
    "    except Exception as e:\n",
    "        print(f\"Error: {e}\")\n",
    "        continue"
   ]
  },
  {
   "cell_type": "code",
   "execution_count": 19,
   "metadata": {},
   "outputs": [
    {
     "data": {
      "text/html": [
       "<style type=\"text/css\">\n",
       "</style>\n",
       "<table id=\"T_c57a2\">\n",
       "  <thead>\n",
       "    <tr>\n",
       "      <th class=\"blank level0\" >&nbsp;</th>\n",
       "      <th id=\"T_c57a2_level0_col0\" class=\"col_heading level0 col0\" >stock</th>\n",
       "      <th id=\"T_c57a2_level0_col1\" class=\"col_heading level0 col1\" >date</th>\n",
       "      <th id=\"T_c57a2_level0_col2\" class=\"col_heading level0 col2\" >value</th>\n",
       "      <th id=\"T_c57a2_level0_col3\" class=\"col_heading level0 col3\" >title</th>\n",
       "      <th id=\"T_c57a2_level0_col4\" class=\"col_heading level0 col4\" >url</th>\n",
       "      <th id=\"T_c57a2_level0_col5\" class=\"col_heading level0 col5\" >source</th>\n",
       "      <th id=\"T_c57a2_level0_col6\" class=\"col_heading level0 col6\" >explanation</th>\n",
       "    </tr>\n",
       "  </thead>\n",
       "  <tbody>\n",
       "    <tr>\n",
       "      <th id=\"T_c57a2_level0_row0\" class=\"row_heading level0 row0\" >0</th>\n",
       "      <td id=\"T_c57a2_row0_col0\" class=\"data row0 col0\" >AAPL</td>\n",
       "      <td id=\"T_c57a2_row0_col1\" class=\"data row0 col1\" >2024-06-11</td>\n",
       "      <td id=\"T_c57a2_row0_col2\" class=\"data row0 col2\" >7.260000</td>\n",
       "      <td id=\"T_c57a2_row0_col3\" class=\"data row0 col3\" >Acciones de Apple se disparan un 7% tras el anuncio de su propia Inteligencia Artificial</td>\n",
       "      <td id=\"T_c57a2_row0_col4\" class=\"data row0 col4\" >https://nelpr.com/2024/06/11/acciones-de-apple-se-disparan-un-7-tras-el-anuncio-de-su-propia-inteligencia-artificial/</td>\n",
       "      <td id=\"T_c57a2_row0_col5\" class=\"data row0 col5\" >Nelpr</td>\n",
       "      <td id=\"T_c57a2_row0_col6\" class=\"data row0 col6\" >El anuncio de 'Apple Intelligence', la plataforma de inteligencia artificial de Apple, durante la WWDC 2024, generó un optimismo significativo entre los inversores, impulsando el valor de las acciones.</td>\n",
       "    </tr>\n",
       "    <tr>\n",
       "      <th id=\"T_c57a2_level0_row1\" class=\"row_heading level0 row1\" >1</th>\n",
       "      <td id=\"T_c57a2_row1_col0\" class=\"data row1 col0\" >AAPL</td>\n",
       "      <td id=\"T_c57a2_row1_col1\" class=\"data row1 col1\" >2024-05-03</td>\n",
       "      <td id=\"T_c57a2_row1_col2\" class=\"data row1 col2\" >5.980000</td>\n",
       "      <td id=\"T_c57a2_row1_col3\" class=\"data row1 col3\" >Apple informa los resultados del segundo trimestre</td>\n",
       "      <td id=\"T_c57a2_row1_col4\" class=\"data row1 col4\" >https://www.apple.com/es/newsroom/2024/05/apple-reports-second-quarter-results/</td>\n",
       "      <td id=\"T_c57a2_row1_col5\" class=\"data row1 col5\" >Apple Newsroom</td>\n",
       "      <td id=\"T_c57a2_row1_col6\" class=\"data row1 col6\" >El 2 de mayo de 2024, Apple anunció los resultados financieros del segundo trimestre fiscal, reportando ingresos de 90.800 millones de dólares y un beneficio por acción de 1,53 dólares. A pesar de una disminución del 4% en ingresos interanuales, la compañía destacó un récord histórico en ingresos por servicios y anunció un programa de recompra de acciones por 110.000 millones de dólares. Estas noticias positivas probablemente impulsaron la confianza de los inversores, resultando en un aumento significativo del 5,98% en el precio de las acciones de Apple el 3 de mayo de 2024.</td>\n",
       "    </tr>\n",
       "    <tr>\n",
       "      <th id=\"T_c57a2_level0_row2\" class=\"row_heading level0 row2\" >2</th>\n",
       "      <td id=\"T_c57a2_row2_col0\" class=\"data row2 col0\" >AAPL</td>\n",
       "      <td id=\"T_c57a2_row2_col1\" class=\"data row2 col1\" >2024-04-11</td>\n",
       "      <td id=\"T_c57a2_row2_col2\" class=\"data row2 col2\" >4.330000</td>\n",
       "      <td id=\"T_c57a2_row2_col3\" class=\"data row2 col3\" >Apple desarrolla chips de IA para Mac</td>\n",
       "      <td id=\"T_c57a2_row2_col4\" class=\"data row2 col4\" >https://eltiempolatino.com/2024/04/11/economia/sp-500-y-nasdaq-cerraron-con-ganancias-impulsados-por-apple-y-nvidia/</td>\n",
       "      <td id=\"T_c57a2_row2_col5\" class=\"data row2 col5\" >El Tiempo Latino</td>\n",
       "      <td id=\"T_c57a2_row2_col6\" class=\"data row2 col6\" >El informe sobre el desarrollo de chips de inteligencia artificial para Mac por parte de Apple generó optimismo entre los inversores, impulsando el precio de las acciones.</td>\n",
       "    </tr>\n",
       "    <tr>\n",
       "      <th id=\"T_c57a2_level0_row3\" class=\"row_heading level0 row3\" >3</th>\n",
       "      <td id=\"T_c57a2_row3_col0\" class=\"data row3 col0\" >AAPL</td>\n",
       "      <td id=\"T_c57a2_row3_col1\" class=\"data row3 col1\" >2024-03-21</td>\n",
       "      <td id=\"T_c57a2_row3_col2\" class=\"data row3 col2\" >-4.090000</td>\n",
       "      <td id=\"T_c57a2_row3_col3\" class=\"data row3 col3\" >El Departamento de Justicia de Estados Unidos demanda a Apple por prácticas antimonopolio</td>\n",
       "      <td id=\"T_c57a2_row3_col4\" class=\"data row3 col4\" >https://as.com/us/actualidad/por-que-el-departamento-de-justicia-de-estados-unidos-demando-a-apple-n/</td>\n",
       "      <td id=\"T_c57a2_row3_col5\" class=\"data row3 col5\" >AS USA</td>\n",
       "      <td id=\"T_c57a2_row3_col6\" class=\"data row3 col6\" >La demanda acusa a Apple de mantener un monopolio en el mercado de smartphones al restringir el acceso a su hardware y software, lo que podría aumentar los costos para los consumidores y sofocar la innovación. Esta acción legal generó incertidumbre entre los inversores, provocando una caída en el precio de las acciones de la compañía.</td>\n",
       "    </tr>\n",
       "  </tbody>\n",
       "</table>\n"
      ],
      "text/plain": [
       "<pandas.io.formats.style.Styler at 0xffff471b7c80>"
      ]
     },
     "execution_count": 19,
     "metadata": {},
     "output_type": "execute_result"
    }
   ],
   "source": [
    "df = pd.DataFrame([r for r in results])\n",
    "df.style"
   ]
  },
  {
   "cell_type": "markdown",
   "metadata": {},
   "source": [
    "## Export results"
   ]
  },
  {
   "cell_type": "code",
   "execution_count": 20,
   "metadata": {},
   "outputs": [],
   "source": [
    "df.to_csv('outputs/news.xlsx', index=False)"
   ]
  },
  {
   "cell_type": "code",
   "execution_count": 21,
   "metadata": {},
   "outputs": [],
   "source": [
    "df.to_csv('outputs/news.csv', index=False)"
   ]
  }
 ],
 "metadata": {
  "kernelspec": {
   "display_name": "Python 3",
   "language": "python",
   "name": "python3"
  },
  "language_info": {
   "codemirror_mode": {
    "name": "ipython",
    "version": 3
   },
   "file_extension": ".py",
   "mimetype": "text/x-python",
   "name": "python",
   "nbconvert_exporter": "python",
   "pygments_lexer": "ipython3",
   "version": "3.12.9"
  },
  "orig_nbformat": 4
 },
 "nbformat": 4,
 "nbformat_minor": 2
}
